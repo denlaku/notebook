{
 "cells": [
  {
   "cell_type": "code",
   "execution_count": 10,
   "metadata": {},
   "outputs": [],
   "source": [
    "# -*- coding: utf-8 -*-\n",
    "\n",
    "###Task 1 完成评估函数的定义\n",
    "##输入变量为预测值及真实值，返回值相应评估指标，不允许使用除数据结构外的第三方库\n",
    "#precision\n",
    "\n",
    "def metrics_precision(x1,x2):\n",
    "    \n",
    "    #你的定义\n",
    "    score = x1[0] / (x1[0] + x1[1])\n",
    "    return score\n",
    "\n",
    "#recall\n",
    "\n",
    "def metrics_recall(x1,x2):\n",
    "    \n",
    "    #你的定义\n",
    "    score = x1[0] / (x1[0] + x2[1])\n",
    "    return score\n",
    "\t\n",
    "#f1_score\n",
    "\n",
    "def distance_f1_score(x1,x2):\n",
    "    \n",
    "    #你的定义\n",
    "    score = 2 * metrics_precision(x1, x2) / (metrics_precision(x1, x2) + metrics_recall(x1, x2))\n",
    "    return score"
   ]
  },
  {
   "cell_type": "code",
   "execution_count": 11,
   "metadata": {},
   "outputs": [
    {
     "name": "stdout",
     "output_type": "stream",
     "text": [
      "0.75\n",
      "0.5\n",
      "1.2\n"
     ]
    }
   ],
   "source": [
    "predict = [3, 1]\n",
    "truth = [4, 3]\n",
    "\n",
    "print(metrics_precision(predict, truth))\n",
    "print(metrics_recall(predict, truth))\n",
    "print(distance_f1_score(predict, truth))\n"
   ]
  }
 ],
 "metadata": {
  "kernelspec": {
   "display_name": "Python 3",
   "language": "python",
   "name": "python3"
  },
  "language_info": {
   "codemirror_mode": {
    "name": "ipython",
    "version": 3
   },
   "file_extension": ".py",
   "mimetype": "text/x-python",
   "name": "python",
   "nbconvert_exporter": "python",
   "pygments_lexer": "ipython3",
   "version": "3.6.8"
  }
 },
 "nbformat": 4,
 "nbformat_minor": 2
}
