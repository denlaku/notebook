{
 "cells": [
  {
   "cell_type": "code",
   "execution_count": 79,
   "metadata": {},
   "outputs": [
    {
     "name": "stdout",
     "output_type": "stream",
     "text": [
      "[1, 2, 3, 4, 5, 6, 7, 8, 9, 10]\n",
      "[ 1  2  3  4  5  6  7  8  9 10]\n",
      "[ 6  7  8  9 10]\n",
      "int32\n",
      "int32\n",
      "[ 1  2  3  4  5  6  7  8  9 10]\n",
      "[0 0 0 0 0 0 0 0 0 0]\n",
      "(10,)\n",
      "10\n",
      "4\n",
      "  C_CONTIGUOUS : True\n",
      "  F_CONTIGUOUS : True\n",
      "  OWNDATA : True\n",
      "  WRITEABLE : True\n",
      "  ALIGNED : True\n",
      "  WRITEBACKIFCOPY : False\n",
      "  UPDATEIFCOPY : False\n",
      "<memory at 0x00000235B58711C8>\n"
     ]
    }
   ],
   "source": [
    "import numpy as np\n",
    "\n",
    "arr = [1, 2, 3, 4, 5, 6, 7, 8, 9, 10]\n",
    "print(arr)\n",
    "\n",
    "a1 = np.array(arr)\n",
    "print(a1)\n",
    "print(a1[a1 > 5])\n",
    "print(a1.dtype)\n",
    "print(a1.dtype.name)\n",
    "print(a1.real)\n",
    "print(a1.imag)\n",
    "print(a1.shape)\n",
    "print(a1.size)\n",
    "print(a1.itemsize)\n",
    "print(a1.flags)\n",
    "print(a1.data)"
   ]
  },
  {
   "cell_type": "code",
   "execution_count": 56,
   "metadata": {},
   "outputs": [
    {
     "name": "stdout",
     "output_type": "stream",
     "text": [
      "[ 10  20  30  40  50  60  70  80  90 100]\n",
      "[0.1 0.2 0.3 0.4 0.5 0.6 0.7 0.8 0.9 1. ]\n",
      "[1 0 1 0 1 0 1 0 1 0]\n",
      "[0 1 1 2 2 3 3 4 4 5]\n",
      "[11 12 13 14 15 16 17 18 19 20]\n",
      "[-9 -8 -7 -6 -5 -4 -3 -2 -1  0]\n"
     ]
    }
   ],
   "source": [
    "a2 = np.asarray(arr)\n",
    "print(a2 * 10)\n",
    "print(a2 / 10)\n",
    "print(a2 % 2)\n",
    "print(a2 // 2)\n",
    "print(a2+10)\n",
    "print(a2-10)"
   ]
  },
  {
   "cell_type": "code",
   "execution_count": 57,
   "metadata": {},
   "outputs": [
    {
     "name": "stdout",
     "output_type": "stream",
     "text": [
      "[[ 0  1  2  3  4]\n",
      " [ 5  6  7  8  9]\n",
      " [10 11 12 13 14]\n",
      " [15 16 17 18 19]\n",
      " [20 21 22 23 24]]\n",
      "int32\n",
      "int32\n"
     ]
    }
   ],
   "source": [
    "a3 = np.arange(25).reshape((5, 5))\n",
    "print(a3)\n",
    "print(a3.dtype)\n",
    "print(a3.dtype.name)\n",
    "# print(a3.data)\n",
    "# print(a3 + 10)\n",
    "# print(a3 - 10)\n",
    "# print(a3 * 10)\n",
    "# print(a3 / 10)\n",
    "# print(a3 % 3)\n",
    "# print(a3 // 3)"
   ]
  },
  {
   "cell_type": "code",
   "execution_count": 58,
   "metadata": {},
   "outputs": [
    {
     "name": "stdout",
     "output_type": "stream",
     "text": [
      "[1 2]\n",
      "[3 4]\n",
      "1\n",
      "2\n",
      "3\n",
      "4\n"
     ]
    },
    {
     "data": {
      "text/plain": [
       "-2"
      ]
     },
     "execution_count": 58,
     "metadata": {},
     "output_type": "execute_result"
    }
   ],
   "source": [
    "c1 = np.array(['a', 'b', 'a', 'd', 'e'])\n",
    "a2 = np.arange(25).reshape((5, 5))\n",
    "a2\n",
    "a2[0]\n",
    "a2[[0, 1]]\n",
    "a2[a2 > 22]\n",
    "a2\n",
    "a2[c1=='a']\n",
    "\n",
    "a3 = np.array([[1, 2], [3, 4]])\n",
    "a3\n",
    "\n",
    "a4 = np.array([[2, 2], [3, 3]])\n",
    "a4\n",
    "\n",
    "a3 * a4\n",
    "a3 / a4\n",
    "\n",
    "\n",
    "for e in a3:\n",
    "    print(e)\n",
    "a3.flatten()\n",
    "\n",
    "for e in a3.flat:\n",
    "    print(e)\n",
    "\n",
    "for x in np.nditer(a3, op_flags=['readwrite']): \n",
    "    x[...]=2*x \n",
    "a3\n",
    "\n",
    "n = 100\n",
    "np.invert(1)"
   ]
  },
  {
   "cell_type": "code",
   "execution_count": 31,
   "metadata": {},
   "outputs": [
    {
     "data": {
      "text/plain": [
       "array([ True, False,  True, False, False])"
      ]
     },
     "execution_count": 31,
     "metadata": {},
     "output_type": "execute_result"
    }
   ],
   "source": [
    "a = [1, 2, 3, 4]\n",
    "\n",
    "a1=np.array(a)\n",
    "a1[1::2]\n",
    "\n",
    "a1[True]\n",
    "\n",
    "c1 = np.array(['a', 'b', 'a', 'd', 'e'])\n",
    "c1=='a'"
   ]
  },
  {
   "cell_type": "code",
   "execution_count": 61,
   "metadata": {},
   "outputs": [
    {
     "data": {
      "text/plain": [
       "array([1])"
      ]
     },
     "execution_count": 61,
     "metadata": {},
     "output_type": "execute_result"
    }
   ],
   "source": [
    "a_1 = np.arange(20)\n",
    "a_1\n",
    "\n",
    "a_1[1:5:10]"
   ]
  },
  {
   "cell_type": "code",
   "execution_count": 77,
   "metadata": {},
   "outputs": [
    {
     "name": "stdout",
     "output_type": "stream",
     "text": [
      "[0.25 0.3  4.  ]\n",
      "[4.         3.33333333 0.25      ]\n",
      "[1. 2. 3.]\n",
      "[1.         0.5        0.33333333]\n"
     ]
    }
   ],
   "source": [
    "a_2 = np.array([0.25, 0.3, 4])\n",
    "print(a_2)\n",
    "print(np.reciprocal(a_2))\n",
    "\n",
    "a_3 = np.arange(1, 4) * 1.0\n",
    "print(a_3)\n",
    "print(np.reciprocal(a_3))"
   ]
  },
  {
   "cell_type": "code",
   "execution_count": 55,
   "metadata": {},
   "outputs": [
    {
     "data": {
      "text/plain": [
       "8"
      ]
     },
     "execution_count": 55,
     "metadata": {},
     "output_type": "execute_result"
    }
   ],
   "source": [
    "np.power(2, 3)"
   ]
  },
  {
   "cell_type": "code",
   "execution_count": 81,
   "metadata": {},
   "outputs": [
    {
     "ename": "AttributeError",
     "evalue": "'numpy.ndarray' object has no attribute 'cpoy'",
     "output_type": "error",
     "traceback": [
      "\u001b[1;31m---------------------------------------------------------------------------\u001b[0m",
      "\u001b[1;31mAttributeError\u001b[0m                            Traceback (most recent call last)",
      "\u001b[1;32m<ipython-input-81-8f468996acf3>\u001b[0m in \u001b[0;36m<module>\u001b[1;34m\u001b[0m\n\u001b[1;32m----> 1\u001b[1;33m \u001b[0ma_2\u001b[0m\u001b[1;33m.\u001b[0m\u001b[0mcpoy\u001b[0m\u001b[1;33m\u001b[0m\u001b[1;33m\u001b[0m\u001b[0m\n\u001b[0m",
      "\u001b[1;31mAttributeError\u001b[0m: 'numpy.ndarray' object has no attribute 'cpoy'"
     ]
    }
   ],
   "source": [
    "a_2.cpoy"
   ]
  }
 ],
 "metadata": {
  "kernelspec": {
   "display_name": "Python 3",
   "language": "python",
   "name": "python3"
  },
  "language_info": {
   "codemirror_mode": {
    "name": "ipython",
    "version": 3
   },
   "file_extension": ".py",
   "mimetype": "text/x-python",
   "name": "python",
   "nbconvert_exporter": "python",
   "pygments_lexer": "ipython3",
   "version": "3.6.8"
  }
 },
 "nbformat": 4,
 "nbformat_minor": 2
}
