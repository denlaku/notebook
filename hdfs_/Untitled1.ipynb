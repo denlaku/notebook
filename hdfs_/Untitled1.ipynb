{
 "cells": [
  {
   "cell_type": "code",
   "execution_count": 38,
   "metadata": {},
   "outputs": [
    {
     "data": {
      "text/plain": [
       "[FileStatus(accessTime=1563073130765, blockSize=134217728, childrenNum=0, fileId=19942, group='supergroup', length=13, modificationTime=1563073185174, owner='tianx', pathSuffix='aa.txt', permission='755', replication=2, storagePolicy=0, type='FILE'),\n",
       " FileStatus(accessTime=0, blockSize=0, childrenNum=1, fileId=19939, group='supergroup', length=0, modificationTime=1563068053074, owner='tianx', pathSuffix='cc', permission='755', replication=0, storagePolicy=0, type='DIRECTORY'),\n",
       " FileStatus(accessTime=0, blockSize=0, childrenNum=0, fileId=19934, group='supergroup', length=0, modificationTime=1563065788562, owner='tianx', pathSuffix='temp', permission='755', replication=0, storagePolicy=0, type='DIRECTORY'),\n",
       " FileStatus(accessTime=1563067720997, blockSize=134217728, childrenNum=0, fileId=19937, group='supergroup', length=2340, modificationTime=1563067721073, owner='tianx', pathSuffix='vehicle.csv', permission='755', replication=2, storagePolicy=0, type='FILE')]"
      ]
     },
     "execution_count": 38,
     "metadata": {},
     "output_type": "execute_result"
    }
   ],
   "source": [
    "import pyhdfs\n",
    "from pyhdfs import HdfsClient\n",
    "\n",
    "\n",
    "hosts = '10.10.10.11:50070'\n",
    "\n",
    "class Hdfs:\n",
    "    def __init__(self, hosts):\n",
    "        self.fs = HdfsClient(hosts)\n",
    "    \n",
    "    @property\n",
    "    def hosts(self):\n",
    "        return self.fs.hosts\n",
    "    \n",
    "    @property\n",
    "    def user_name(self):\n",
    "        return self.fs.user_name\n",
    "    \n",
    "    def list_status(self, path):\n",
    "        return self.fs.list_status(path)\n",
    "    \n",
    "    def listdir(self, path):\n",
    "        return self.fs.listdir(path)\n",
    "    \n",
    "    def create(self, path, data):\n",
    "        self.fs.create(path, data)\n",
    "        \n",
    "    def append(self, path, data):\n",
    "        self.fs.append(path, data)\n",
    "    \n",
    "    def mkdirs(self, path):\n",
    "        self.fs.mkdirs(path)\n",
    "        \n",
    "    def concat(self, src, dest):\n",
    "        self.fs.concat(src, dest)\n",
    "        \n",
    "    def upload(self, fileName, target):\n",
    "        self.fs.copy_from_local(fileName, target)\n",
    "        \n",
    "    def download(self, src, target):\n",
    "        self.fs.copy_to_local(src, target)\n",
    "        \n",
    "    def delete(self, path):\n",
    "        self.fs.delete(path)\n",
    "        \n",
    "    def exists(self, path):\n",
    "        return self.fs.exists(path)\n",
    "    \n",
    "    def rename(self, src, dest):\n",
    "        if self.exists(src):\n",
    "            self.fs.rename(src, dest)\n",
    "        \n",
    "\n",
    "    \n",
    "    \n",
    "        \n",
    "hdfs = Hdfs(hosts)\n",
    "\n",
    "# hdfs.mkdirs('/pyhdfs/bb')\n",
    "# hdfs.create('/pyhdfs/aa.txt', '')\n",
    "# hdfs.append('/pyhdfs/aa.txt', 'data2')\n",
    "# hdfs.rename('/pyhdfs/aa', '/pyhdfs/cc')\n",
    "# hdfs.upload('vehicle.csv', '/pyhdfs/vehicle.csv')\n",
    "# hdfs.download('/pyhdfs/vehicle.csv', 've.csv')\n",
    "# hdfs.exists('/pyhdfs/temp')\n",
    "# hdfs.download('')\n",
    "# hdfs.hosts\n",
    "# hdfs.user_name\n",
    "# for f in hdfs.list_status(\"/pyhdfs/\"):\n",
    "#     print(f.type)\n",
    "hdfs.list_status(\"/pyhdfs/\")\n",
    "# hdfs.concat('/pyhdfs/aa.txt', ['/pyhdfs/bb.txt'])\n",
    "\n"
   ]
  }
 ],
 "metadata": {
  "kernelspec": {
   "display_name": "Python 3",
   "language": "python",
   "name": "python3"
  },
  "language_info": {
   "codemirror_mode": {
    "name": "ipython",
    "version": 3
   },
   "file_extension": ".py",
   "mimetype": "text/x-python",
   "name": "python",
   "nbconvert_exporter": "python",
   "pygments_lexer": "ipython3",
   "version": "3.7.3"
  }
 },
 "nbformat": 4,
 "nbformat_minor": 2
}
