{
 "cells": [
  {
   "cell_type": "code",
   "execution_count": 2,
   "metadata": {},
   "outputs": [],
   "source": [
    "import sklearn\n",
    "# help(sklearn)\n",
    "# import sklearn.base as base\n",
    "# (base.platform.java_ver())"
   ]
  },
  {
   "cell_type": "markdown",
   "metadata": {},
   "source": [
    "    base\n",
    "    calibration\n",
    "    cluster (package)\n",
    "    compose (package)\n",
    "    covariance (package)\n",
    "    cross_decomposition (package)\n",
    "    datasets (package)\n",
    "    decomposition (package)\n",
    "    discriminant_analysis\n",
    "    dummy\n",
    "    ensemble (package)\n",
    "    exceptions\n",
    "    externals (package)\n",
    "    feature_extraction (package)\n",
    "    feature_selection (package)\n",
    "    gaussian_process (package)\n",
    "    impute\n",
    "    isotonic\n",
    "    kernel_approximation\n",
    "    kernel_ridge\n",
    "    linear_model (package)\n",
    "    manifold (package)\n",
    "    metrics (package)\n",
    "    mixture (package)\n",
    "    model_selection (package)\n",
    "    multiclass\n",
    "    multioutput\n",
    "    naive_bayes\n",
    "    neighbors (package)\n",
    "    neural_network (package)\n",
    "    pipeline\n",
    "    preprocessing (package)\n",
    "    random_projection\n",
    "    semi_supervised (package)\n",
    "    setup\n",
    "    svm (package)\n",
    "    tests (package)\n",
    "    tree (package)\n",
    "    utils (package)"
   ]
  },
  {
   "cell_type": "code",
   "execution_count": 5,
   "metadata": {},
   "outputs": [],
   "source": [
    "# from sklearn import *\n",
    "from sklearn.linear_model import LogisticRegression"
   ]
  }
 ],
 "metadata": {
  "kernelspec": {
   "display_name": "Python 3",
   "language": "python",
   "name": "python3"
  },
  "language_info": {
   "codemirror_mode": {
    "name": "ipython",
    "version": 3
   },
   "file_extension": ".py",
   "mimetype": "text/x-python",
   "name": "python",
   "nbconvert_exporter": "python",
   "pygments_lexer": "ipython3",
   "version": "3.7.3"
  }
 },
 "nbformat": 4,
 "nbformat_minor": 2
}
