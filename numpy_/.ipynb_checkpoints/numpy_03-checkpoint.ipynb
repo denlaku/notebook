{
 "cells": [
  {
   "cell_type": "code",
   "execution_count": 3,
   "metadata": {},
   "outputs": [
    {
     "data": {
      "text/plain": [
       "array(['1', '2', '3'], dtype='<U1')"
      ]
     },
     "execution_count": 3,
     "metadata": {},
     "output_type": "execute_result"
    }
   ],
   "source": [
    "import numpy as np\n",
    "\n",
    "a = [\"1\", \"2\", \"3\"]\n",
    "a1 = np.array(a)\n",
    "\n",
    "a2 = np.char.join(\",\", a)\n",
    "a2\n",
    "\n",
    "np.char.encode('11', 'cp500')\n",
    "np.char.decode(b'\\xf1\\xf1', 'cp500')\n",
    "\n",
    "\"i am a good it\".title()\n",
    "\n",
    "\"i am a good it\".capitalize()\n",
    "\n",
    "\"aaa\".center(20, \"+\")\n",
    "\n",
    "np.char.multiply(\"a\", 3)\n",
    "\n",
    "\"a\".upper()\n",
    "np.char.upper(a)\n"
   ]
  },
  {
   "cell_type": "code",
   "execution_count": 4,
   "metadata": {},
   "outputs": [
    {
     "data": {
      "text/plain": [
       "array([[0.50571326, 0.64993859, 0.44212887],\n",
       "       [0.98036823, 0.07447207, 0.48517471]])"
      ]
     },
     "execution_count": 4,
     "metadata": {},
     "output_type": "execute_result"
    }
   ],
   "source": [
    "np.random.random((2, 3))"
   ]
  },
  {
   "cell_type": "code",
   "execution_count": 9,
   "metadata": {},
   "outputs": [
    {
     "data": {
      "text/plain": [
       "2.718281828459045"
      ]
     },
     "execution_count": 9,
     "metadata": {},
     "output_type": "execute_result"
    }
   ],
   "source": [
    "# 自然数e的n次方\n",
    "np.exp(1)"
   ]
  }
 ],
 "metadata": {
  "kernelspec": {
   "display_name": "Python 3",
   "language": "python",
   "name": "python3"
  },
  "language_info": {
   "codemirror_mode": {
    "name": "ipython",
    "version": 3
   },
   "file_extension": ".py",
   "mimetype": "text/x-python",
   "name": "python",
   "nbconvert_exporter": "python",
   "pygments_lexer": "ipython3",
   "version": "3.6.8"
  }
 },
 "nbformat": 4,
 "nbformat_minor": 2
}
