{
 "cells": [
  {
   "cell_type": "markdown",
   "metadata": {},
   "source": [
    "### normalize\n",
    "是否进行标准化，绝大多数情况下我们认为在线性回归的梯度下降中，标准化是必要的，除非你想刻意突出某些特征\n",
    "### alpha\n",
    "正则化程度，越大表示正则化程度越强。"
   ]
  },
  {
   "cell_type": "code",
   "execution_count": 17,
   "metadata": {},
   "outputs": [],
   "source": [
    "from sklearn.linear_model import LinearRegression\n",
    "from sklearn.linear_model import Ridge\n",
    "from sklearn.linear_model import Lasso\n",
    "\n",
    "\n",
    "model_plain = LinearRegression(normalize = True)\n",
    "model_ridge = Ridge(normalize = True , alpha = 1)\n",
    "model_Lasso = Lasso(normalize = True,  alpha = 1)\n",
    "\n",
    "import pandas as pd\n",
    "import numpy as np\n",
    "import matplotlib.pyplot as plt\n",
    "\n",
    "#读取文件\n",
    "data = pd.read_csv('linear_data.csv')\n",
    "\n",
    "#分离特征标签\n",
    "labels = data['hx']\n",
    "data = data['x'].values.reshape(-1,1)"
   ]
  },
  {
   "cell_type": "code",
   "execution_count": 7,
   "metadata": {},
   "outputs": [
    {
     "data": {
      "text/plain": [
       "<matplotlib.collections.PathCollection at 0x1f65b07d550>"
      ]
     },
     "execution_count": 7,
     "metadata": {},
     "output_type": "execute_result"
    },
    {
     "data": {
      "image/png": "[encoded data removed]",
      "text/plain": [
       "<Figure size 432x288 with 1 Axes>"
      ]
     },
     "metadata": {
      "needs_background": "light"
     },
     "output_type": "display_data"
    }
   ],
   "source": [
    "plt.scatter(data,labels,c='black')"
   ]
  },
  {
   "cell_type": "code",
   "execution_count": 13,
   "metadata": {},
   "outputs": [
    {
     "data": {
      "text/plain": [
       "LinearRegression(copy_X=True, fit_intercept=True, n_jobs=None, normalize=True)"
      ]
     },
     "execution_count": 13,
     "metadata": {},
     "output_type": "execute_result"
    },
    {
     "data": {
      "text/plain": [
       "<matplotlib.collections.PathCollection at 0x1f65c21fc18>"
      ]
     },
     "execution_count": 13,
     "metadata": {},
     "output_type": "execute_result"
    },
    {
     "data": {
      "text/plain": [
       "[<matplotlib.lines.Line2D at 0x1f65c200e10>]"
      ]
     },
     "execution_count": 13,
     "metadata": {},
     "output_type": "execute_result"
    },
    {
     "data": {
      "image/png": "[encoded data removed]",
      "text/plain": [
       "<Figure size 432x288 with 1 Axes>"
      ]
     },
     "metadata": {
      "needs_background": "light"
     },
     "output_type": "display_data"
    }
   ],
   "source": [
    "#训练模型\n",
    "model_plain.fit(data, labels) \n",
    "#生成图像绘制数据\n",
    "x_plot = np.arange(0,11,0.01)\n",
    "y_plot = model_plain.predict(x_plot.reshape(-1,1))\n",
    "\n",
    "#绘制图像\n",
    "plt.scatter(data, labels, c='black')\n",
    "plt.plot(x_plot, y_plot, 'r-')"
   ]
  },
  {
   "cell_type": "code",
   "execution_count": 14,
   "metadata": {},
   "outputs": [
    {
     "name": "stdout",
     "output_type": "stream",
     "text": [
      "MAE 4644.201289443538\n",
      "MSE 31270951.72228097\n",
      "RMSE 5592.043608760662\n",
      "R2 0.9569566641435086\n"
     ]
    }
   ],
   "source": [
    "from sklearn.metrics import mean_absolute_error\n",
    "from sklearn.metrics import mean_squared_error\n",
    "from sklearn.metrics import r2_score\n",
    "#评估结果\n",
    "print('MAE' , mean_absolute_error(labels,model_plain.predict(data.reshape(-1,1))))\n",
    "print('MSE', mean_squared_error(labels,model_plain.predict(data.reshape(-1,1))))\n",
    "print('RMSE', np.sqrt(mean_squared_error(labels,model_plain.predict(data.reshape(-1,1)))))\n",
    "print('R2', r2_score(labels,model_plain.predict(data.reshape(-1,1))))"
   ]
  }
 ],
 "metadata": {
  "kernelspec": {
   "display_name": "Python 3",
   "language": "python",
   "name": "python3"
  },
  "language_info": {
   "codemirror_mode": {
    "name": "ipython",
    "version": 3
   },
   "file_extension": ".py",
   "mimetype": "text/x-python",
   "name": "python",
   "nbconvert_exporter": "python",
   "pygments_lexer": "ipython3",
   "version": "3.7.3"
  }
 },
 "nbformat": 4,
 "nbformat_minor": 2
}
