{
 "cells": [
  {
   "cell_type": "code",
   "execution_count": 1,
   "metadata": {},
   "outputs": [],
   "source": [
    "from pyspark import SparkConf, SparkContext\n",
    "\n",
    "conf = SparkConf().setMaster(\"local\").setAppName(\"First App\")\n",
    "sc = SparkContext.getOrCreate(conf)\n"
   ]
  },
  {
   "cell_type": "code",
   "execution_count": 101,
   "metadata": {},
   "outputs": [
    {
     "name": "stdout",
     "output_type": "stream",
     "text": [
      "1 : 2\n",
      "tom : 1\n",
      "scala : 1\n",
      "2 : 3\n",
      "jeck : 1\n",
      "java : 3\n",
      "3 : 2\n",
      "andy : 1\n",
      "c++ : 1\n",
      "4 : 2\n",
      "nimo : 1\n",
      "5 : 1\n",
      "jon : 1\n"
     ]
    }
   ],
   "source": [
    "results = sc.textFile('wordCount.txt') \\\n",
    ".flatMap(lambda line: line.split(',')) \\\n",
    ".map(lambda word: (word, 1)) \\\n",
    ".reduceByKey(lambda a, b: a + b) \\\n",
    ".collect()\n",
    "# results\n",
    "for word,count in results:\n",
    "    print(word, ':', count)\n"
   ]
  }
 ],
 "metadata": {
  "kernelspec": {
   "display_name": "Python 3",
   "language": "python",
   "name": "python3"
  },
  "language_info": {
   "codemirror_mode": {
    "name": "ipython",
    "version": 3
   },
   "file_extension": ".py",
   "mimetype": "text/x-python",
   "name": "python",
   "nbconvert_exporter": "python",
   "pygments_lexer": "ipython3",
   "version": "3.7.3"
  }
 },
 "nbformat": 4,
 "nbformat_minor": 2
}
