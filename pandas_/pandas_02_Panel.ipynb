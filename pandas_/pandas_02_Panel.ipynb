{
 "cells": [
  {
   "cell_type": "code",
   "execution_count": 1,
   "metadata": {},
   "outputs": [],
   "source": [
    "import pandas as pd\n",
    "import numpy as np"
   ]
  },
  {
   "cell_type": "code",
   "execution_count": 17,
   "metadata": {},
   "outputs": [
    {
     "data": {
      "text/plain": [
       "<class 'pandas.core.panel.Panel'>\n",
       "Dimensions: 0 (items) x 0 (major_axis) x 0 (minor_axis)\n",
       "Items axis: None\n",
       "Major_axis axis: None\n",
       "Minor_axis axis: None"
      ]
     },
     "execution_count": 17,
     "metadata": {},
     "output_type": "execute_result"
    }
   ],
   "source": [
    "pd.Panel()"
   ]
  },
  {
   "cell_type": "code",
   "execution_count": 11,
   "metadata": {},
   "outputs": [
    {
     "data": {
      "text/plain": [
       "array([[[0.77317653, 0.42389428, 0.27566706, 0.46840978],\n",
       "        [0.87762802, 0.33182747, 0.50250892, 0.35327784],\n",
       "        [0.90083196, 0.87869568, 0.19823428, 0.17696254]],\n",
       "\n",
       "       [[0.46982695, 0.63432661, 0.5139793 , 0.61861459],\n",
       "        [0.2523253 , 0.11975589, 0.1318972 , 0.2668968 ],\n",
       "        [0.67468886, 0.94050893, 0.78916578, 0.94185324]]])"
      ]
     },
     "execution_count": 11,
     "metadata": {},
     "output_type": "execute_result"
    }
   ],
   "source": [
    "nd = np.random.rand(2, 3, 4)\n",
    "nd"
   ]
  },
  {
   "cell_type": "code",
   "execution_count": 12,
   "metadata": {},
   "outputs": [
    {
     "data": {
      "text/plain": [
       "<class 'pandas.core.panel.Panel'>\n",
       "Dimensions: 2 (items) x 3 (major_axis) x 4 (minor_axis)\n",
       "Items axis: 0 to 1\n",
       "Major_axis axis: 0 to 2\n",
       "Minor_axis axis: 0 to 3"
      ]
     },
     "execution_count": 12,
     "metadata": {},
     "output_type": "execute_result"
    }
   ],
   "source": [
    "pd.Panel(nd)"
   ]
  },
  {
   "cell_type": "code",
   "execution_count": 18,
   "metadata": {},
   "outputs": [
    {
     "data": {
      "text/html": [
       "<div>\n",
       "<style scoped>\n",
       "    .dataframe tbody tr th:only-of-type {\n",
       "        vertical-align: middle;\n",
       "    }\n",
       "\n",
       "    .dataframe tbody tr th {\n",
       "        vertical-align: top;\n",
       "    }\n",
       "\n",
       "    .dataframe thead th {\n",
       "        text-align: right;\n",
       "    }\n",
       "</style>\n",
       "<table border=\"1\" class=\"dataframe\">\n",
       "  <thead>\n",
       "    <tr style=\"text-align: right;\">\n",
       "      <th></th>\n",
       "      <th>0</th>\n",
       "      <th>1</th>\n",
       "      <th>2</th>\n",
       "    </tr>\n",
       "  </thead>\n",
       "  <tbody>\n",
       "    <tr>\n",
       "      <th>0</th>\n",
       "      <td>1.615309</td>\n",
       "      <td>-2.207881</td>\n",
       "      <td>0.225242</td>\n",
       "    </tr>\n",
       "    <tr>\n",
       "      <th>1</th>\n",
       "      <td>2.120948</td>\n",
       "      <td>-0.672732</td>\n",
       "      <td>0.893032</td>\n",
       "    </tr>\n",
       "    <tr>\n",
       "      <th>2</th>\n",
       "      <td>0.848349</td>\n",
       "      <td>0.871227</td>\n",
       "      <td>-0.484281</td>\n",
       "    </tr>\n",
       "    <tr>\n",
       "      <th>3</th>\n",
       "      <td>-0.220520</td>\n",
       "      <td>0.907396</td>\n",
       "      <td>0.148842</td>\n",
       "    </tr>\n",
       "  </tbody>\n",
       "</table>\n",
       "</div>"
      ],
      "text/plain": [
       "          0         1         2\n",
       "0  1.615309 -2.207881  0.225242\n",
       "1  2.120948 -0.672732  0.893032\n",
       "2  0.848349  0.871227 -0.484281\n",
       "3 -0.220520  0.907396  0.148842"
      ]
     },
     "execution_count": 18,
     "metadata": {},
     "output_type": "execute_result"
    }
   ],
   "source": [
    "data = {'Item1' : pd.DataFrame(np.random.randn(4, 3)), \n",
    "        'Item2' : pd.DataFrame(np.random.randn(4, 2))}\n",
    "p = pd.Panel(data)\n",
    "p['Item1']"
   ]
  },
  {
   "cell_type": "code",
   "execution_count": null,
   "metadata": {},
   "outputs": [],
   "source": []
  }
 ],
 "metadata": {
  "kernelspec": {
   "display_name": "Python 3",
   "language": "python",
   "name": "python3"
  },
  "language_info": {
   "codemirror_mode": {
    "name": "ipython",
    "version": 3
   },
   "file_extension": ".py",
   "mimetype": "text/x-python",
   "name": "python",
   "nbconvert_exporter": "python",
   "pygments_lexer": "ipython3",
   "version": "3.6.8"
  }
 },
 "nbformat": 4,
 "nbformat_minor": 2
}
