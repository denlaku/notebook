{
 "cells": [
  {
   "cell_type": "code",
   "execution_count": 1,
   "metadata": {},
   "outputs": [
    {
     "name": "stdout",
     "output_type": "stream",
     "text": [
      "Counter({'BRCA': 300, 'KIRC': 146, 'LUAD': 141, 'PRAD': 136, 'COAD': 78})\n"
     ]
    },
    {
     "name": "stderr",
     "output_type": "stream",
     "text": [
      "c:\\programs\\python\\python37\\lib\\site-packages\\sklearn\\svm\\base.py:193: FutureWarning: The default value of gamma will change from 'auto' to 'scale' in version 0.22 to account better for unscaled features. Set gamma explicitly to 'auto' or 'scale' to avoid this warning.\n",
      "  \"avoid this warning.\", FutureWarning)\n"
     ]
    },
    {
     "name": "stdout",
     "output_type": "stream",
     "text": [
      "time cosumed 16.315751314163208\n",
      "accuracy=0.37888198757763975\n"
     ]
    },
    {
     "data": {
      "text/plain": [
       "PCA(copy=True, iterated_power='auto', n_components=50, random_state=None,\n",
       "    svd_solver='auto', tol=0.0, whiten=False)"
      ]
     },
     "execution_count": 1,
     "metadata": {},
     "output_type": "execute_result"
    },
    {
     "name": "stdout",
     "output_type": "stream",
     "text": [
      "[0.1583855  0.1050396  0.09472221 0.06500803 0.03615618 0.02972667\n",
      " 0.02657142 0.01562731 0.01407073 0.01226873 0.0096011  0.00890219\n",
      " 0.00758206 0.00723021 0.00664002 0.00637713 0.00569485 0.00517577\n",
      " 0.00462121 0.00445512 0.00443458 0.00406434 0.0039547  0.00373192\n",
      " 0.00368555 0.00355681 0.00348484 0.00316717 0.00310373 0.00295228\n",
      " 0.00289203 0.0027628  0.00273073 0.00262029 0.00251351 0.00251004\n",
      " 0.00240542 0.00235252 0.00231868 0.0022485  0.00221512 0.00217085\n",
      " 0.00210761 0.00209361 0.00207503 0.00202509 0.00195889 0.001951\n",
      " 0.00191054 0.00185842]\n",
      "0.7057126732390311\n"
     ]
    },
    {
     "data": {
      "text/plain": [
       "<Figure size 640x480 with 0 Axes>"
      ]
     },
     "execution_count": 1,
     "metadata": {},
     "output_type": "execute_result"
    },
    {
     "data": {
      "text/plain": [
       "<BarContainer object of 50 artists>"
      ]
     },
     "execution_count": 1,
     "metadata": {},
     "output_type": "execute_result"
    },
    {
     "data": {
      "text/plain": [
       "Text(0.5, 1.0, 'info gain')"
      ]
     },
     "execution_count": 1,
     "metadata": {},
     "output_type": "execute_result"
    },
    {
     "data": {
      "text/plain": [
       "(0, 0.15)"
      ]
     },
     "execution_count": 1,
     "metadata": {},
     "output_type": "execute_result"
    },
    {
     "data": {
      "text/plain": [
       "<Figure size 640x480 with 1 Axes>"
      ]
     },
     "metadata": {},
     "output_type": "display_data"
    }
   ],
   "source": [
    "# -*- coding: utf-8 -*-\n",
    "\n",
    "\n",
    "import numpy as np\n",
    "import pandas as pd\n",
    "import matplotlib.pyplot as plt \n",
    "\n",
    "\n",
    "\n",
    "############################################################\n",
    "########  第一部分，数据准备\n",
    "###########################################################\n",
    "\n",
    "#read the human gene data\n",
    "filename_data = 'data.csv'\n",
    "df= pd.read_csv(filename_data)\n",
    "df_feature = df[(df.columns)[1:]]\n",
    "\n",
    "#read the human gene data label\n",
    "filename_label = 'labels.csv'\n",
    "df_label = pd.read_csv(filename_label)\n",
    "\n",
    "\n",
    "\n",
    "from collections import Counter\n",
    "count = Counter(df_label['Class'])\n",
    "print(count) \n",
    "\n",
    "\n",
    "#spilt the data into training set and test set\n",
    "from sklearn.model_selection import train_test_split\n",
    "feature_train, feature_test, label_train, label_test = train_test_split(df_feature, df_label['Class_num'],test_size = 0.2)\n",
    "\n",
    "\n",
    "#定义一个分类器空白模型，统计准确率，消耗时间\n",
    "def test_algo(model,feature_train, label_train):\n",
    "\n",
    "    #sti time cosumed\n",
    "    import time\n",
    "    starttime = time.time()\n",
    "\n",
    "    # into machine learning process\n",
    "    model.fit(feature_train, label_train)\n",
    "    #make prediction of the gene dataset \n",
    "    label_prediction = model.predict(feature_test)\n",
    "    labels_delta = label_test - label_prediction\n",
    "\n",
    "\n",
    "    endtime = time.time()\n",
    "    time_cosumed = endtime - starttime\n",
    "    print ('time cosumed' + ' ' + str(time_cosumed))\n",
    "\n",
    "    from collections import Counter           \n",
    "    count = Counter(labels_delta)\n",
    "    bingo = count[0]\n",
    "\n",
    "    accuracy = bingo / len(label_test)\n",
    "    print('accuracy' + '=' + str(accuracy))\n",
    "    \n",
    "    \n",
    "    return accuracy,time_cosumed\n",
    "\n",
    "\n",
    "from sklearn.svm import SVC\n",
    "model = SVC(kernel='sigmoid')\n",
    "accuracy_ori, time_ori = test_algo(model,feature_train, label_train)\n",
    "\n",
    "\n",
    "\n",
    "from sklearn.decomposition import PCA \n",
    "\n",
    "n_components=50\n",
    "pca = PCA(n_components)  \n",
    "pca.fit(df_feature)  \n",
    "df_pca = pca.fit_transform(df_feature)\n",
    "\n",
    "#1，求协方差矩阵（去中心）\n",
    "#2，求特征值和特征向量\n",
    "#3,用原始数据沿着特征值向量进行投影\n",
    "\n",
    "\n",
    "print(pca.explained_variance_ratio_)   \n",
    "print(sum(pca.explained_variance_ratio_))\n",
    "\n",
    "plt.figure()\n",
    "plt.bar(range(n_components),pca.explained_variance_ratio_)\n",
    "plt.title('info gain')\n",
    "plt.ylim([0,0.15])\n",
    "plt.show()\n"
   ]
  },
  {
   "cell_type": "code",
   "execution_count": 2,
   "metadata": {},
   "outputs": [
    {
     "name": "stdout",
     "output_type": "stream",
     "text": [
      "time cosumed 0.007776737213134766\n",
      "accuracy=0.8633540372670807\n"
     ]
    },
    {
     "name": "stderr",
     "output_type": "stream",
     "text": [
      "c:\\programs\\python\\python37\\lib\\site-packages\\sklearn\\svm\\base.py:193: FutureWarning: The default value of gamma will change from 'auto' to 'scale' in version 0.22 to account better for unscaled features. Set gamma explicitly to 'auto' or 'scale' to avoid this warning.\n",
      "  \"avoid this warning.\", FutureWarning)\n"
     ]
    },
    {
     "data": {
      "text/plain": [
       "<Figure size 432x288 with 0 Axes>"
      ]
     },
     "execution_count": 2,
     "metadata": {},
     "output_type": "execute_result"
    },
    {
     "data": {
      "text/plain": [
       "<matplotlib.axes._subplots.AxesSubplot at 0x153b8a59128>"
      ]
     },
     "execution_count": 2,
     "metadata": {},
     "output_type": "execute_result"
    },
    {
     "data": {
      "text/plain": [
       "<BarContainer object of 2 artists>"
      ]
     },
     "execution_count": 2,
     "metadata": {},
     "output_type": "execute_result"
    },
    {
     "data": {
      "text/plain": [
       "Text(0.5, 1.0, 'accuracy')"
      ]
     },
     "execution_count": 2,
     "metadata": {},
     "output_type": "execute_result"
    },
    {
     "data": {
      "text/plain": [
       "<matplotlib.axes._subplots.AxesSubplot at 0x153b8b101d0>"
      ]
     },
     "execution_count": 2,
     "metadata": {},
     "output_type": "execute_result"
    },
    {
     "data": {
      "text/plain": [
       "<BarContainer object of 2 artists>"
      ]
     },
     "execution_count": 2,
     "metadata": {},
     "output_type": "execute_result"
    },
    {
     "data": {
      "text/plain": [
       "Text(0.5, 1.0, 'time consumed')"
      ]
     },
     "execution_count": 2,
     "metadata": {},
     "output_type": "execute_result"
    },
    {
     "data": {
      "image/png": "[encoded data removed]",
      "text/plain": [
       "<Figure size 432x288 with 2 Axes>"
      ]
     },
     "metadata": {
      "needs_background": "light"
     },
     "output_type": "display_data"
    }
   ],
   "source": [
    "from sklearn.model_selection import train_test_split\n",
    "feature_train, feature_test, label_train, label_test = train_test_split(df_pca, df_label['Class_num'],test_size = 0.2)\n",
    "\n",
    "\n",
    "model = SVC(kernel='sigmoid')\n",
    "accuracy_pca, time_pac = test_algo(model,feature_train, label_train)\n",
    "\n",
    "plt.figure()\n",
    "plt.subplot(121)\n",
    "plt.bar(['ori','pca'],[accuracy_ori,accuracy_pca])\n",
    "plt.title('accuracy')\n",
    "\n",
    "plt.subplot(122)\n",
    "plt.bar(['ori','pca'],[time_ori,time_pac])\n",
    "plt.title('time consumed')\n",
    "plt.show()"
   ]
  }
 ],
 "metadata": {
  "kernelspec": {
   "display_name": "Python 3",
   "language": "python",
   "name": "python3"
  },
  "language_info": {
   "codemirror_mode": {
    "name": "ipython",
    "version": 3
   },
   "file_extension": ".py",
   "mimetype": "text/x-python",
   "name": "python",
   "nbconvert_exporter": "python",
   "pygments_lexer": "ipython3",
   "version": "3.7.3"
  }
 },
 "nbformat": 4,
 "nbformat_minor": 2
}
