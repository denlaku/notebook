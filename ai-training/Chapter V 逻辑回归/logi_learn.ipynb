{
 "cells": [
  {
   "cell_type": "markdown",
   "metadata": {},
   "source": [
    "+ solver 求解方法 默认为liblinear\n",
    "+ 一般情况下，对于小的数据集，liblinear较好；对于大的数据集，sag速度更快\n",
    "+ liblinear 坐标轴下降法来迭代优化损失函数\n",
    "+ lbfgs 利用损失函数二阶导数矩阵即海森矩阵来迭代优化损失函数\n",
    "+ newton-cg 牛顿法家族的一种，利用损失函数二阶导数矩阵即海森矩阵来迭代优化损失函数\n",
    "+ sag 随机平均梯度下降\n",
    "\n",
    "+ C 正则化强度 默认为1.0\n",
    "\n",
    "+ penalty 正则化方法， L1正则与L2正则，\n",
    "+ L1， newton-cg, lbfgs，sag都要计算损失函数的导数，L1没有连续导数，所以...GG,只能用liblinear\n",
    "+ L2， newton-cg, lbfgs，sag，liblinear都可以使用\n",
    "+ multi_class 多分类方法 默认为ovr\n",
    "+ ovr OvR相对简单，但分类效果相对略差\n",
    "+ multinomial 效果相对会更好 但更耗时\n",
    "+ class_weight 分类权重 默认None\n",
    "+ 接收列表类数据如[1,2]， 表示第一类权重为1，第二类权重为2，用于对付不平衡样本"
   ]
  },
  {
   "cell_type": "code",
   "execution_count": 10,
   "metadata": {},
   "outputs": [
    {
     "name": "stdout",
     "output_type": "stream",
     "text": [
      "0.7217068645640073\n"
     ]
    }
   ],
   "source": [
    "from sklearn.linear_model import LogisticRegression\n",
    "model = LogisticRegression(\n",
    "                            C=1.0, \n",
    "                            class_weight=None, \n",
    "                            multi_class='ovr', \n",
    "                            penalty='l2', \n",
    "                            solver='liblinear'\n",
    "                           )\n",
    "\n",
    "\n",
    "###solver 求解方法 默认为liblinear\n",
    "## 一般情况下，对于小的数据集，liblinear较好；对于大的数据集，sag速度更快\n",
    "#liblinear 坐标轴下降法来迭代优化损失函数\n",
    "#lbfgs 利用损失函数二阶导数矩阵即海森矩阵来迭代优化损失函数\n",
    "#newton-cg 牛顿法家族的一种，利用损失函数二阶导数矩阵即海森矩阵来迭代优化损失函数\n",
    "#sag 随机平均梯度下降\n",
    "\n",
    "###C 正则化强度 默认为1.0\n",
    "\n",
    "###penalty 正则化方法， L1正则与L2正则，\n",
    "#L1， newton-cg, lbfgs，sag都要计算损失函数的导数，L1没有连续导数，所以...GG,只能用liblinear\n",
    "#L2， newton-cg, lbfgs，sag，liblinear都可以使用\n",
    "\n",
    "###multi_class 多分类方法 默认为ovr\n",
    "#ovr OvR相对简单，但分类效果相对略差\n",
    "#multinomial 效果相对会更好 但更耗时\n",
    "\n",
    "###class_weight 分类权重 默认None\n",
    "#接收列表类数据如[1,2]， 表示第一类权重为1，第二类权重为2，用于对付不平衡样本\n",
    "\n",
    "import pandas as pd\n",
    "\n",
    "#读取数据\n",
    "data = pd.read_csv('vehicle.csv')\n",
    "\n",
    "#拿取特征与标签\n",
    "labels = data['label']\n",
    "data = data.drop(['label'],axis = 1)\n",
    "\n",
    "#分离训练集与测试集\n",
    "from sklearn.model_selection import train_test_split\n",
    "feature_train, feature_test, label_train, label_test = train_test_split(data, labels,test_size = 0.2 ,random_state = 1001)\n",
    "\n",
    "#使用定义的模型进行训练\n",
    "model.fit(feature_train, label_train) \n",
    "\n",
    "from sklearn.metrics import f1_score\n",
    "prediction = model.predict(feature_test)\n",
    "\n",
    "#使用f1_score进行评估\n",
    "current_f1 = f1_score(prediction, label_test,average = 'macro')\n",
    "print(current_f1)\n"
   ]
  }
 ],
 "metadata": {
  "kernelspec": {
   "display_name": "Python 3",
   "language": "python",
   "name": "python3"
  },
  "language_info": {
   "codemirror_mode": {
    "name": "ipython",
    "version": 3
   },
   "file_extension": ".py",
   "mimetype": "text/x-python",
   "name": "python",
   "nbconvert_exporter": "python",
   "pygments_lexer": "ipython3",
   "version": "3.7.3"
  }
 },
 "nbformat": 4,
 "nbformat_minor": 2
}
