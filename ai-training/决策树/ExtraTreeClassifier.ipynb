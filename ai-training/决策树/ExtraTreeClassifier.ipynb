{
 "cells": [
  {
   "cell_type": "code",
   "execution_count": 3,
   "metadata": {},
   "outputs": [
    {
     "data": {
      "text/plain": [
       "ExtraTreeClassifier(class_weight=None, criterion='gini', max_depth=None,\n",
       "                    max_features='auto', max_leaf_nodes=None,\n",
       "                    min_impurity_decrease=0.0, min_impurity_split=None,\n",
       "                    min_samples_leaf=1, min_samples_split=2,\n",
       "                    min_weight_fraction_leaf=0.0, random_state=None,\n",
       "                    splitter='random')"
      ]
     },
     "execution_count": 3,
     "metadata": {},
     "output_type": "execute_result"
    },
    {
     "data": {
      "text/plain": [
       "array([2, 0, 1, 2, 2, 0, 2, 2, 0, 0, 1, 1, 2, 0, 0, 0, 1, 0, 0, 1, 0, 1,\n",
       "       2, 0, 0, 1, 2, 1, 1, 1])"
      ]
     },
     "execution_count": 3,
     "metadata": {},
     "output_type": "execute_result"
    },
    {
     "data": {
      "text/plain": [
       "array([ True,  True,  True,  True,  True,  True,  True,  True,  True,\n",
       "        True,  True,  True,  True,  True,  True,  True,  True,  True,\n",
       "        True,  True,  True,  True, False,  True,  True,  True,  True,\n",
       "        True,  True,  True])"
      ]
     },
     "execution_count": 3,
     "metadata": {},
     "output_type": "execute_result"
    },
    {
     "data": {
      "text/plain": [
       "'|--- feature_3 <= 0.22\\n|   |--- class: 0\\n|--- feature_3 >  0.22\\n|   |--- feature_2 <= 4.85\\n|   |   |--- feature_0 <= 4.76\\n|   |   |   |--- class: 0\\n|   |   |--- feature_0 >  4.76\\n|   |   |   |--- feature_3 <= 0.85\\n|   |   |   |   |--- class: 0\\n|   |   |   |--- feature_3 >  0.85\\n|   |   |   |   |--- feature_0 <= 5.64\\n|   |   |   |   |   |--- class: 1\\n|   |   |   |   |--- feature_0 >  5.64\\n|   |   |   |   |   |--- feature_3 <= 1.49\\n|   |   |   |   |   |   |--- class: 1\\n|   |   |   |   |   |--- feature_3 >  1.49\\n|   |   |   |   |   |   |--- feature_3 <= 1.76\\n|   |   |   |   |   |   |   |--- class: 1\\n|   |   |   |   |   |   |--- feature_3 >  1.76\\n|   |   |   |   |   |   |   |--- feature_0 <= 6.20\\n|   |   |   |   |   |   |   |   |--- feature_0 <= 5.95\\n|   |   |   |   |   |   |   |   |   |--- class: 1\\n|   |   |   |   |   |   |   |   |--- feature_0 >  5.95\\n|   |   |   |   |   |   |   |   |   |--- class: 2\\n|   |   |   |   |   |   |   |--- feature_0 >  6.20\\n|   |   |   |   |   |   |   |   |--- class: 2\\n|   |--- feature_2 >  4.85\\n|   |   |--- feature_3 <= 1.51\\n|   |   |   |--- feature_1 <= 2.89\\n|   |   |   |   |--- feature_1 <= 2.28\\n|   |   |   |   |   |--- class: 2\\n|   |   |   |   |--- feature_1 >  2.28\\n|   |   |   |   |   |--- feature_0 <= 6.18\\n|   |   |   |   |   |   |--- class: 2\\n|   |   |   |   |   |--- feature_0 >  6.18\\n|   |   |   |   |   |   |--- feature_1 <= 2.51\\n|   |   |   |   |   |   |   |--- class: 1\\n|   |   |   |   |   |   |--- feature_1 >  2.51\\n|   |   |   |   |   |   |   |--- class: 2\\n|   |   |   |--- feature_1 >  2.89\\n|   |   |   |   |--- class: 1\\n|   |   |--- feature_3 >  1.51\\n|   |   |   |--- feature_3 <= 2.27\\n|   |   |   |   |--- feature_0 <= 6.19\\n|   |   |   |   |   |--- feature_2 <= 5.04\\n|   |   |   |   |   |   |--- class: 2\\n|   |   |   |   |   |--- feature_2 >  5.04\\n|   |   |   |   |   |   |--- feature_3 <= 1.70\\n|   |   |   |   |   |   |   |--- class: 1\\n|   |   |   |   |   |   |--- feature_3 >  1.70\\n|   |   |   |   |   |   |   |--- class: 2\\n|   |   |   |   |--- feature_0 >  6.19\\n|   |   |   |   |   |--- feature_0 <= 6.70\\n|   |   |   |   |   |   |--- feature_3 <= 1.73\\n|   |   |   |   |   |   |   |--- class: 1\\n|   |   |   |   |   |   |--- feature_3 >  1.73\\n|   |   |   |   |   |   |   |--- class: 2\\n|   |   |   |   |   |--- feature_0 >  6.70\\n|   |   |   |   |   |   |--- class: 2\\n|   |   |   |--- feature_3 >  2.27\\n|   |   |   |   |--- class: 2\\n'"
      ]
     },
     "execution_count": 3,
     "metadata": {},
     "output_type": "execute_result"
    }
   ],
   "source": [
    "from sklearn.tree import ExtraTreeClassifier,export_text\n",
    "# ?export_text\n",
    "model = ExtraTreeClassifier(\n",
    "    criterion='gini',\n",
    "    splitter='random',\n",
    "    max_depth=None,\n",
    "    min_samples_split=2,\n",
    "    min_samples_leaf=1,\n",
    "    min_weight_fraction_leaf=0.0,\n",
    "    max_features='auto',\n",
    "    random_state=None,\n",
    "    max_leaf_nodes=None,\n",
    "    min_impurity_decrease=0.0,\n",
    "    min_impurity_split=None,\n",
    "    class_weight=None,\n",
    ")\n",
    "\n",
    "from sklearn.datasets import load_iris\n",
    "iris = load_iris()\n",
    "data = iris.data\n",
    "labels = iris.target\n",
    "\n",
    "\n",
    "from sklearn.model_selection import train_test_split\n",
    "feature_train, feature_test, label_train, label_test = train_test_split(data, labels, test_size=0.2)\n",
    "\n",
    "model.fit(feature_train, label_train)\n",
    "\n",
    "predict = model.predict(feature_test)\n",
    "label_test\n",
    "predict == label_test\n",
    "\n",
    "export_text(\n",
    "    model,\n",
    "    feature_names=None,\n",
    "    max_depth=10,\n",
    "    spacing=3,\n",
    "    decimals=2,\n",
    "    show_weights=False,\n",
    ")\n"
   ]
  }
 ],
 "metadata": {
  "kernelspec": {
   "display_name": "Python 3",
   "language": "python",
   "name": "python3"
  },
  "language_info": {
   "codemirror_mode": {
    "name": "ipython",
    "version": 3
   },
   "file_extension": ".py",
   "mimetype": "text/x-python",
   "name": "python",
   "nbconvert_exporter": "python",
   "pygments_lexer": "ipython3",
   "version": "3.7.3"
  }
 },
 "nbformat": 4,
 "nbformat_minor": 2
}
