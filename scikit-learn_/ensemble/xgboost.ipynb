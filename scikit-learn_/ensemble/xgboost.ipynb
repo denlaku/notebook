{
 "cells": [
  {
   "cell_type": "code",
   "execution_count": 8,
   "metadata": {},
   "outputs": [
    {
     "data": {
      "text/plain": [
       "['DMatrix',\n",
       " 'Booster',\n",
       " 'train',\n",
       " 'cv',\n",
       " 'XGBModel',\n",
       " 'XGBClassifier',\n",
       " 'XGBRegressor',\n",
       " 'XGBRanker',\n",
       " 'XGBRFClassifier',\n",
       " 'XGBRFRegressor',\n",
       " 'plot_importance',\n",
       " 'plot_tree',\n",
       " 'to_graphviz']"
      ]
     },
     "execution_count": 8,
     "metadata": {},
     "output_type": "execute_result"
    }
   ],
   "source": [
    "from xgboost import XGBClassifier\n",
    "import xgboost\n",
    "\n",
    "?XGBClassifier\n",
    "xgboost.__all__"
   ]
  }
 ],
 "metadata": {
  "kernelspec": {
   "display_name": "Python 3",
   "language": "python",
   "name": "python3"
  },
  "language_info": {
   "codemirror_mode": {
    "name": "ipython",
    "version": 3
   },
   "file_extension": ".py",
   "mimetype": "text/x-python",
   "name": "python",
   "nbconvert_exporter": "python",
   "pygments_lexer": "ipython3",
   "version": "3.7.3"
  }
 },
 "nbformat": 4,
 "nbformat_minor": 2
}
