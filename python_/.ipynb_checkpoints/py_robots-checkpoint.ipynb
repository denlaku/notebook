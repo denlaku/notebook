{
 "cells": [
  {
   "cell_type": "markdown",
   "metadata": {},
   "source": [
    "# robots.txt"
   ]
  },
  {
   "cell_type": "code",
   "execution_count": 45,
   "metadata": {},
   "outputs": [
    {
     "name": "stdout",
     "output_type": "stream",
     "text": [
      "can_fetch:  True\n",
      "modified:  None\n",
      "mtime:  1556809019.4127836\n",
      "host:  www.baidu.com\n",
      "[]\n",
      "False\n",
      "False\n"
     ]
    }
   ],
   "source": [
    "import urllib\n",
    "from urllib import robotparser\n",
    "rfp = robotparser.RobotFileParser()\n",
    "rfp.set_url('https://www.baidu.com/robotx.txt')\n",
    "rfp.read() # 读取robots.txt文件\n",
    "\n",
    "can_fetch = rfp.can_fetch(\"Baiduspider\",'https://www.baidu.com/img')\n",
    "print(\"can_fetch: \", can_fetch)\n",
    "\n",
    "modified = rfp.modified()\n",
    "print(\"modified: \", modified)\n",
    "\n",
    "mtime = rfp.mtime()\n",
    "print(\"mtime: \", mtime)\n",
    "\n",
    "host = rfp.host\n",
    "print(\"host: \", host)\n",
    "\n",
    "print(rfp.entries)\n",
    "\n",
    "print(rfp.allow_all)\n",
    "print(rfp.disallow_all)\n"
   ]
  },
  {
   "cell_type": "code",
   "execution_count": 46,
   "metadata": {},
   "outputs": [
    {
     "data": {
      "text/plain": [
       "['__class__',\n",
       " '__delattr__',\n",
       " '__dict__',\n",
       " '__dir__',\n",
       " '__doc__',\n",
       " '__eq__',\n",
       " '__format__',\n",
       " '__ge__',\n",
       " '__getattribute__',\n",
       " '__gt__',\n",
       " '__hash__',\n",
       " '__init__',\n",
       " '__init_subclass__',\n",
       " '__le__',\n",
       " '__lt__',\n",
       " '__module__',\n",
       " '__ne__',\n",
       " '__new__',\n",
       " '__reduce__',\n",
       " '__reduce_ex__',\n",
       " '__repr__',\n",
       " '__setattr__',\n",
       " '__sizeof__',\n",
       " '__str__',\n",
       " '__subclasshook__',\n",
       " '__weakref__',\n",
       " '_add_entry',\n",
       " 'allow_all',\n",
       " 'can_fetch',\n",
       " 'crawl_delay',\n",
       " 'default_entry',\n",
       " 'disallow_all',\n",
       " 'entries',\n",
       " 'host',\n",
       " 'last_checked',\n",
       " 'modified',\n",
       " 'mtime',\n",
       " 'parse',\n",
       " 'path',\n",
       " 'read',\n",
       " 'request_rate',\n",
       " 'set_url',\n",
       " 'url']"
      ]
     },
     "execution_count": 46,
     "metadata": {},
     "output_type": "execute_result"
    }
   ],
   "source": [
    "dir(rfp)"
   ]
  }
 ],
 "metadata": {
  "kernelspec": {
   "display_name": "Python 3",
   "language": "python",
   "name": "python3"
  },
  "language_info": {
   "codemirror_mode": {
    "name": "ipython",
    "version": 3
   },
   "file_extension": ".py",
   "mimetype": "text/x-python",
   "name": "python",
   "nbconvert_exporter": "python",
   "pygments_lexer": "ipython3",
   "version": "3.7.3"
  }
 },
 "nbformat": 4,
 "nbformat_minor": 2
}
