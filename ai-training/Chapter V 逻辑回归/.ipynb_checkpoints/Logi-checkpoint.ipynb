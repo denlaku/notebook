{
 "cells": [
  {
   "cell_type": "code",
   "execution_count": 33,
   "metadata": {},
   "outputs": [
    {
     "name": "stdout",
     "output_type": "stream",
     "text": [
      "0.7217068645640073\n"
     ]
    },
    {
     "data": {
      "text/plain": [
       "[<matplotlib.lines.Line2D at 0x1b425e76860>]"
      ]
     },
     "execution_count": 33,
     "metadata": {},
     "output_type": "execute_result"
    },
    {
     "data": {
      "image/png": "[encoded data removed]",
      "text/plain": [
       "<Figure size 432x288 with 1 Axes>"
      ]
     },
     "metadata": {
      "needs_background": "light"
     },
     "output_type": "display_data"
    }
   ],
   "source": [
    "import pandas as pd\n",
    "import numpy as np\n",
    "import matplotlib.pylab as plt\n",
    "from sklearn.linear_model import LogisticRegression\n",
    "\n",
    "model = LogisticRegression(\n",
    "                            C=1.0, \n",
    "                            class_weight=None, \n",
    "                            multi_class='ovr', \n",
    "                            penalty='l2', \n",
    "                            solver='liblinear'\n",
    "                           )\n",
    "\n",
    "#读取数据\n",
    "data = pd.read_csv('vehicle.csv')\n",
    "#拿取特征与标签\n",
    "labels = data['label']\n",
    "data = data.drop(['label'],axis = 1)\n",
    "\n",
    "#分离训练集与测试集\n",
    "from sklearn.model_selection import train_test_split\n",
    "feature_train, feature_test, label_train, label_test = train_test_split(data, labels,test_size = 0.2 ,random_state = 1001)\n",
    "\n",
    "#使用定义的模型进行训练\n",
    "model.fit(feature_train, label_train)\n",
    "prediction = model.predict(feature_test)\n",
    "\n",
    "from sklearn.metrics import f1_score\n",
    "prediction = model.predict(feature_test)\n",
    "\n",
    "#使用f1_score进行评估\n",
    "current_f1 = f1_score(prediction, label_test,average = 'macro')\n",
    "print(current_f1)\n",
    "\n",
    "plt.scatter(feature_test['length'][label_test=='car'], feature_test['width'][label_test=='car'], c='c')\n",
    "plt.scatter(feature_test['length'][label_test=='truck'], feature_test['width'][label_test=='truck'], c='r')\n",
    "\n",
    "\n",
    "# prediction\n",
    "\n",
    "# print(model.coef_)\n",
    "# print(model.intercept_)\n",
    "\n",
    "coef = model.coef_\n",
    "intercept = model.intercept_\n",
    "\n",
    "# ax + by + c = 0\n",
    "# y = (-ax -c ) / b\n",
    "\n",
    "tt = np.arange(0,11,0.01).reshape(-1,1)\n",
    "y_p = (tt * coef[0, 0] * -1 - intercept)/coef[0,1]\n",
    "\n",
    "plt.plot(tt, y_p, c='g')\n",
    "\n",
    "# coef\n",
    "# y_p\n",
    "# plt.plot*?"
   ]
  }
 ],
 "metadata": {
  "kernelspec": {
   "display_name": "Python 3",
   "language": "python",
   "name": "python3"
  },
  "language_info": {
   "codemirror_mode": {
    "name": "ipython",
    "version": 3
   },
   "file_extension": ".py",
   "mimetype": "text/x-python",
   "name": "python",
   "nbconvert_exporter": "python",
   "pygments_lexer": "ipython3",
   "version": "3.7.3"
  }
 },
 "nbformat": 4,
 "nbformat_minor": 2
}
