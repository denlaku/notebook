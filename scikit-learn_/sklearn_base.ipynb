{
 "cells": [
  {
   "cell_type": "code",
   "execution_count": 2,
   "metadata": {},
   "outputs": [],
   "source": [
    "import sklearn.base as base"
   ]
  },
  {
   "cell_type": "code",
   "execution_count": 5,
   "metadata": {},
   "outputs": [],
   "source": [
    "# dir(base.platform)"
   ]
  },
  {
   "cell_type": "code",
   "execution_count": 8,
   "metadata": {},
   "outputs": [
    {
     "data": {
      "text/plain": [
       "True"
      ]
     },
     "execution_count": 8,
     "metadata": {},
     "output_type": "execute_result"
    }
   ],
   "source": [
    "# help(base.is_classifier)\n",
    "from sklearn.neighbors import KNeighborsClassifier\n",
    "base.is_classifier(KNeighborsClassifier)"
   ]
  },
  {
   "cell_type": "code",
   "execution_count": 7,
   "metadata": {},
   "outputs": [
    {
     "data": {
      "text/plain": [
       "['BaseEstimator',\n",
       " 'BiclusterMixin',\n",
       " 'ClassifierMixin',\n",
       " 'ClusterMixin',\n",
       " 'DensityMixin',\n",
       " 'MetaEstimatorMixin',\n",
       " 'OutlierMixin',\n",
       " 'RegressorMixin',\n",
       " 'TransformerMixin',\n",
       " '_IS_32BIT',\n",
       " '_UnstableArchMixin',\n",
       " '__builtins__',\n",
       " '__cached__',\n",
       " '__doc__',\n",
       " '__file__',\n",
       " '__loader__',\n",
       " '__name__',\n",
       " '__package__',\n",
       " '__spec__',\n",
       " '__version__',\n",
       " '_first_and_last_element',\n",
       " '_pprint',\n",
       " 'clone',\n",
       " 'copy',\n",
       " 'defaultdict',\n",
       " 'is_classifier',\n",
       " 'is_outlier_detector',\n",
       " 'is_regressor',\n",
       " 'np',\n",
       " 'platform',\n",
       " 'signature',\n",
       " 'six',\n",
       " 'sparse',\n",
       " 'warnings']"
      ]
     },
     "execution_count": 7,
     "metadata": {},
     "output_type": "execute_result"
    }
   ],
   "source": [
    "dir(base)"
   ]
  }
 ],
 "metadata": {
  "kernelspec": {
   "display_name": "Python 3",
   "language": "python",
   "name": "python3"
  },
  "language_info": {
   "codemirror_mode": {
    "name": "ipython",
    "version": 3
   },
   "file_extension": ".py",
   "mimetype": "text/x-python",
   "name": "python",
   "nbconvert_exporter": "python",
   "pygments_lexer": "ipython3",
   "version": "3.6.8"
  }
 },
 "nbformat": 4,
 "nbformat_minor": 2
}
