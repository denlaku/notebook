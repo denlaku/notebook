{
 "cells": [
  {
   "cell_type": "code",
   "execution_count": 2,
   "metadata": {},
   "outputs": [
    {
     "data": {
      "text/plain": [
       "['FeaturesData',\n",
       " 'EFstrType',\n",
       " 'Pool',\n",
       " 'CatBoost',\n",
       " 'CatBoostClassifier',\n",
       " 'CatBoostRegressor',\n",
       " 'CatBoostError',\n",
       " 'CatboostError',\n",
       " 'cv',\n",
       " 'train',\n",
       " 'sum_models',\n",
       " 'MetricVisualizer']"
      ]
     },
     "execution_count": 2,
     "metadata": {},
     "output_type": "execute_result"
    }
   ],
   "source": [
    "from catboost import CatBoostClassifier\n",
    "import catboost\n",
    "?CatBoostClassifier\n",
    "catboost.__all__"
   ]
  },
  {
   "cell_type": "code",
   "execution_count": 2,
   "metadata": {},
   "outputs": [
    {
     "name": "stdout",
     "output_type": "stream",
     "text": [
      "0:\tlearn: 0.6634803\ttotal: 8.6ms\tremaining: 8.6ms\n",
      "1:\tlearn: 0.6470317\ttotal: 16.7ms\tremaining: 0us\n"
     ]
    },
    {
     "data": {
      "text/plain": [
       "<catboost.core.CatBoostClassifier at 0x2343dc6a4e0>"
      ]
     },
     "execution_count": 2,
     "metadata": {},
     "output_type": "execute_result"
    },
    {
     "name": "stdout",
     "output_type": "stream",
     "text": [
      "class =  [0. 1. 0. 1. 1. 0. 0. 1. 0. 0. 1. 0. 0. 0. 0. 0. 0. 1. 0. 0. 0. 0. 1. 1.\n",
      " 0. 1. 0. 0. 1. 1. 0. 1. 0. 1. 0. 1. 0. 1. 0. 1. 0. 0. 0. 1. 0. 0. 1. 1.\n",
      " 1. 1. 1. 1. 0. 1. 1. 1. 0. 0. 0. 0. 0. 0. 0. 0. 1. 1. 0. 0. 1. 0. 0. 0.\n",
      " 1. 0. 0. 0. 1. 1. 1. 1. 0. 1. 0. 0. 0. 0. 1. 1. 0. 1. 0. 0. 0. 0. 0. 1.\n",
      " 1. 0. 0. 1.]\n",
      "proba =  [[0.51481358 0.48518642]\n",
      " [0.38380992 0.61619008]\n",
      " [0.64904117 0.35095883]\n",
      " [0.38515995 0.61484005]\n",
      " [0.38515995 0.61484005]\n",
      " [0.58241731 0.41758269]\n",
      " [0.64904117 0.35095883]\n",
      " [0.38515995 0.61484005]\n",
      " [0.58241731 0.41758269]\n",
      " [0.58241731 0.41758269]\n",
      " [0.4565592  0.5434408 ]\n",
      " [0.59419943 0.40580057]\n",
      " [0.64904117 0.35095883]\n",
      " [0.70853101 0.29146899]\n",
      " [0.64904117 0.35095883]\n",
      " [0.59419943 0.40580057]\n",
      " [0.51481358 0.48518642]\n",
      " [0.4565592  0.5434408 ]\n",
      " [0.64904117 0.35095883]\n",
      " [0.51481358 0.48518642]\n",
      " [0.59419943 0.40580057]\n",
      " [0.51481358 0.48518642]\n",
      " [0.38515995 0.61484005]\n",
      " [0.49665413 0.50334587]\n",
      " [0.55480156 0.44519844]\n",
      " [0.38380992 0.61619008]\n",
      " [0.70853101 0.29146899]\n",
      " [0.64904117 0.35095883]\n",
      " [0.49665413 0.50334587]\n",
      " [0.4565592  0.5434408 ]\n",
      " [0.64904117 0.35095883]\n",
      " [0.4565592  0.5434408 ]\n",
      " [0.51481358 0.48518642]\n",
      " [0.4565592  0.5434408 ]\n",
      " [0.59419943 0.40580057]\n",
      " [0.38515995 0.61484005]\n",
      " [0.59419943 0.40580057]\n",
      " [0.4565592  0.5434408 ]\n",
      " [0.51481358 0.48518642]\n",
      " [0.4565592  0.5434408 ]\n",
      " [0.58241731 0.41758269]\n",
      " [0.64904117 0.35095883]\n",
      " [0.64904117 0.35095883]\n",
      " [0.4565592  0.5434408 ]\n",
      " [0.59419943 0.40580057]\n",
      " [0.58241731 0.41758269]\n",
      " [0.4565592  0.5434408 ]\n",
      " [0.38515995 0.61484005]\n",
      " [0.49665413 0.50334587]\n",
      " [0.4565592  0.5434408 ]\n",
      " [0.4565592  0.5434408 ]\n",
      " [0.4565592  0.5434408 ]\n",
      " [0.51481358 0.48518642]\n",
      " [0.4565592  0.5434408 ]\n",
      " [0.49665413 0.50334587]\n",
      " [0.4565592  0.5434408 ]\n",
      " [0.51481358 0.48518642]\n",
      " [0.51481358 0.48518642]\n",
      " [0.55480156 0.44519844]\n",
      " [0.52194891 0.47805109]\n",
      " [0.64904117 0.35095883]\n",
      " [0.51481358 0.48518642]\n",
      " [0.51481358 0.48518642]\n",
      " [0.51481358 0.48518642]\n",
      " [0.4565592  0.5434408 ]\n",
      " [0.4565592  0.5434408 ]\n",
      " [0.51481358 0.48518642]\n",
      " [0.58241731 0.41758269]\n",
      " [0.4565592  0.5434408 ]\n",
      " [0.64904117 0.35095883]\n",
      " [0.51481358 0.48518642]\n",
      " [0.59419943 0.40580057]\n",
      " [0.4565592  0.5434408 ]\n",
      " [0.58241731 0.41758269]\n",
      " [0.64904117 0.35095883]\n",
      " [0.59419943 0.40580057]\n",
      " [0.4565592  0.5434408 ]\n",
      " [0.33028814 0.66971186]\n",
      " [0.4565592  0.5434408 ]\n",
      " [0.4565592  0.5434408 ]\n",
      " [0.59419943 0.40580057]\n",
      " [0.38515995 0.61484005]\n",
      " [0.59419943 0.40580057]\n",
      " [0.64904117 0.35095883]\n",
      " [0.70853101 0.29146899]\n",
      " [0.55480156 0.44519844]\n",
      " [0.26886608 0.73113392]\n",
      " [0.38515995 0.61484005]\n",
      " [0.51481358 0.48518642]\n",
      " [0.4565592  0.5434408 ]\n",
      " [0.59419943 0.40580057]\n",
      " [0.51481358 0.48518642]\n",
      " [0.58241731 0.41758269]\n",
      " [0.51481358 0.48518642]\n",
      " [0.51481358 0.48518642]\n",
      " [0.45017217 0.54982783]\n",
      " [0.4565592  0.5434408 ]\n",
      " [0.58241731 0.41758269]\n",
      " [0.51481358 0.48518642]\n",
      " [0.38515995 0.61484005]]\n"
     ]
    }
   ],
   "source": [
    "import numpy as np\n",
    "from catboost import CatBoostClassifier, Pool\n",
    "\n",
    "# initialize data\n",
    "train_data = np.random.randint(0,\n",
    "                               100, \n",
    "                               size=(100, 10))\n",
    "\n",
    "train_labels = np.random.randint(0,\n",
    "                                 2,\n",
    "                                 size=(100))\n",
    "\n",
    "test_data = catboost_pool = Pool(train_data, \n",
    "                                 train_labels)\n",
    "\n",
    "model = CatBoostClassifier(iterations=2,\n",
    "                           depth=2,\n",
    "                           learning_rate=1,\n",
    "                           loss_function='Logloss',\n",
    "                           verbose=True)\n",
    "# train the model\n",
    "model.fit(train_data, train_labels)\n",
    "# make the prediction using the resulting model\n",
    "preds_class = model.predict(test_data)\n",
    "preds_proba = model.predict_proba(test_data)\n",
    "print(\"class = \", preds_class)\n",
    "print(\"proba = \", preds_proba)"
   ]
  },
  {
   "cell_type": "code",
   "execution_count": 3,
   "metadata": {},
   "outputs": [
    {
     "name": "stdout",
     "output_type": "stream",
     "text": [
      "0:\tlearn: 280.7743126\ttotal: 8.48ms\tremaining: 8.48ms\n",
      "1:\tlearn: 264.1214251\ttotal: 16.1ms\tremaining: 0us\n"
     ]
    },
    {
     "data": {
      "text/plain": [
       "<catboost.core.CatBoostRegressor at 0x2343dc6aa20>"
      ]
     },
     "execution_count": 3,
     "metadata": {},
     "output_type": "execute_result"
    },
    {
     "name": "stdout",
     "output_type": "stream",
     "text": [
      "[342.09789983 541.83078063 379.08011327 379.08011327 550.04813665\n",
      " 541.83078063 379.08011327 541.83078063 379.08011327 541.83078063\n",
      " 379.08011327 541.83078063 550.04813665 379.08011327 541.83078063\n",
      " 541.83078063 342.09789983 550.04813665 379.08011327 379.08011327\n",
      " 379.08011327 379.08011327 379.08011327 550.04813665 379.08011327\n",
      " 379.08011327 379.08011327 550.04813665 550.04813665 550.04813665\n",
      " 379.08011327 541.83078063 379.08011327 379.08011327 379.08011327\n",
      " 379.08011327 550.04813665 541.83078063 379.08011327 541.83078063\n",
      " 379.08011327 541.83078063 550.04813665 342.09789983 550.04813665\n",
      " 504.84856719 379.08011327 379.08011327 504.84856719 504.84856719]\n"
     ]
    }
   ],
   "source": [
    "import numpy as np\n",
    "from catboost import Pool, CatBoostRegressor\n",
    "# initialize data\n",
    "train_data = np.random.randint(0, \n",
    "                               100, \n",
    "                               size=(100, 10))\n",
    "train_label = np.random.randint(0, \n",
    "                                1000, \n",
    "                                size=(100))\n",
    "test_data = np.random.randint(0, \n",
    "                              100, \n",
    "                              size=(50, 10))\n",
    "# initialize Pool\n",
    "train_pool = Pool(train_data, \n",
    "                  train_label, \n",
    "                  cat_features=[0,2,5])\n",
    "test_pool = Pool(test_data, \n",
    "                 cat_features=[0,2,5]) \n",
    "\n",
    "# specify the training parameters \n",
    "model = CatBoostRegressor(iterations=2, \n",
    "                          depth=2, \n",
    "                          learning_rate=1, \n",
    "                          loss_function='RMSE')\n",
    "#train the model\n",
    "model.fit(train_pool)\n",
    "# make the prediction using the resulting model\n",
    "preds = model.predict(test_pool)\n",
    "print(preds)"
   ]
  }
 ],
 "metadata": {
  "kernelspec": {
   "display_name": "Python 3",
   "language": "python",
   "name": "python3"
  },
  "language_info": {
   "codemirror_mode": {
    "name": "ipython",
    "version": 3
   },
   "file_extension": ".py",
   "mimetype": "text/x-python",
   "name": "python",
   "nbconvert_exporter": "python",
   "pygments_lexer": "ipython3",
   "version": "3.7.3"
  }
 },
 "nbformat": 4,
 "nbformat_minor": 2
}
