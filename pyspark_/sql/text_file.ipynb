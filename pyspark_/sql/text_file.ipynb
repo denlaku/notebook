{
 "cells": [
  {
   "cell_type": "code",
   "execution_count": 18,
   "metadata": {
    "scrolled": false
   },
   "outputs": [
    {
     "name": "stdout",
     "output_type": "stream",
     "text": [
      "+-----+---+\n",
      "| name|age|\n",
      "+-----+---+\n",
      "|wendy| 20|\n",
      "| kity| 22|\n",
      "| demo| 23|\n",
      "+-----+---+\n",
      "\n"
     ]
    }
   ],
   "source": [
    "from pyspark import SparkConf, SparkContext\n",
    "from pyspark.sql import SQLContext\n",
    "from pyspark.sql.types import Row, StructType, StructField, StringType, IntegerType\n",
    "\n",
    "conf = SparkConf().setMaster('local').setAppName('First')\n",
    "sc = SparkContext.getOrCreate(conf)\n",
    "sqlContext = SQLContext(sc)\n",
    "\n",
    "\n",
    "class People():\n",
    "    def __init__(self, id, name):\n",
    "        self.name = name\n",
    "        self.id = id\n",
    "\n",
    "def get_people(line):\n",
    "    splits = line.split(',')\n",
    "    id = splits[0]\n",
    "    name = splits[1]\n",
    "    return People(id, name)\n",
    "\n",
    "def get_row(line):\n",
    "    splits = line.split(',')\n",
    "    name = splits[0]\n",
    "    age = int(splits[1])\n",
    "    return Row(name, age)\n",
    "\n",
    "# rdd = sc.textFile('people.txt').map(lambda line: get_people(line))\n",
    "rdd = sc.textFile('people.txt').map(lambda line: get_row(line))\n",
    "\n",
    "# 方法一\n",
    "# df = rdd.toDF()\n",
    "\n",
    "# 方法二\n",
    "structType = StructType([StructField(\"name\", StringType(), True), StructField(\"age\", IntegerType(), True)])\n",
    "df = sqlContext.createDataFrame(rdd, structType)\n",
    "\n",
    "df.createOrReplaceTempView(\"people\")\n",
    "sqlContext.sql(\"select * from people\").show()\n"
   ]
  }
 ],
 "metadata": {
  "kernelspec": {
   "display_name": "Python 3",
   "language": "python",
   "name": "python3"
  },
  "language_info": {
   "codemirror_mode": {
    "name": "ipython",
    "version": 3
   },
   "file_extension": ".py",
   "mimetype": "text/x-python",
   "name": "python",
   "nbconvert_exporter": "python",
   "pygments_lexer": "ipython3",
   "version": "3.7.3"
  }
 },
 "nbformat": 4,
 "nbformat_minor": 2
}
