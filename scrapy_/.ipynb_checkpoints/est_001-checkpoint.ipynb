{
 "cells": [
  {
   "cell_type": "code",
   "execution_count": 131,
   "metadata": {},
   "outputs": [
    {
     "ename": "SyntaxError",
     "evalue": "name 'ips' is used prior to global declaration (<ipython-input-131-c36a5bd979fa>, line 59)",
     "output_type": "error",
     "traceback": [
      "\u001b[1;36m  File \u001b[1;32m\"<ipython-input-131-c36a5bd979fa>\"\u001b[1;36m, line \u001b[1;32m59\u001b[0m\n\u001b[1;33m    counts = {}\u001b[0m\n\u001b[1;37m           ^\u001b[0m\n\u001b[1;31mSyntaxError\u001b[0m\u001b[1;31m:\u001b[0m name 'ips' is used prior to global declaration\n"
     ]
    }
   ],
   "source": [
    "import scrapy\n",
    "import time\n",
    "class MyItem(scrapy.Item):\n",
    "    name = scrapy.Field()\n",
    "    age = scrapy.Field()\n",
    "    \n",
    "i = MyItem()\n",
    "i['name'] = 'tom'\n",
    "\n",
    "i['name']\n",
    "\n",
    "# help(i)\n",
    "\n",
    "import requests\n",
    "\n",
    "ip_api = 'http://webapi.http.zhimacangku.com/getip?num=15&type=2&pro=&city=0&yys=0&port=11&pack=51634&ts=0&ys=0&cs=0&lb=1&sb=0&pb=4&mr=1&regions='\n",
    "def get_ips():\n",
    "    response = requests.get(ip_api)\n",
    "    json = response.json()\n",
    "    if json != None and json['success']:\n",
    "        data = json['data']\n",
    "        ips = []\n",
    "        for one in data:\n",
    "            ips.append(one['ip'] + \":\" + str(one['port']))\n",
    "        return ips\n",
    "    time.sleep(3)\n",
    "    return get_ips()\n",
    "\n",
    "\n",
    "# def ip_func():\n",
    "#     ips = []\n",
    "#     counts = {}\n",
    "#     def get_ips_counts():\n",
    "#         if len(ips) <= 0:\n",
    "#             global ips\n",
    "#             global counts\n",
    "#             ips = get_ips()\n",
    "#             counts = {}\n",
    "#         return ips, counts\n",
    "#     return get_ips_counts\n",
    "\n",
    "# ips_counts = ip_func()\n",
    "\n",
    "ips = get_ips()\n",
    "counts = {}\n",
    "\n",
    "def get_ip():\n",
    "    global ips\n",
    "    global counts\n",
    "    l = len(ips)\n",
    "    if l > 0:\n",
    "        ip = ips[l - 1]\n",
    "        if counts.get(ip, 0) < 10:\n",
    "            counts[ip] = counts.get(ip, 0) + 1\n",
    "            if counts.get(ip, 0) >= 10:\n",
    "                ips.pop()\n",
    "            return ip\n",
    "    ips = get_ips()\n",
    "    counts = {}\n",
    "\n",
    "\n"
   ]
  },
  {
   "cell_type": "code",
   "execution_count": 130,
   "metadata": {},
   "outputs": [
    {
     "ename": "UnboundLocalError",
     "evalue": "local variable 'ips' referenced before assignment",
     "output_type": "error",
     "traceback": [
      "\u001b[1;31m---------------------------------------------------------------------------\u001b[0m",
      "\u001b[1;31mUnboundLocalError\u001b[0m                         Traceback (most recent call last)",
      "\u001b[1;32m<ipython-input-130-6f32a3337f92>\u001b[0m in \u001b[0;36m<module>\u001b[1;34m\u001b[0m\n\u001b[1;32m----> 1\u001b[1;33m \u001b[0mprint\u001b[0m\u001b[1;33m(\u001b[0m\u001b[0mget_ip\u001b[0m\u001b[1;33m(\u001b[0m\u001b[1;33m)\u001b[0m\u001b[1;33m)\u001b[0m\u001b[1;33m\u001b[0m\u001b[1;33m\u001b[0m\u001b[0m\n\u001b[0m",
      "\u001b[1;32m<ipython-input-129-6f9135bb70f6>\u001b[0m in \u001b[0;36mget_ip\u001b[1;34m()\u001b[0m\n\u001b[0;32m     46\u001b[0m \u001b[1;33m\u001b[0m\u001b[0m\n\u001b[0;32m     47\u001b[0m \u001b[1;32mdef\u001b[0m \u001b[0mget_ip\u001b[0m\u001b[1;33m(\u001b[0m\u001b[1;33m)\u001b[0m\u001b[1;33m:\u001b[0m\u001b[1;33m\u001b[0m\u001b[1;33m\u001b[0m\u001b[0m\n\u001b[1;32m---> 48\u001b[1;33m     \u001b[0ml\u001b[0m \u001b[1;33m=\u001b[0m \u001b[0mlen\u001b[0m\u001b[1;33m(\u001b[0m\u001b[0mips\u001b[0m\u001b[1;33m)\u001b[0m\u001b[1;33m\u001b[0m\u001b[1;33m\u001b[0m\u001b[0m\n\u001b[0m\u001b[0;32m     49\u001b[0m     \u001b[1;32mif\u001b[0m \u001b[0ml\u001b[0m \u001b[1;33m>\u001b[0m \u001b[1;36m0\u001b[0m\u001b[1;33m:\u001b[0m\u001b[1;33m\u001b[0m\u001b[1;33m\u001b[0m\u001b[0m\n\u001b[0;32m     50\u001b[0m         \u001b[0mip\u001b[0m \u001b[1;33m=\u001b[0m \u001b[0mips\u001b[0m\u001b[1;33m[\u001b[0m\u001b[0ml\u001b[0m \u001b[1;33m-\u001b[0m \u001b[1;36m1\u001b[0m\u001b[1;33m]\u001b[0m\u001b[1;33m\u001b[0m\u001b[1;33m\u001b[0m\u001b[0m\n",
      "\u001b[1;31mUnboundLocalError\u001b[0m: local variable 'ips' referenced before assignment"
     ]
    }
   ],
   "source": [
    "print(get_ip())"
   ]
  }
 ],
 "metadata": {
  "kernelspec": {
   "display_name": "Python 3",
   "language": "python",
   "name": "python3"
  },
  "language_info": {
   "codemirror_mode": {
    "name": "ipython",
    "version": 3
   },
   "file_extension": ".py",
   "mimetype": "text/x-python",
   "name": "python",
   "nbconvert_exporter": "python",
   "pygments_lexer": "ipython3",
   "version": "3.7.3"
  }
 },
 "nbformat": 4,
 "nbformat_minor": 2
}
