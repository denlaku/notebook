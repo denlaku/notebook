{
 "cells": [
  {
   "cell_type": "code",
   "execution_count": null,
   "metadata": {},
   "outputs": [],
   "source": [
    "import java.text.DecimalFormat;\n",
    "\n",
    "DecimalFormat df = new DecimalFormat(\"00.000\");\n",
    "df.format(11233);"
   ]
  },
  {
   "cell_type": "code",
   "execution_count": null,
   "metadata": {},
   "outputs": [],
   "source": [
    "import java.util.List;\n",
    "import java.util.ArrayList;\n",
    "List<String> list = new ArrayList<>();\n",
    "list.add(\"111\");\n",
    "list.add(null);\n",
    "list.addAll(List.of(\"12\", \"13\"));\n",
    "System.out.println(list);\n",
    "\n",
    "StringJoiner sj = new StringJoiner(\",\", \"<\", \">\");\n",
    "sj.add(\"1\");\n",
    "sj.add(\"2\");\n",
    "sj.toString();"
   ]
  }
 ],
 "metadata": {
  "kernelspec": {
   "display_name": "Java",
   "language": "java",
   "name": "java"
  },
  "language_info": {
   "codemirror_mode": "java",
   "file_extension": ".java",
   "mimetype": "text/x-java-source",
   "name": "Java",
   "pygments_lexer": "java",
   "version": "11.0.1+13-LTS"
  }
 },
 "nbformat": 4,
 "nbformat_minor": 2
}
