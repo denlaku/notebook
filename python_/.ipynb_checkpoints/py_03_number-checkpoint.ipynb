{
 "cells": [
  {
   "cell_type": "code",
   "execution_count": 12,
   "metadata": {},
   "outputs": [
    {
     "name": "stdout",
     "output_type": "stream",
     "text": [
      "100\n",
      "23243453434345464545555555555555555555555555555555555559999\n",
      "23.67565\n",
      "(22+3j)\n",
      "6\n",
      "(103-0j)\n"
     ]
    }
   ],
   "source": [
    "# int long float complex\n",
    "i = 100\n",
    "l = 23243453434345464545555555555555555555555555555555555559999\n",
    "f = 23.67565\n",
    "c = 22 + 3j\n",
    "print(i)\n",
    "print(l)\n",
    "print(f)\n",
    "print(c)\n",
    "\n",
    "print(int('20', 3))\n",
    "print(complex(100, -3j))\n"
   ]
  }
 ],
 "metadata": {
  "kernelspec": {
   "display_name": "Python 3",
   "language": "python",
   "name": "python3"
  },
  "language_info": {
   "codemirror_mode": {
    "name": "ipython",
    "version": 3
   },
   "file_extension": ".py",
   "mimetype": "text/x-python",
   "name": "python",
   "nbconvert_exporter": "python",
   "pygments_lexer": "ipython3",
   "version": "3.6.8"
  }
 },
 "nbformat": 4,
 "nbformat_minor": 2
}
