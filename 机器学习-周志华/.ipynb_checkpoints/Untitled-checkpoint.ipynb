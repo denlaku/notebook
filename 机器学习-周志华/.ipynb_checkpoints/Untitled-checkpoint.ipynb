{
 "cells": [
  {
   "cell_type": "code",
   "execution_count": 34,
   "metadata": {},
   "outputs": [
    {
     "data": {
      "text/plain": [
       "array([0.243, 0.245, 0.343, 0.36 , 0.403, 0.437, 0.481, 0.556, 0.593,\n",
       "       0.608, 0.634, 0.639, 0.657, 0.666, 0.697, 0.719, 0.774])"
      ]
     },
     "execution_count": 34,
     "metadata": {},
     "output_type": "execute_result"
    },
    {
     "data": {
      "text/plain": [
       "[0.244,\n",
       " 0.294,\n",
       " 0.352,\n",
       " 0.382,\n",
       " 0.42,\n",
       " 0.459,\n",
       " 0.518,\n",
       " 0.574,\n",
       " 0.6,\n",
       " 0.621,\n",
       " 0.637,\n",
       " 0.648,\n",
       " 0.662,\n",
       " 0.682,\n",
       " 0.708,\n",
       " 0.746]"
      ]
     },
     "execution_count": 34,
     "metadata": {},
     "output_type": "execute_result"
    },
    {
     "data": {
      "text/plain": [
       "array([0.042, 0.057, 0.091, 0.099, 0.103, 0.149, 0.161, 0.198, 0.211,\n",
       "       0.215, 0.237, 0.246, 0.267, 0.318, 0.37 , 0.376, 0.46 ])"
      ]
     },
     "execution_count": 34,
     "metadata": {},
     "output_type": "execute_result"
    },
    {
     "data": {
      "text/plain": [
       "[0.05,\n",
       " 0.074,\n",
       " 0.095,\n",
       " 0.101,\n",
       " 0.126,\n",
       " 0.155,\n",
       " 0.18,\n",
       " 0.205,\n",
       " 0.213,\n",
       " 0.226,\n",
       " 0.242,\n",
       " 0.256,\n",
       " 0.292,\n",
       " 0.344,\n",
       " 0.373,\n",
       " 0.418]"
      ]
     },
     "execution_count": 34,
     "metadata": {},
     "output_type": "execute_result"
    }
   ],
   "source": [
    "import pandas as pd\n",
    "\n",
    "df = pd.read_excel('watermelon.xlsx')\n",
    "\n",
    "values1 = df['密度'].sort_values().values\n",
    "mids1 = [round((values1[i] + values1[i+1])/2, 3) for i in range(len(values1)-1)]\n",
    "values1\n",
    "mids1\n",
    "\n",
    "values2 = df['含糖率'].sort_values().values\n",
    "mids2 = [round((values2[i] + values2[i+1])/2, 3) for i in range(len(values2)-1)]\n",
    "values2\n",
    "mids2\n",
    "\n",
    "df.sort_values('含糖率')\n"
   ]
  }
 ],
 "metadata": {
  "kernelspec": {
   "display_name": "Python 3",
   "language": "python",
   "name": "python3"
  },
  "language_info": {
   "codemirror_mode": {
    "name": "ipython",
    "version": 3
   },
   "file_extension": ".py",
   "mimetype": "text/x-python",
   "name": "python",
   "nbconvert_exporter": "python",
   "pygments_lexer": "ipython3",
   "version": "3.7.3"
  }
 },
 "nbformat": 4,
 "nbformat_minor": 2
}
