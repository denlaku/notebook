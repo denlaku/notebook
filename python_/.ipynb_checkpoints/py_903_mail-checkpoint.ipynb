{
 "cells": [
  {
   "cell_type": "code",
   "execution_count": 2,
   "metadata": {},
   "outputs": [],
   "source": [
    "import email\n",
    "from email.mime import (multipart, text)\n",
    "import smtplib"
   ]
  },
  {
   "cell_type": "code",
   "execution_count": null,
   "metadata": {},
   "outputs": [],
   "source": [
    "print(email.__all__)\n",
    "\n",
    "msg = multipart.MIMEMultipart()\n",
    "msg['from'] = 'ustchacker@tom.com'\n",
    "msg['to'] = 'blablabla@aliyun.com'\n",
    "msg['subject'] = 'test'\n",
    "content = '''\n",
    "Hello World\n",
    "'''\n",
    "\n",
    "txt = text.MIMEText(content)\n",
    "msg.attach(txt)\n",
    "smtp = smtplib\n",
    "smtp = smtplib.SMTP()\n",
    "smtp.connect('smtp.qq.com')\n",
    "smtp.login('1274409336@qq.com', 'sqoyhudacsddjdci')\n",
    "smtp.sendmail('1274409336@qq.com', '1274409336@qq.com', str(msg))\n",
    "smtp.quit()\n",
    "\n",
    "print(\"-----------------------------\")"
   ]
  }
 ],
 "metadata": {
  "kernelspec": {
   "display_name": "Python 3",
   "language": "python",
   "name": "python3"
  },
  "language_info": {
   "codemirror_mode": {
    "name": "ipython",
    "version": 3
   },
   "file_extension": ".py",
   "mimetype": "text/x-python",
   "name": "python",
   "nbconvert_exporter": "python",
   "pygments_lexer": "ipython3",
   "version": "3.6.8"
  }
 },
 "nbformat": 4,
 "nbformat_minor": 2
}
