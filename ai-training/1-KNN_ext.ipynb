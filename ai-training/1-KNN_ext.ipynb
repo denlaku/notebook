{
 "cells": [
  {
   "cell_type": "code",
   "execution_count": 79,
   "metadata": {},
   "outputs": [],
   "source": [
    "# -*- coding: utf-8 -*-\n",
    "\n",
    "import numpy as np\n",
    "\n",
    "###Task 1 完成距离度量函数的定义\n",
    "##输入变量为两个向量，返回值为距离，不允许使用除数据结构外的第三方库\n",
    "#曼哈顿距离\n",
    "\n",
    "def distance_manhattan(x1,x2):\n",
    "    \n",
    "    #你的定义\n",
    "    distance = np.sum(np.abs(x1 - x2))\n",
    "    return distance\n",
    "    \n",
    "#欧式距离\n",
    "def distance_euclidean(x1,x2):\n",
    "    \n",
    "    #你的定义\n",
    "    distance = np.sqrt(np.sum((x1 - x2) ** 2))\n",
    "#     distance = np.sum((x1 - x2) ** 2) ** 0.5\n",
    "    return distance\n",
    "\n",
    "\n",
    "#余弦相似度\n",
    "def distance_cosine(x1,x2):\n",
    "    \n",
    "    #你的定义\n",
    "    distance = np.sum(x1 * x2) / ( np.sqrt(np.sum(x1 ** 2)) * np.sqrt(np.sum(x2 ** 2)) )\n",
    "    return distance"
   ]
  },
  {
   "cell_type": "code",
   "execution_count": 80,
   "metadata": {},
   "outputs": [
    {
     "name": "stdout",
     "output_type": "stream",
     "text": [
      "5\n",
      "3.605551275463989\n",
      "0.9383431168171101\n"
     ]
    }
   ],
   "source": [
    "A = np.array([1, 3])\n",
    "B = np.array([4, 5])\n",
    "print(distance_manhattan(A, B))\n",
    "print(distance_euclidean(A, B))\n",
    "print(distance_cosine(A, B))\n",
    "\n"
   ]
  }
 ],
 "metadata": {
  "kernelspec": {
   "display_name": "Python 3",
   "language": "python",
   "name": "python3"
  },
  "language_info": {
   "codemirror_mode": {
    "name": "ipython",
    "version": 3
   },
   "file_extension": ".py",
   "mimetype": "text/x-python",
   "name": "python",
   "nbconvert_exporter": "python",
   "pygments_lexer": "ipython3",
   "version": "3.7.3"
  }
 },
 "nbformat": 4,
 "nbformat_minor": 2
}
