{
 "cells": [
  {
   "cell_type": "code",
   "execution_count": 1,
   "metadata": {},
   "outputs": [
    {
     "data": {
      "text/plain": [
       "<matplotlib.collections.PathCollection at 0x11fe87d8208>"
      ]
     },
     "execution_count": 1,
     "metadata": {},
     "output_type": "execute_result"
    },
    {
     "data": {
      "text/plain": [
       "<matplotlib.collections.PathCollection at 0x11fe87d88d0>"
      ]
     },
     "execution_count": 1,
     "metadata": {},
     "output_type": "execute_result"
    },
    {
     "data": {
      "text/plain": [
       "Text(0.5, 0, 'length')"
      ]
     },
     "execution_count": 1,
     "metadata": {},
     "output_type": "execute_result"
    },
    {
     "data": {
      "text/plain": [
       "Text(0, 0.5, 'width')"
      ]
     },
     "execution_count": 1,
     "metadata": {},
     "output_type": "execute_result"
    },
    {
     "data": {
      "text/plain": [
       "<matplotlib.legend.Legend at 0x11fe87d8ba8>"
      ]
     },
     "execution_count": 1,
     "metadata": {},
     "output_type": "execute_result"
    }
   ],
   "source": [
    "import numpy as np\n",
    "import pandas as pd\n",
    "import matplotlib.pylab as plt\n",
    "\n",
    "data = pd.read_csv('vehicle.csv')\n",
    "\n",
    "plt.scatter(data['length'][data['label']=='car'], data['width'][data['label']=='car'], c='g')\n",
    "plt.scatter(data['length'][data['label']=='truck'], data['width'][data['label']=='truck'], c='r')\n",
    "plt.xlabel('length')\n",
    "plt.ylabel('width')\n",
    "plt.legend(['car', 'truck'])\n"
   ]
  },
  {
   "cell_type": "code",
   "execution_count": 2,
   "metadata": {},
   "outputs": [
    {
     "data": {
      "text/plain": [
       "<matplotlib.collections.PathCollection at 0x11fe89b6908>"
      ]
     },
     "execution_count": 2,
     "metadata": {},
     "output_type": "execute_result"
    },
    {
     "data": {
      "text/plain": [
       "<matplotlib.collections.PathCollection at 0x11fe8994128>"
      ]
     },
     "execution_count": 2,
     "metadata": {},
     "output_type": "execute_result"
    },
    {
     "data": {
      "image/png": "[encoded data removed]",
      "text/plain": [
       "<Figure size 432x288 with 1 Axes>"
      ]
     },
     "metadata": {
      "needs_background": "light"
     },
     "output_type": "display_data"
    }
   ],
   "source": [
    "plt.scatter(data['length'][data['label']=='car'],data['width'][data['label']=='car'],c='y')\n",
    "plt.scatter(data['length'][data['label']=='truck'],data['width'][data['label']=='truck'],c='r') "
   ]
  },
  {
   "cell_type": "code",
   "execution_count": 4,
   "metadata": {},
   "outputs": [],
   "source": [
    "test = [4.7, 2.1]\n",
    "\n",
    "feature = np.array(data.iloc[:,0:2])\n",
    "labels = data['label'].tolist()\n",
    "### step 1 , caculate distance ###\n",
    "numSamples = data.shape[0]\n",
    "diff = np.tile(test,(numSamples, 1)) - feature\n",
    "# np.tile(test,(numSamples, 1))"
   ]
  },
  {
   "cell_type": "code",
   "execution_count": 5,
   "metadata": {},
   "outputs": [
    {
     "data": {
      "text/plain": [
       "array([  4,  26,   3,  21,  53,  73,  51,  39,  37,  62,  84,  95, 123,\n",
       "       102, 101,  78, 148, 106, 108,  36,  86,  66, 147,  31,  24,  75,\n",
       "        60, 109,  93, 130,  45, 116, 111,   8, 131,   1,  41,  17,  30,\n",
       "       100,  52, 140,  81,  82, 142, 128, 132,  34,  64,  71,  91,  15,\n",
       "       145,  22,  25, 134,  99,  89, 124,  57,  94,  63, 141,   9,  10,\n",
       "        49,  18, 112, 110,  14,  77, 149,  58,  90,  68, 114,  56, 146,\n",
       "       127,  35,  67,  59,  27,  11, 138, 117, 137,  32,  43,  70,  76,\n",
       "        38,  23,  98, 105,  92, 136,  47,   6, 126, 104,  61,  97,   5,\n",
       "       133,   2,   7, 113,   0,  96, 144,  13,  87,  20,  54, 125, 115,\n",
       "        33,  40, 139, 119,  28,  80,  83, 135,  65,  16,  74, 121, 143,\n",
       "       122,  50,  55, 120,  19,  46,  48,  79,  69, 107,  44,  88, 129,\n",
       "       103, 118,  85,  12,  42,  72,  29], dtype=int64)"
      ]
     },
     "execution_count": 5,
     "metadata": {},
     "output_type": "execute_result"
    }
   ],
   "source": [
    "squareDiff = diff**2\n",
    "squreDist = np.sum(squareDiff, axis = 1)\n",
    "distance = squreDist ** 0.5\n",
    "### step2 , sort the distances ###\n",
    "sortedDistIndices = np.argsort(distance) # 返回的是值对应的索引（升序）\n",
    "sortedDistIndices"
   ]
  },
  {
   "cell_type": "code",
   "execution_count": 7,
   "metadata": {},
   "outputs": [
    {
     "data": {
      "text/plain": [
       "['truck', 'truck', 'truck', 'car', 'car', 'car', 'truck', 'truck', 'car']"
      ]
     },
     "execution_count": 7,
     "metadata": {},
     "output_type": "execute_result"
    },
    {
     "data": {
      "text/plain": [
       "[('truck', 5), ('car', 4)]"
      ]
     },
     "execution_count": 7,
     "metadata": {},
     "output_type": "execute_result"
    }
   ],
   "source": [
    "### step 3 , find the K nearest points ###\n",
    "\n",
    "k = 9 \n",
    "\n",
    "classCount = {}\n",
    "label_count = []\n",
    "\n",
    "for i in range(k):\n",
    "    voteLabel = labels[sortedDistIndices[i]]\n",
    "    classCount[voteLabel] = classCount.get(voteLabel ,0) + 1\n",
    "    label_count.append(voteLabel)\n",
    "\n",
    "### step 4 , count the numbers and get the result ###\n",
    "\n",
    "from collections import Counter\n",
    "\n",
    "word_counts = Counter(label_count)\n",
    "top = word_counts.most_common(2)\n",
    "label_count\n",
    "top\n"
   ]
  }
 ],
 "metadata": {
  "kernelspec": {
   "display_name": "Python 3",
   "language": "python",
   "name": "python3"
  },
  "language_info": {
   "codemirror_mode": {
    "name": "ipython",
    "version": 3
   },
   "file_extension": ".py",
   "mimetype": "text/x-python",
   "name": "python",
   "nbconvert_exporter": "python",
   "pygments_lexer": "ipython3",
   "version": "3.7.3"
  }
 },
 "nbformat": 4,
 "nbformat_minor": 2
}
