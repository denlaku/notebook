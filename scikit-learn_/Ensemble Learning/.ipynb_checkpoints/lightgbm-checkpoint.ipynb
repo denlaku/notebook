{
 "cells": [
  {
   "cell_type": "code",
   "execution_count": 9,
   "metadata": {},
   "outputs": [
    {
     "name": "stdout",
     "output_type": "stream",
     "text": [
      "Object `LGBMClassifier` not found.\n"
     ]
    },
    {
     "data": {
      "text/plain": [
       "['Dataset',\n",
       " 'Booster',\n",
       " 'train',\n",
       " 'cv',\n",
       " 'LGBMModel',\n",
       " 'LGBMRegressor',\n",
       " 'LGBMClassifier',\n",
       " 'LGBMRanker',\n",
       " 'print_evaluation',\n",
       " 'record_evaluation',\n",
       " 'reset_parameter',\n",
       " 'early_stopping',\n",
       " 'plot_importance',\n",
       " 'plot_metric',\n",
       " 'plot_tree',\n",
       " 'create_tree_digraph']"
      ]
     },
     "execution_count": 9,
     "metadata": {},
     "output_type": "execute_result"
    }
   ],
   "source": [
    "from lightgbm import LGBMClassifier\n",
    "import lightgbm \n",
    "\n",
    "# model_lgb = lgb()\n",
    "?LGBMClassifier\n",
    "lightgbm.__all__\n"
   ]
  }
 ],
 "metadata": {
  "kernelspec": {
   "display_name": "Python 3",
   "language": "python",
   "name": "python3"
  },
  "language_info": {
   "codemirror_mode": {
    "name": "ipython",
    "version": 3
   },
   "file_extension": ".py",
   "mimetype": "text/x-python",
   "name": "python",
   "nbconvert_exporter": "python",
   "pygments_lexer": "ipython3",
   "version": "3.7.3"
  }
 },
 "nbformat": 4,
 "nbformat_minor": 2
}
