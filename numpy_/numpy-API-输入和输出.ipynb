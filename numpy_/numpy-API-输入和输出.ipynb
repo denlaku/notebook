{
 "cells": [
  {
   "cell_type": "code",
   "execution_count": 4,
   "metadata": {},
   "outputs": [],
   "source": [
    "import numpy as np"
   ]
  },
  {
   "cell_type": "markdown",
   "metadata": {},
   "source": [
    "# NumPy二进制文件（NPY, NPZ）\n",
    "\n",
    "+ load(file[, mmap_mode, allow_pickle, …]) 从.npy，.npz或pickle文件加载数组或pickle对象。\n",
    "+ save(file, arr[, allow_pickle, fix_imports]) 将数组保存为NumPy .npy格式的二进制文件。\n",
    "+ savez(file, args, *kwds) 将多个数组以未压缩的.npz格式保存到单个文件中。\n",
    "+ savez_compressed(file, args, *kwds) 将多个数组以压缩的.npz格式保存到单个文件中。"
   ]
  },
  {
   "cell_type": "code",
   "execution_count": 8,
   "metadata": {},
   "outputs": [],
   "source": [
    "np.save(\"001.npy\", np.array([1, 2, 3, 4]))"
   ]
  },
  {
   "cell_type": "code",
   "execution_count": 19,
   "metadata": {},
   "outputs": [
    {
     "data": {
      "text/plain": [
       "array([1, 2, 3, 4])"
      ]
     },
     "execution_count": 19,
     "metadata": {},
     "output_type": "execute_result"
    }
   ],
   "source": [
    "np.load(\"001.npy\")"
   ]
  },
  {
   "cell_type": "code",
   "execution_count": 25,
   "metadata": {},
   "outputs": [],
   "source": [
    "a=np.array([1, 2, 3, 4])\n",
    "b=np.array([11, 12, 13])\n",
    "np.savez(\"002.npz\", a=a, b=b)"
   ]
  },
  {
   "cell_type": "code",
   "execution_count": 26,
   "metadata": {},
   "outputs": [
    {
     "data": {
      "text/plain": [
       "array([11, 12, 13])"
      ]
     },
     "execution_count": 26,
     "metadata": {},
     "output_type": "execute_result"
    }
   ],
   "source": [
    "np.load(\"002.npz\")['a']\n",
    "np.load(\"002.npz\")['b']"
   ]
  },
  {
   "cell_type": "markdown",
   "metadata": {},
   "source": [
    "# 文本文件\n",
    "+ loadtxt(fname[, dtype, comments, delimiter, …]) 从文本文件加载数据。\n",
    "+ savetxt(fname, X[, fmt, delimiter, newline, …]) 从文本文件加载数据。\n",
    "+ genfromtxt(fname[, dtype, comments, …]) 从文本文件加载数据，并按指定处理缺失值。\n",
    "+ fromregex(file, regexp, dtype[, encoding]) 使用来自文本文件构造数组"
   ]
  },
  {
   "cell_type": "markdown",
   "metadata": {},
   "source": [
    "# 正则表达式解析。\n",
    "+ fromstring(string[, dtype, count, sep]) 从字符串中的文本数据初始化的新1-D数组。\n",
    "+ ndarray.tofile(fid[, sep, format]) 将数组作为文本或二进制写入文件（默认）。\n",
    "+ ndarray.tolist() 将数组作为（可能是嵌套的）列表返回。"
   ]
  },
  {
   "cell_type": "markdown",
   "metadata": {},
   "source": [
    "# 原始二进制文件\n",
    "+ fromfile(file[, dtype, count, sep]) 根据文本或二进制文件中的数据构造数组。\n",
    "+ ndarray.tofile(fid[, sep, format]) 将数组作为文本或二进制写入文件（默认）。"
   ]
  },
  {
   "cell_type": "markdown",
   "metadata": {},
   "source": [
    "# 字符串格式\n",
    "+ array2string(a[, max_line_width, precision, …]) 返回数组的字符串表示形式。\n",
    "+ array_repr(arr[, max_line_width, precision, …]) 返回数组的字符串表示形式。\n",
    "+ array_str(a[, max_line_width, precision, …]) 返回数组中数据的字符串表示形式。\n",
    "+ format_float_positional(x[, precision, …]) 在位置表示法中将浮点标量格式化为十进制字符串。\n",
    "+ format_float_scientific(x[, precision, …]) 使用科学计数法将浮点标量格式化为十进制字符串。"
   ]
  },
  {
   "cell_type": "markdown",
   "metadata": {},
   "source": [
    "# 映射文件\n",
    "+ memmap 为存储在磁盘上的二进制文件中的数组创建内存映射。"
   ]
  },
  {
   "cell_type": "markdown",
   "metadata": {},
   "source": [
    "# 文本格式选项\n",
    "+ set_printoptions([precision, threshold, …]) 设置打印选项。\n",
    "+ get_printoptions() 返回当前的打印选项。\n",
    "+ set_string_function(f[, repr]) 设置一个Python函数，以便在相当打印数组时使用。"
   ]
  },
  {
   "cell_type": "markdown",
   "metadata": {},
   "source": [
    "# Base-n 相关\n",
    "+ binary_repr(num[, width]) 将输入数字的二进制表示形式返回为字符串。\n",
    "+ base_repr(number[, base, padding]) 返回给定基本系统中数字的字符串表示形式。"
   ]
  },
  {
   "cell_type": "markdown",
   "metadata": {},
   "source": [
    "# 数据源\n",
    "+ DataSource([destpath]) 通用数据源文件（文件，http，ftp，...）。"
   ]
  }
 ],
 "metadata": {
  "kernelspec": {
   "display_name": "Python 3",
   "language": "python",
   "name": "python3"
  },
  "language_info": {
   "codemirror_mode": {
    "name": "ipython",
    "version": 3
   },
   "file_extension": ".py",
   "mimetype": "text/x-python",
   "name": "python",
   "nbconvert_exporter": "python",
   "pygments_lexer": "ipython3",
   "version": "3.6.8"
  }
 },
 "nbformat": 4,
 "nbformat_minor": 2
}
