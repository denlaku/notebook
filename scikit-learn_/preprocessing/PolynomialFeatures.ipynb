{
 "cells": [
  {
   "cell_type": "code",
   "execution_count": 8,
   "metadata": {},
   "outputs": [
    {
     "data": {
      "text/plain": [
       "array([[  1.,   1.,   3.,   1.,   3.,   9.,   1.,   3.,   9.,  27.,   1.,\n",
       "          3.,   9.,  27.,  81.],\n",
       "       [  1.,   2.,   4.,   4.,   8.,  16.,   8.,  16.,  32.,  64.,  16.,\n",
       "         32.,  64., 128., 256.]])"
      ]
     },
     "execution_count": 8,
     "metadata": {},
     "output_type": "execute_result"
    }
   ],
   "source": [
    "from sklearn.preprocessing import PolynomialFeatures\n",
    "\n",
    "polynomial_features_3 = PolynomialFeatures(4)\n",
    "\n",
    "polynomial_features_3.fit_transform([[1, 3],[2, 4]])\n"
   ]
  }
 ],
 "metadata": {
  "kernelspec": {
   "display_name": "Python 3",
   "language": "python",
   "name": "python3"
  },
  "language_info": {
   "codemirror_mode": {
    "name": "ipython",
    "version": 3
   },
   "file_extension": ".py",
   "mimetype": "text/x-python",
   "name": "python",
   "nbconvert_exporter": "python",
   "pygments_lexer": "ipython3",
   "version": "3.7.3"
  }
 },
 "nbformat": 4,
 "nbformat_minor": 2
}
