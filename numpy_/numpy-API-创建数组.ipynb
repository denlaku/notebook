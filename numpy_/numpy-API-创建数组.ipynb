{
 "cells": [
  {
   "cell_type": "code",
   "execution_count": 1,
   "metadata": {},
   "outputs": [],
   "source": [
    "import numpy as np"
   ]
  },
  {
   "cell_type": "markdown",
   "metadata": {},
   "source": [
    "# Ones 和 zeros 方法\n",
    "+ empty(shape[, dtype, order]) 返回给定形状和类型的新数组，而不初始化条目。\n",
    "+ empty_like(a[, dtype, order, subok]) 返回一个与给定数组具有相同形状和类型的新数组。\n",
    "+ eye(N[, M, k, dtype, order]) 返回一个二维数组，其中对角线为1，零点为零。\n",
    "+ identity(n[, dtype]) 返回标识数组。\n",
    "+ ones(shape[, dtype, order]) 返回一个给定形状和类型的新数组，用一个填充。\n",
    "+ ones_like(a[, dtype, order, subok]) 返回与给定数组具有相同形状和类型的数组。\n",
    "+ zeros(shape[, dtype, order]) 返回给定形状和类型的新数组，用零填充。\n",
    "+ zeros_like(a[, dtype, order, subok]) 返回与给定数组具有相同形状和类型的零数组。\n",
    "+ full(shape, fill_value[, dtype, order]) 返回给定形状和类型的新数组，填充fill_value。\n",
    "+ full_like(a, fill_value[, dtype, order, subok]) 返回与给定数组具有相同形状和类型的完整数组。"
   ]
  },
  {
   "cell_type": "markdown",
   "metadata": {},
   "source": [
    "# 利用现有数据\n",
    "+ array(object[, dtype, copy, order, subok, ndmin]) 创建一个新的数组。\n",
    "+ asarray(a[, dtype, order]) 将输入的参数转换为数组。\n",
    "+ asanyarray(a[, dtype, order]) 将输入转换为ndarray，但通过ndarray子类传递。\n",
    "+ ascontiguousarray(a[, dtype]) 在内存中返回连续数组(C顺序)。\n",
    "+ asmatrix(data[, dtype]) 将输入转换为矩阵。\n",
    "+ copy(a[, order]) 返回给定对象的数组副本。\n",
    "+ frombuffer(buffer[, dtype, count, offset]) 将缓冲区转换为一维数组。\n",
    "+ fromfile(file[, dtype, count, sep]) 从文本或二进制文件中的数据构造数组。\n",
    "+ fromfunction(function, shape, **kwargs) 通过在每个坐标上执行函数来构造数组。\n",
    "+ fromiter(iterable, dtype[, count]) 从可迭代对象创建一个新的一维数组。\n",
    "+ fromstring(string[, dtype, count, sep]) 从字符串中的文本数据初始化的新的一维数组.\n",
    "+ loadtxt(fname[, dtype, comments, delimiter, …]) 从文本文件加载数据。\n",
    "+ Creating record arrays (numpy.rec)\n",
    "### numpy.rec 是numpy.core.records的首选别名.\n",
    "+ core.records.array(obj[, dtype, shape, …]) 从各种各样的对象构造一个记录数组。\n",
    "+ core.records.fromarrays(arrayList[, dtype, …]) 从数组的(平面)列表创建记录数组\n",
    "+ core.records.fromrecords(recList[, dtype, …]) 从文本形式的记录列表中创建一个重新数组\n",
    "+ core.records.fromstring(datastring[, dtype, …]) 从字符串中包含的二进制数据创建(只读)记录数组。\n",
    "+ core.records.fromfile(fd[, dtype, shape, …]) 从二进制文件数据创建数组"
   ]
  },
  {
   "cell_type": "markdown",
   "metadata": {},
   "source": [
    "# 创建字符数组(numpy.charr)\n",
    "### numpy.char 是 numpy.core.defchararra 的首选别名。\n",
    "+ core.defchararray.array(obj[, itemsize, …]) 创建一个字符数组。\n",
    "+ core.defchararray.asarray(obj[, itemsize, …]) 将输入转换为字符数组，只在必要时复制数据。"
   ]
  },
  {
   "cell_type": "markdown",
   "metadata": {},
   "source": [
    "# 数值范围\n",
    "+ arange([start,] stop[, step,][, dtype]) 在给定的间隔内返回均匀间隔的值。\n",
    "+ linspace(start, stop[, num, endpoint, …]) 在指定的间隔内返回均匀间隔的数字。\n",
    "+ logspace(start, stop[, num, endpoint, base, …]) 返回数在对数刻度上均匀分布。\n",
    "+ geomspace(start, stop[, num, endpoint, dtype]) 返回数在对数尺度上均匀分布(几何级数)。\n",
    "+ meshgrid(xi, *kwargs) 从坐标向量返回坐标矩阵。\n",
    "+ mgrid nd_grid 实例，它返回一个密集的多维“meshgrid”。\n",
    "+ ogrid nd_grid 实例，它返回一个开放的多维“meshgrid”。"
   ]
  },
  {
   "cell_type": "code",
   "execution_count": 63,
   "metadata": {},
   "outputs": [
    {
     "data": {
      "text/plain": [
       "array([0, 1, 2, 3, 4])"
      ]
     },
     "execution_count": 63,
     "metadata": {},
     "output_type": "execute_result"
    }
   ],
   "source": [
    "np.arange(5)"
   ]
  },
  {
   "cell_type": "code",
   "execution_count": 2,
   "metadata": {},
   "outputs": [
    {
     "data": {
      "text/plain": [
       "array([16., 14., 12., 10.,  8.,  6.,  4.,  2.])"
      ]
     },
     "execution_count": 2,
     "metadata": {},
     "output_type": "execute_result"
    }
   ],
   "source": [
    "np.linspace(16, 2, 8)"
   ]
  },
  {
   "cell_type": "code",
   "execution_count": 3,
   "metadata": {},
   "outputs": [
    {
     "data": {
      "text/plain": [
       "array([1.e+01, 1.e+02, 1.e+03, 1.e+04, 1.e+05, 1.e+06, 1.e+07, 1.e+08])"
      ]
     },
     "execution_count": 3,
     "metadata": {},
     "output_type": "execute_result"
    }
   ],
   "source": [
    "np.logspace(1, 8, 8)"
   ]
  },
  {
   "cell_type": "markdown",
   "metadata": {},
   "source": [
    "# 构建矩阵\n",
    "+ diag(v[, k]) 提取对角线或构造对角线阵列。\n",
    "+ diagflat(v[, k]) 使用展平输入创建二维数组作为对角线。\n",
    "+ tri(N[, M, k, dtype]) 一个数组，其中包含给定对角线和低于给定对角线的数字，其他地方为零\n",
    "+ tril(m[, k]) 数组的下三角形。\n",
    "+ triu(m[, k]) 数组的上三角形。\n",
    "+ vander(x[, N, increasing]) 生成Vandermonde矩阵。"
   ]
  },
  {
   "cell_type": "code",
   "execution_count": 7,
   "metadata": {},
   "outputs": [
    {
     "data": {
      "text/plain": [
       "array([[ 0,  1,  2,  3,  4],\n",
       "       [ 5,  6,  7,  8,  9],\n",
       "       [10, 11, 12, 13, 14],\n",
       "       [15, 16, 17, 18, 19],\n",
       "       [20, 21, 22, 23, 24]])"
      ]
     },
     "execution_count": 7,
     "metadata": {},
     "output_type": "execute_result"
    },
    {
     "data": {
      "text/plain": [
       "array([ 0,  6, 12, 18, 24])"
      ]
     },
     "execution_count": 7,
     "metadata": {},
     "output_type": "execute_result"
    },
    {
     "data": {
      "text/plain": [
       "array([[ 0,  0,  0,  0,  0],\n",
       "       [ 0,  6,  0,  0,  0],\n",
       "       [ 0,  0, 12,  0,  0],\n",
       "       [ 0,  0,  0, 18,  0],\n",
       "       [ 0,  0,  0,  0, 24]])"
      ]
     },
     "execution_count": 7,
     "metadata": {},
     "output_type": "execute_result"
    }
   ],
   "source": [
    "a = np.arange(25).reshape(5,5)\n",
    "a\n",
    "np.diag(a) # 提取对角线\n",
    "\n",
    "np.diag(np.diag(a))"
   ]
  },
  {
   "cell_type": "code",
   "execution_count": 6,
   "metadata": {},
   "outputs": [
    {
     "data": {
      "text/plain": [
       "array([[1, 0, 0, 0],\n",
       "       [0, 2, 0, 0],\n",
       "       [0, 0, 6, 0],\n",
       "       [0, 0, 0, 4]])"
      ]
     },
     "execution_count": 6,
     "metadata": {},
     "output_type": "execute_result"
    }
   ],
   "source": [
    "np.diagflat([1, 2, 6, 4]) # 指定对角线，其他为0"
   ]
  },
  {
   "cell_type": "code",
   "execution_count": 16,
   "metadata": {},
   "outputs": [
    {
     "data": {
      "text/plain": [
       "array([[1, 0, 0, 0],\n",
       "       [1, 1, 0, 0],\n",
       "       [1, 1, 1, 0],\n",
       "       [1, 1, 1, 1]])"
      ]
     },
     "execution_count": 16,
     "metadata": {},
     "output_type": "execute_result"
    }
   ],
   "source": [
    "np.tri(4, 4, 0, 'int32')"
   ]
  },
  {
   "cell_type": "code",
   "execution_count": 17,
   "metadata": {},
   "outputs": [
    {
     "data": {
      "text/plain": [
       "array([[1, 0, 0],\n",
       "       [1, 2, 0],\n",
       "       [1, 2, 3]])"
      ]
     },
     "execution_count": 17,
     "metadata": {},
     "output_type": "execute_result"
    }
   ],
   "source": [
    "np.tril([1, 2, 3])"
   ]
  },
  {
   "cell_type": "code",
   "execution_count": 18,
   "metadata": {},
   "outputs": [
    {
     "data": {
      "text/plain": [
       "array([[1, 2, 3],\n",
       "       [0, 2, 3],\n",
       "       [0, 0, 3]])"
      ]
     },
     "execution_count": 18,
     "metadata": {},
     "output_type": "execute_result"
    }
   ],
   "source": [
    "np.triu([1, 2, 3])"
   ]
  },
  {
   "cell_type": "markdown",
   "metadata": {},
   "source": [
    "# 矩阵类\n",
    "+ mat(data[, dtype]) 将输入解释为矩阵。\n",
    "+ bmat(obj[, ldict, gdict]) 从字符串、嵌套序列或数组生成矩阵对象"
   ]
  },
  {
   "cell_type": "code",
   "execution_count": 19,
   "metadata": {},
   "outputs": [
    {
     "data": {
      "text/plain": [
       "matrix([[1, 2, 3],\n",
       "        [7, 3, 5]])"
      ]
     },
     "execution_count": 19,
     "metadata": {},
     "output_type": "execute_result"
    }
   ],
   "source": [
    "np.mat([[1, 2, 3],[7, 3, 5]])"
   ]
  }
 ],
 "metadata": {
  "kernelspec": {
   "display_name": "Python 3",
   "language": "python",
   "name": "python3"
  },
  "language_info": {
   "codemirror_mode": {
    "name": "ipython",
    "version": 3
   },
   "file_extension": ".py",
   "mimetype": "text/x-python",
   "name": "python",
   "nbconvert_exporter": "python",
   "pygments_lexer": "ipython3",
   "version": "3.7.3"
  }
 },
 "nbformat": 4,
 "nbformat_minor": 2
}
