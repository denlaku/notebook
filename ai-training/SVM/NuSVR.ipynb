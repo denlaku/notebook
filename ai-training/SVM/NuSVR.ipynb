{
 "cells": [
  {
   "cell_type": "code",
   "execution_count": 3,
   "metadata": {},
   "outputs": [
    {
     "name": "stderr",
     "output_type": "stream",
     "text": [
      "c:\\myprogram\\python\\python37\\lib\\site-packages\\sklearn\\svm\\base.py:196: FutureWarning: The default value of gamma will change from 'auto' to 'scale' in version 0.22 to account better for unscaled features. Set gamma explicitly to 'auto' or 'scale' to avoid this warning.\n",
      "  \"avoid this warning.\", FutureWarning)\n"
     ]
    },
    {
     "data": {
      "text/plain": [
       "NuSVR(C=1.0, cache_size=200, coef0=0.0, degree=3, gamma='auto_deprecated',\n",
       "   kernel='rbf', max_iter=-1, nu=0.5, shrinking=True, tol=0.001,\n",
       "   verbose=False)"
      ]
     },
     "execution_count": 3,
     "metadata": {},
     "output_type": "execute_result"
    },
    {
     "data": {
      "text/plain": [
       "array([ 1.13588662,  1.81996967, -0.02998435, -0.0184542 , -0.03859801,\n",
       "        1.73954748,  1.90851312, -0.00847691,  0.93917046,  1.13244782,\n",
       "        1.2074738 ,  1.02711877,  2.04520312,  0.96575535,  1.47100634,\n",
       "        0.95570325,  1.03574444,  1.09650725,  2.00553971,  1.14719708,\n",
       "        2.06967889,  2.09683955,  1.49677782, -0.02940871,  0.99088513,\n",
       "        1.84495206,  1.15074321,  1.89772173,  1.1990198 ,  1.66791276])"
      ]
     },
     "execution_count": 3,
     "metadata": {},
     "output_type": "execute_result"
    },
    {
     "data": {
      "text/plain": [
       "array([1, 2, 0, 0, 0, 2, 2, 0, 1, 1, 1, 1, 2, 1, 2, 1, 1, 1, 2, 1, 2, 2,\n",
       "       1, 0, 1, 2, 1, 2, 1, 2])"
      ]
     },
     "execution_count": 3,
     "metadata": {},
     "output_type": "execute_result"
    }
   ],
   "source": [
    "from sklearn.svm import NuSVR\n",
    "from sklearn.datasets import load_iris\n",
    "# ?NuSVR\n",
    "model = NuSVR(\n",
    "    nu=0.5,\n",
    "    C=1.0,\n",
    "    kernel='rbf',\n",
    "    degree=3,\n",
    "    gamma='auto_deprecated',\n",
    "    coef0=0.0,\n",
    "    shrinking=True,\n",
    "    tol=0.001,\n",
    "    cache_size=200,\n",
    "    verbose=False,\n",
    "    max_iter=-1,\n",
    ")\n",
    "\n",
    "iris = load_iris()\n",
    "data = iris.data\n",
    "labels = iris.target\n",
    "\n",
    "from sklearn.model_selection import train_test_split\n",
    "feature_train, feature_test, label_train, label_test = train_test_split(data, labels, test_size=0.2)\n",
    "model.fit(feature_train, label_train)\n",
    "# svc.intercept_\n",
    "prediction = model.predict(feature_test)\n",
    "prediction \n",
    "label_test\n",
    "# from sklearn.metrics import f1_score\n",
    "# curr_f1 = f1_score(prediction, label_test, average='macro')\n",
    "# 'f1 score: ' + str(curr_f1)\n",
    "# model.support_\n",
    "# model.support_vectors_"
   ]
  }
 ],
 "metadata": {
  "kernelspec": {
   "display_name": "Python 3",
   "language": "python",
   "name": "python3"
  },
  "language_info": {
   "codemirror_mode": {
    "name": "ipython",
    "version": 3
   },
   "file_extension": ".py",
   "mimetype": "text/x-python",
   "name": "python",
   "nbconvert_exporter": "python",
   "pygments_lexer": "ipython3",
   "version": "3.7.3"
  }
 },
 "nbformat": 4,
 "nbformat_minor": 2
}
