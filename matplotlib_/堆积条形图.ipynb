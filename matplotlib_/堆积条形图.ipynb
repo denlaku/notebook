{
 "cells": [
  {
   "cell_type": "code",
   "execution_count": 37,
   "metadata": {},
   "outputs": [
    {
     "data": {
      "text/plain": [
       "Text(0, 0.5, 'Scores')"
      ]
     },
     "execution_count": 37,
     "metadata": {},
     "output_type": "execute_result"
    },
    {
     "data": {
      "text/plain": [
       "Text(0.5, 0, 'GG')"
      ]
     },
     "execution_count": 37,
     "metadata": {},
     "output_type": "execute_result"
    },
    {
     "data": {
      "text/plain": [
       "Text(0.5, 1.0, 'Scores by group and gender')"
      ]
     },
     "execution_count": 37,
     "metadata": {},
     "output_type": "execute_result"
    },
    {
     "data": {
      "text/plain": [
       "([<matplotlib.axis.YTick at 0x21ecf042940>,\n",
       "  <matplotlib.axis.YTick at 0x21ecf0421d0>,\n",
       "  <matplotlib.axis.YTick at 0x21ecf035358>,\n",
       "  <matplotlib.axis.YTick at 0x21ecf0862b0>,\n",
       "  <matplotlib.axis.YTick at 0x21ecf086780>,\n",
       "  <matplotlib.axis.YTick at 0x21ecf086c50>,\n",
       "  <matplotlib.axis.YTick at 0x21ecf08a198>,\n",
       "  <matplotlib.axis.YTick at 0x21ecf08a6d8>,\n",
       "  <matplotlib.axis.YTick at 0x21ecf08ac50>],\n",
       " <a list of 9 Text yticklabel objects>)"
      ]
     },
     "execution_count": 37,
     "metadata": {},
     "output_type": "execute_result"
    },
    {
     "data": {
      "text/plain": [
       "<matplotlib.legend.Legend at 0x21ecee7fc50>"
      ]
     },
     "execution_count": 37,
     "metadata": {},
     "output_type": "execute_result"
    },
    {
     "data": {
      "image/png": "[encoded data removed]",
      "text/plain": [
       "<Figure size 432x288 with 1 Axes>"
      ]
     },
     "metadata": {
      "needs_background": "light"
     },
     "output_type": "display_data"
    }
   ],
   "source": [
    "import matplotlib.pyplot as plt\n",
    "import numpy as np\n",
    "\n",
    "N = 5\n",
    "menMeans = (20, 35, 30, 35, 27)\n",
    "womenMeans = (25, 32, 34, 20, 25)\n",
    "menStd = (2, 3, 4, 1, 2)\n",
    "womenStd = (3, 5, 2, 3, 3)\n",
    "ind = np.arange(N)    # the x locations for the groups\n",
    "# ind = [11, 22, 33, 44, 55]\n",
    "ind = ['G1', 'G2', 'G3', 'G4', 'G5']\n",
    "width = 0.35 \n",
    "\n",
    "p1 = plt.bar(ind, menMeans, width, yerr=menStd)\n",
    "p2 = plt.bar(ind, womenMeans, width,\n",
    "             bottom=menMeans, yerr=womenStd)\n",
    "\n",
    "plt.ylabel('Scores')\n",
    "plt.xlabel('GG')\n",
    "plt.title('Scores by group and gender')\n",
    "# plt.xticks(ind, ('G1', 'G2', 'G3', 'G4', 'G5'))\n",
    "plt.yticks(np.arange(0, 81, 10))\n",
    "# plt.legend((p1[0], p2[0]), ('Men', 'Women'))\n",
    "plt.legend(['Men', 'Women'])\n",
    "# ?plt.legend\n",
    "# ?plt.bar\n",
    "# dir(plt)\n",
    "# ?plt.text\n",
    "\n",
    "\n"
   ]
  }
 ],
 "metadata": {
  "kernelspec": {
   "display_name": "Python 3",
   "language": "python",
   "name": "python3"
  },
  "language_info": {
   "codemirror_mode": {
    "name": "ipython",
    "version": 3
   },
   "file_extension": ".py",
   "mimetype": "text/x-python",
   "name": "python",
   "nbconvert_exporter": "python",
   "pygments_lexer": "ipython3",
   "version": "3.7.3"
  }
 },
 "nbformat": 4,
 "nbformat_minor": 2
}
