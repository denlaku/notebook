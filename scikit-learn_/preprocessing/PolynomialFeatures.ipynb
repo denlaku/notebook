{
 "cells": [
  {
   "cell_type": "code",
   "execution_count": 10,
   "metadata": {},
   "outputs": [
    {
     "data": {
      "text/plain": [
       "array([[1.000e+00, 2.000e+00, 3.000e+00, 5.000e+00, 4.000e+00, 6.000e+00,\n",
       "        1.000e+01, 9.000e+00, 1.500e+01, 2.500e+01, 8.000e+00, 1.200e+01,\n",
       "        2.000e+01, 1.800e+01, 3.000e+01, 5.000e+01, 2.700e+01, 4.500e+01,\n",
       "        7.500e+01, 1.250e+02, 1.600e+01, 2.400e+01, 4.000e+01, 3.600e+01,\n",
       "        6.000e+01, 1.000e+02, 5.400e+01, 9.000e+01, 1.500e+02, 2.500e+02,\n",
       "        8.100e+01, 1.350e+02, 2.250e+02, 3.750e+02, 6.250e+02],\n",
       "       [1.000e+00, 2.000e+00, 4.000e+00, 7.000e+00, 4.000e+00, 8.000e+00,\n",
       "        1.400e+01, 1.600e+01, 2.800e+01, 4.900e+01, 8.000e+00, 1.600e+01,\n",
       "        2.800e+01, 3.200e+01, 5.600e+01, 9.800e+01, 6.400e+01, 1.120e+02,\n",
       "        1.960e+02, 3.430e+02, 1.600e+01, 3.200e+01, 5.600e+01, 6.400e+01,\n",
       "        1.120e+02, 1.960e+02, 1.280e+02, 2.240e+02, 3.920e+02, 6.860e+02,\n",
       "        2.560e+02, 4.480e+02, 7.840e+02, 1.372e+03, 2.401e+03]])"
      ]
     },
     "execution_count": 10,
     "metadata": {},
     "output_type": "execute_result"
    }
   ],
   "source": [
    "from sklearn.preprocessing import PolynomialFeatures\n",
    "\n",
    "polynomial_features_3 = PolynomialFeatures(4)\n",
    "\n",
    "polynomial_features_3.fit_transform([[2, 3, 5],[2, 4, 7]])\n",
    "\n",
    "?polynomial_features_3.fit_transform\n"
   ]
  }
 ],
 "metadata": {
  "kernelspec": {
   "display_name": "Python 3",
   "language": "python",
   "name": "python3"
  },
  "language_info": {
   "codemirror_mode": {
    "name": "ipython",
    "version": 3
   },
   "file_extension": ".py",
   "mimetype": "text/x-python",
   "name": "python",
   "nbconvert_exporter": "python",
   "pygments_lexer": "ipython3",
   "version": "3.7.3"
  }
 },
 "nbformat": 4,
 "nbformat_minor": 2
}
