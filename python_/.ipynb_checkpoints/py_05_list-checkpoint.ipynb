{
 "cells": [
  {
   "cell_type": "code",
   "execution_count": 2,
   "metadata": {},
   "outputs": [
    {
     "name": "stdout",
     "output_type": "stream",
     "text": [
      "0\n",
      "10\n",
      "['bb']\n",
      "['dd', 'cc', 'bb', 'aa', 0, 3, 2, 'insert', 5, 'abc']\n"
     ]
    }
   ],
   "source": [
    "list0 = [1, 4, 5, 2, 3, 0]\n",
    "\n",
    "del list0[1]\n",
    "\n",
    "list0.extend(('aa', 'bb'))\n",
    "list0.extend(['cc', 'dd'])\n",
    "\n",
    "list0.insert(2, 'insert')\n",
    "list0.remove(1)\n",
    "\n",
    "# list0.sort()\n",
    "\n",
    "list0.reverse()\n",
    "\n",
    "list0.append('abc')\n",
    "\n",
    "print(list0.count(1))\n",
    "\n",
    "print(len(list0))\n",
    "\n",
    "print(list0[2:3])\n",
    "\n",
    "print(list0)"
   ]
  }
 ],
 "metadata": {
  "kernelspec": {
   "display_name": "Python 3",
   "language": "python",
   "name": "python3"
  },
  "language_info": {
   "codemirror_mode": {
    "name": "ipython",
    "version": 3
   },
   "file_extension": ".py",
   "mimetype": "text/x-python",
   "name": "python",
   "nbconvert_exporter": "python",
   "pygments_lexer": "ipython3",
   "version": "3.6.8"
  }
 },
 "nbformat": 4,
 "nbformat_minor": 2
}
