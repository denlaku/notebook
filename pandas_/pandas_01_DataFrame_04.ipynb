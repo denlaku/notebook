{
 "cells": [
  {
   "cell_type": "markdown",
   "metadata": {},
   "source": [
    "# 迭代\n",
    "\n",
    "+ iteritems() - 迭代(key，value)\n",
    "+ iterrows() - 将行迭代为(索引，系列)\n",
    "+ itertuples() - 以namedtuples的形式迭代行"
   ]
  },
  {
   "cell_type": "code",
   "execution_count": 1,
   "metadata": {},
   "outputs": [],
   "source": [
    "import pandas as pd\n",
    "import numpy as np"
   ]
  },
  {
   "cell_type": "code",
   "execution_count": 2,
   "metadata": {},
   "outputs": [
    {
     "data": {
      "text/html": [
       "<div>\n",
       "<style scoped>\n",
       "    .dataframe tbody tr th:only-of-type {\n",
       "        vertical-align: middle;\n",
       "    }\n",
       "\n",
       "    .dataframe tbody tr th {\n",
       "        vertical-align: top;\n",
       "    }\n",
       "\n",
       "    .dataframe thead th {\n",
       "        text-align: right;\n",
       "    }\n",
       "</style>\n",
       "<table border=\"1\" class=\"dataframe\">\n",
       "  <thead>\n",
       "    <tr style=\"text-align: right;\">\n",
       "      <th></th>\n",
       "      <th>one</th>\n",
       "      <th>two</th>\n",
       "      <th>three</th>\n",
       "    </tr>\n",
       "  </thead>\n",
       "  <tbody>\n",
       "    <tr>\n",
       "      <th>0</th>\n",
       "      <td>0</td>\n",
       "      <td>1</td>\n",
       "      <td>2</td>\n",
       "    </tr>\n",
       "    <tr>\n",
       "      <th>1</th>\n",
       "      <td>3</td>\n",
       "      <td>4</td>\n",
       "      <td>5</td>\n",
       "    </tr>\n",
       "    <tr>\n",
       "      <th>2</th>\n",
       "      <td>6</td>\n",
       "      <td>7</td>\n",
       "      <td>8</td>\n",
       "    </tr>\n",
       "    <tr>\n",
       "      <th>3</th>\n",
       "      <td>9</td>\n",
       "      <td>10</td>\n",
       "      <td>11</td>\n",
       "    </tr>\n",
       "    <tr>\n",
       "      <th>4</th>\n",
       "      <td>12</td>\n",
       "      <td>13</td>\n",
       "      <td>14</td>\n",
       "    </tr>\n",
       "  </tbody>\n",
       "</table>\n",
       "</div>"
      ],
      "text/plain": [
       "   one  two  three\n",
       "0    0    1      2\n",
       "1    3    4      5\n",
       "2    6    7      8\n",
       "3    9   10     11\n",
       "4   12   13     14"
      ]
     },
     "execution_count": 2,
     "metadata": {},
     "output_type": "execute_result"
    }
   ],
   "source": [
    "nd = np.arange(15).reshape((5, 3))\n",
    "nd\n",
    "df = pd.DataFrame(nd, columns=['one', 'two', 'three'])\n",
    "df"
   ]
  },
  {
   "cell_type": "code",
   "execution_count": 3,
   "metadata": {},
   "outputs": [
    {
     "name": "stdout",
     "output_type": "stream",
     "text": [
      "one\n",
      "two\n",
      "three\n"
     ]
    }
   ],
   "source": [
    "for col in df:\n",
    "    print(col)"
   ]
  },
  {
   "cell_type": "code",
   "execution_count": 28,
   "metadata": {},
   "outputs": [
    {
     "name": "stdout",
     "output_type": "stream",
     "text": [
      "one\n",
      "0     0\n",
      "1     3\n",
      "2     6\n",
      "3     9\n",
      "4    12\n",
      "Name: one, dtype: int32\n",
      "two\n",
      "0     1\n",
      "1     4\n",
      "2     7\n",
      "3    10\n",
      "4    13\n",
      "Name: two, dtype: int32\n",
      "three\n",
      "0     2\n",
      "1     5\n",
      "2     8\n",
      "3    11\n",
      "4    14\n",
      "Name: three, dtype: int32\n"
     ]
    }
   ],
   "source": [
    "for c_name,c_values in df.iteritems():\n",
    "    print(c_name)\n",
    "    print(c_values)\n",
    "    \n",
    "# for item in df.iteritems():\n",
    "#     print(item)\n",
    "\n",
    "# df.all()"
   ]
  },
  {
   "cell_type": "code",
   "execution_count": 30,
   "metadata": {},
   "outputs": [
    {
     "name": "stdout",
     "output_type": "stream",
     "text": [
      "one      0\n",
      "two      1\n",
      "three    2\n",
      "Name: 0, dtype: int32\n",
      "one      3\n",
      "two      4\n",
      "three    5\n",
      "Name: 1, dtype: int32\n",
      "one      6\n",
      "two      7\n",
      "three    8\n",
      "Name: 2, dtype: int32\n",
      "one       9\n",
      "two      10\n",
      "three    11\n",
      "Name: 3, dtype: int32\n",
      "one      12\n",
      "two      13\n",
      "three    14\n",
      "Name: 4, dtype: int32\n"
     ]
    }
   ],
   "source": [
    "for index,row in df.iterrows():\n",
    "    print(row)\n",
    "    "
   ]
  },
  {
   "cell_type": "code",
   "execution_count": 21,
   "metadata": {},
   "outputs": [
    {
     "name": "stdout",
     "output_type": "stream",
     "text": [
      "0 0 1 2\n",
      "1 3 4 5\n",
      "2 6 7 8\n",
      "3 9 10 11\n",
      "4 12 13 14\n"
     ]
    }
   ],
   "source": [
    "for index,val1,val2,val3 in df.itertuples():\n",
    "    print(index,val1,val2,val3)"
   ]
  }
 ],
 "metadata": {
  "kernelspec": {
   "display_name": "Python 3",
   "language": "python",
   "name": "python3"
  },
  "language_info": {
   "codemirror_mode": {
    "name": "ipython",
    "version": 3
   },
   "file_extension": ".py",
   "mimetype": "text/x-python",
   "name": "python",
   "nbconvert_exporter": "python",
   "pygments_lexer": "ipython3",
   "version": "3.7.3"
  }
 },
 "nbformat": 4,
 "nbformat_minor": 2
}
