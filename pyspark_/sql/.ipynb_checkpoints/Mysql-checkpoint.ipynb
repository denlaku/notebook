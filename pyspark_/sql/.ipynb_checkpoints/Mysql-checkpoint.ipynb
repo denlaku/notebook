{
 "cells": [
  {
   "cell_type": "code",
   "execution_count": 6,
   "metadata": {},
   "outputs": [
    {
     "name": "stdout",
     "output_type": "stream",
     "text": [
      "+---+------+---+------+\n",
      "| id| fname|age|deptno|\n",
      "+---+------+---+------+\n",
      "|  1|name_1| 20|    10|\n",
      "| 81|name-2| 22|    20|\n",
      "+---+------+---+------+\n",
      "\n"
     ]
    }
   ],
   "source": [
    "from pyspark import SparkConf\n",
    "from pyspark.sql import SparkSession, SQLContext\n",
    "\n",
    "ss = SparkSession.builder.config(conf = SparkConf()).getOrCreate()\n",
    "sc = ss.sparkContext\n",
    "sqlContext = SQLContext(sc)\n",
    "url = \"jdbc:mysql://localhost:3306/demo?characterEncoding=utf8&useSSL=false&serverTimezone=UTC\"\n",
    "table = \"dept\"\n",
    "properties = {\n",
    "    \"user\": \"root\",\n",
    "    \"password\": \"denlaku\"\n",
    "}\n",
    "# 需要传入MySql的URL、表名、properties（连接数据库的用户名密码）\n",
    "df = sqlContext.read.jdbc(url, table, properties=properties)\n",
    "df.createOrReplaceTempView(\"dbs\")\n",
    "sqlContext.sql(\"select * from dbs\").show()"
   ]
  }
 ],
 "metadata": {
  "kernelspec": {
   "display_name": "Python 3",
   "language": "python",
   "name": "python3"
  },
  "language_info": {
   "codemirror_mode": {
    "name": "ipython",
    "version": 3
   },
   "file_extension": ".py",
   "mimetype": "text/x-python",
   "name": "python",
   "nbconvert_exporter": "python",
   "pygments_lexer": "ipython3",
   "version": "3.7.3"
  }
 },
 "nbformat": 4,
 "nbformat_minor": 2
}
