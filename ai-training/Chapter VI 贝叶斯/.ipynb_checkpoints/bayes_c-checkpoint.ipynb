{
 "cells": [
  {
   "cell_type": "code",
   "execution_count": 5,
   "metadata": {},
   "outputs": [
    {
     "name": "stdout",
     "output_type": "stream",
     "text": [
      "0.8136645962732919\n"
     ]
    }
   ],
   "source": [
    "# -*- coding: utf-8 -*-\n",
    "\n",
    "from sklearn import naive_bayes\n",
    "\n",
    "model_G = naive_bayes.GaussianNB()\n",
    "\n",
    "###假设高斯分布，没有超参数，最常用的朴素贝叶斯分类器\n",
    "\n",
    "model_M = naive_bayes.MultinomialNB(\n",
    "                                  alpha = 1.0,\n",
    "                                  fit_prior = True,\n",
    "                                  class_prior = True,\n",
    "                                  )\n",
    "    \n",
    "###假设多项式分布，如果样本全部或者大多数为离散型，用它就对了\n",
    "#alpha ，是否使用平滑，默认为1，如果你的样本中确定所有类别都出现了，就不需要使用平滑\n",
    "#fit_prior，是否考虑先验概率，默认为True（即统计样本的概率），如果为False就不统计样本，单纯假设样本都符合多项式分布\n",
    "#class_prior，如果fit_prior不启用，可以手动输入先验概率\n",
    "\n",
    "\n",
    "model_B = naive_bayes.BernoulliNB(\n",
    "                                  alpha = 1.0,\n",
    "                                  fit_prior = True,\n",
    "                                  class_prior = True,\n",
    "                                  binarize = None\n",
    "                                  )\n",
    "\n",
    "    \n",
    "###假设符合二项分布（将特征以某个阈值分割，变为0/1）\n",
    "#alpha ，是否使用平滑，默认为1，如果你的样本中确定所有类别都出现了，就不需要使用平滑\n",
    "#fit_prior，是否考虑先验概率，默认为True（即统计样本的概率），如果为False就不统计样本，单纯假设样本都符合多项式分布\n",
    "#class_prior，如果fit_prior不启用，可以手动输入先验概率\n",
    "#binarize 分割特征的阈值，默认为空（即默认为数据本身特征为0/1形式）\n",
    "\n",
    "\n",
    "\n",
    "#读取数据\n",
    "import pandas as pd\n",
    "\n",
    "data = pd.read_csv('vehicle.csv')\n",
    "\n",
    "#分离特征与标签\n",
    "labels = data['label']\n",
    "data = data.drop(['label'],axis = 1)\n",
    "\n",
    "#分离训练与测试\n",
    "from sklearn.model_selection import train_test_split\n",
    "feature_train, feature_test, label_train, label_test = train_test_split(data, labels,test_size = 0.2 ,random_state = 1001)\n",
    "\n",
    "model_G.fit(feature_train, label_train) \n",
    "\n",
    "#预测并评估\n",
    "from sklearn.metrics import f1_score\n",
    "prediction = model_G.predict(feature_test)\n",
    "\n",
    "current_f1 = f1_score(prediction, label_test,average = 'macro')\n",
    "print(current_f1)"
   ]
  }
 ],
 "metadata": {
  "kernelspec": {
   "display_name": "Python 3",
   "language": "python",
   "name": "python3"
  },
  "language_info": {
   "codemirror_mode": {
    "name": "ipython",
    "version": 3
   },
   "file_extension": ".py",
   "mimetype": "text/x-python",
   "name": "python",
   "nbconvert_exporter": "python",
   "pygments_lexer": "ipython3",
   "version": "3.7.3"
  }
 },
 "nbformat": 4,
 "nbformat_minor": 2
}
