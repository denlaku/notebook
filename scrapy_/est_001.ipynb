{
 "cells": [
  {
   "cell_type": "code",
   "execution_count": 132,
   "metadata": {},
   "outputs": [],
   "source": [
    "import scrapy\n",
    "import time\n",
    "class MyItem(scrapy.Item):\n",
    "    name = scrapy.Field()\n",
    "    age = scrapy.Field()\n",
    "    \n",
    "i = MyItem()\n",
    "i['name'] = 'tom'\n",
    "\n",
    "i['name']\n",
    "\n",
    "# help(i)\n",
    "\n",
    "import requests\n",
    "\n",
    "ip_api = 'http://webapi.http.zhimacangku.com/getip?num=15&type=2&pro=&city=0&yys=0&port=11&pack=51634&ts=0&ys=0&cs=0&lb=1&sb=0&pb=4&mr=1&regions='\n",
    "def get_ips():\n",
    "    response = requests.get(ip_api)\n",
    "    json = response.json()\n",
    "    if json != None and json['success']:\n",
    "        data = json['data']\n",
    "        ips = []\n",
    "        for one in data:\n",
    "            ips.append(one['ip'] + \":\" + str(one['port']))\n",
    "        return ips\n",
    "    time.sleep(3)\n",
    "    return get_ips()\n",
    "\n",
    "\n",
    "# def ip_func():\n",
    "#     ips = []\n",
    "#     counts = {}\n",
    "#     def get_ips_counts():\n",
    "#         if len(ips) <= 0:\n",
    "#             global ips\n",
    "#             global counts\n",
    "#             ips = get_ips()\n",
    "#             counts = {}\n",
    "#         return ips, counts\n",
    "#     return get_ips_counts\n",
    "\n",
    "# ips_counts = ip_func()\n",
    "\n",
    "ips = get_ips()\n",
    "counts = {}\n",
    "\n",
    "def get_ip():\n",
    "    global ips\n",
    "    global counts\n",
    "    l = len(ips)\n",
    "    if l > 0:\n",
    "        ip = ips[l - 1]\n",
    "        if counts.get(ip, 0) < 10:\n",
    "            counts[ip] = counts.get(ip, 0) + 1\n",
    "            if counts.get(ip, 0) >= 10:\n",
    "                ips.pop()\n",
    "            return ip\n",
    "    ips = get_ips()\n",
    "    counts = {}\n",
    "\n",
    "\n"
   ]
  },
  {
   "cell_type": "code",
   "execution_count": 194,
   "metadata": {},
   "outputs": [
    {
     "name": "stdout",
     "output_type": "stream",
     "text": [
      "220.179.211.152:4276\n"
     ]
    }
   ],
   "source": [
    "print(get_ip())"
   ]
  }
 ],
 "metadata": {
  "kernelspec": {
   "display_name": "Python 3",
   "language": "python",
   "name": "python3"
  },
  "language_info": {
   "codemirror_mode": {
    "name": "ipython",
    "version": 3
   },
   "file_extension": ".py",
   "mimetype": "text/x-python",
   "name": "python",
   "nbconvert_exporter": "python",
   "pygments_lexer": "ipython3",
   "version": "3.7.3"
  }
 },
 "nbformat": 4,
 "nbformat_minor": 2
}
