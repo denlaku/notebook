{
 "cells": [
  {
   "cell_type": "code",
   "execution_count": null,
   "metadata": {},
   "outputs": [
    {
     "name": "stdout",
     "output_type": "stream",
     "text": [
      "showing info https://raw.githubusercontent.com/nltk/nltk_data/gh-pages/index.xml\n"
     ]
    },
    {
     "name": "stderr",
     "output_type": "stream",
     "text": [
      "Exception in Tkinter callback\n",
      "Traceback (most recent call last):\n",
      "  File \"c:\\myprogram\\python\\python37\\lib\\tkinter\\__init__.py\", line 1705, in __call__\n",
      "    return self.func(*args)\n",
      "  File \"c:\\myprogram\\python\\python37\\lib\\site-packages\\nltk\\downloader.py\", line 1517, in <lambda>\n",
      "    entry.bind('<Button-1>', lambda e, key=key: self._info_edit(key))\n",
      "  File \"c:\\myprogram\\python\\python37\\lib\\site-packages\\nltk\\downloader.py\", line 1640, in _info_edit\n",
      "    self._info_save()  # just in case.\n",
      "  File \"c:\\myprogram\\python\\python37\\lib\\site-packages\\nltk\\downloader.py\", line 1656, in _info_save\n",
      "    callback(entry.get())\n",
      "  File \"c:\\myprogram\\python\\python37\\lib\\site-packages\\nltk\\downloader.py\", line 1679, in _set_url\n",
      "    self._ds.url = url\n",
      "  File \"c:\\myprogram\\python\\python37\\lib\\site-packages\\nltk\\downloader.py\", line 1052, in _set_url\n",
      "    self._update_index(url)\n",
      "  File \"c:\\myprogram\\python\\python37\\lib\\site-packages\\nltk\\downloader.py\", line 962, in _update_index\n",
      "    ElementTree.parse(urlopen(self._url)).getroot()\n",
      "  File \"c:\\myprogram\\python\\python37\\lib\\urllib\\request.py\", line 222, in urlopen\n",
      "    return opener.open(url, data, timeout)\n",
      "  File \"c:\\myprogram\\python\\python37\\lib\\urllib\\request.py\", line 510, in open\n",
      "    req = Request(fullurl, data)\n",
      "  File \"c:\\myprogram\\python\\python37\\lib\\urllib\\request.py\", line 328, in __init__\n",
      "    self.full_url = url\n",
      "  File \"c:\\myprogram\\python\\python37\\lib\\urllib\\request.py\", line 354, in full_url\n",
      "    self._parse()\n",
      "  File \"c:\\myprogram\\python\\python37\\lib\\urllib\\request.py\", line 383, in _parse\n",
      "    raise ValueError(\"unknown url type: %r\" % self.full_url)\n",
      "ValueError: unknown url type: 'nt.com/nltk/nltk_data/gh-pages/index.xml'\n",
      "Exception in Tkinter callback\n",
      "Traceback (most recent call last):\n",
      "  File \"c:\\myprogram\\python\\python37\\lib\\tkinter\\__init__.py\", line 1705, in __call__\n",
      "    return self.func(*args)\n",
      "  File \"c:\\myprogram\\python\\python37\\lib\\site-packages\\nltk\\downloader.py\", line 1517, in <lambda>\n",
      "    entry.bind('<Button-1>', lambda e, key=key: self._info_edit(key))\n",
      "  File \"c:\\myprogram\\python\\python37\\lib\\site-packages\\nltk\\downloader.py\", line 1640, in _info_edit\n",
      "    self._info_save()  # just in case.\n",
      "  File \"c:\\myprogram\\python\\python37\\lib\\site-packages\\nltk\\downloader.py\", line 1656, in _info_save\n",
      "    callback(entry.get())\n",
      "  File \"c:\\myprogram\\python\\python37\\lib\\site-packages\\nltk\\downloader.py\", line 1679, in _set_url\n",
      "    self._ds.url = url\n",
      "  File \"c:\\myprogram\\python\\python37\\lib\\site-packages\\nltk\\downloader.py\", line 1052, in _set_url\n",
      "    self._update_index(url)\n",
      "  File \"c:\\myprogram\\python\\python37\\lib\\site-packages\\nltk\\downloader.py\", line 962, in _update_index\n",
      "    ElementTree.parse(urlopen(self._url)).getroot()\n",
      "  File \"c:\\myprogram\\python\\python37\\lib\\urllib\\request.py\", line 222, in urlopen\n",
      "    return opener.open(url, data, timeout)\n",
      "  File \"c:\\myprogram\\python\\python37\\lib\\urllib\\request.py\", line 510, in open\n",
      "    req = Request(fullurl, data)\n",
      "  File \"c:\\myprogram\\python\\python37\\lib\\urllib\\request.py\", line 328, in __init__\n",
      "    self.full_url = url\n",
      "  File \"c:\\myprogram\\python\\python37\\lib\\urllib\\request.py\", line 354, in full_url\n",
      "    self._parse()\n",
      "  File \"c:\\myprogram\\python\\python37\\lib\\urllib\\request.py\", line 383, in _parse\n",
      "    raise ValueError(\"unknown url type: %r\" % self.full_url)\n",
      "ValueError: unknown url type: 'nt.com/nltk/nltk_data/gh-pages/index.xml'\n",
      "Exception in Tkinter callback\n",
      "Traceback (most recent call last):\n",
      "  File \"c:\\myprogram\\python\\python37\\lib\\tkinter\\__init__.py\", line 1705, in __call__\n",
      "    return self.func(*args)\n",
      "  File \"c:\\myprogram\\python\\python37\\lib\\site-packages\\nltk\\downloader.py\", line 1656, in _info_save\n",
      "    callback(entry.get())\n",
      "  File \"c:\\myprogram\\python\\python37\\lib\\site-packages\\nltk\\downloader.py\", line 1679, in _set_url\n",
      "    self._ds.url = url\n",
      "  File \"c:\\myprogram\\python\\python37\\lib\\site-packages\\nltk\\downloader.py\", line 1052, in _set_url\n",
      "    self._update_index(url)\n",
      "  File \"c:\\myprogram\\python\\python37\\lib\\site-packages\\nltk\\downloader.py\", line 962, in _update_index\n",
      "    ElementTree.parse(urlopen(self._url)).getroot()\n",
      "  File \"c:\\myprogram\\python\\python37\\lib\\xml\\etree\\ElementTree.py\", line 1197, in parse\n",
      "    tree.parse(source, parser)\n",
      "  File \"c:\\myprogram\\python\\python37\\lib\\xml\\etree\\ElementTree.py\", line 598, in parse\n",
      "    self._root = parser._parse_whole(source)\n",
      "  File \"<string>\", line None\n",
      "xml.etree.ElementTree.ParseError: not well-formed (invalid token): line 44, column 88\n"
     ]
    }
   ],
   "source": [
    "import nltk\n",
    "nltk.download()\n",
    "# sentence = \"\"\"At eight o'clock on Thursday morning\n",
    "# ... Arthur didn't feel very good.\"\"\"\n",
    "# tokens = nltk.word_tokenize(sentence)\n",
    "# tokens"
   ]
  }
 ],
 "metadata": {
  "kernelspec": {
   "display_name": "Python 3",
   "language": "python",
   "name": "python3"
  },
  "language_info": {
   "codemirror_mode": {
    "name": "ipython",
    "version": 3
   },
   "file_extension": ".py",
   "mimetype": "text/x-python",
   "name": "python",
   "nbconvert_exporter": "python",
   "pygments_lexer": "ipython3",
   "version": "3.7.3"
  }
 },
 "nbformat": 4,
 "nbformat_minor": 2
}
