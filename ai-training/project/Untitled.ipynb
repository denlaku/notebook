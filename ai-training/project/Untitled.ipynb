{
 "cells": [
  {
   "cell_type": "code",
   "execution_count": 2,
   "metadata": {
    "scrolled": false
   },
   "outputs": [
    {
     "data": {
      "text/plain": [
       "'\\nCreated on Mon May 13 06:17:34 2019\\n\\n@author: User\\n'"
      ]
     },
     "execution_count": 2,
     "metadata": {},
     "output_type": "execute_result"
    },
    {
     "name": "stderr",
     "output_type": "stream",
     "text": [
      "c:\\myprogram\\python\\python37\\lib\\site-packages\\sklearn\\linear_model\\logistic.py:433: FutureWarning: Default solver will be changed to 'lbfgs' in 0.22. Specify a solver to silence this warning.\n",
      "  FutureWarning)\n"
     ]
    },
    {
     "name": "stdout",
     "output_type": "stream",
     "text": [
      "score:  0.7030754403942809\n"
     ]
    },
    {
     "name": "stderr",
     "output_type": "stream",
     "text": [
      "c:\\myprogram\\python\\python37\\lib\\site-packages\\sklearn\\svm\\base.py:931: ConvergenceWarning: Liblinear failed to converge, increase the number of iterations.\n",
      "  \"the number of iterations.\", ConvergenceWarning)\n"
     ]
    },
    {
     "data": {
      "text/plain": [
       "['train1.model']"
      ]
     },
     "execution_count": 2,
     "metadata": {},
     "output_type": "execute_result"
    }
   ],
   "source": [
    "# -*- coding: utf-8 -*-\n",
    "\"\"\"\n",
    "Created on Mon May 13 06:17:34 2019\n",
    "\n",
    "@author: User\n",
    "\"\"\"\n",
    "\n",
    "import numpy as np\n",
    "import pandas as pd\n",
    "\n",
    "data = pd.read_csv('train1.csv')\n",
    "test_data = pd.read_csv('test.csv')\n",
    "\n",
    "def process_data(data, test_data):\n",
    "    df = pd.concat([data, test_data])\n",
    "    TARGET = df['TARGET']\n",
    "    df = df.drop('TARGET', axis=1)\n",
    "    df = pd.get_dummies(df, dummy_na=True)\n",
    "    df = df.fillna(0)\n",
    "    df['TARGET'] = TARGET\n",
    "    \n",
    "    from sklearn.preprocessing import PolynomialFeatures\n",
    "    poly_features = df[[\n",
    "            'age', 'duration', 'default', 'campaign', 'loan']]\n",
    "    poly_transformer = PolynomialFeatures(degree = 3)\n",
    "    poly_transformer.fit(poly_features)\n",
    "    poly_features = poly_transformer.transform(poly_features)\n",
    "    \n",
    "    poly_features = pd.DataFrame(poly_features, columns = poly_transformer.get_feature_names([\n",
    "            'age', 'duration', 'default', 'campaign', 'loan']))\n",
    "    \n",
    "    ID = np.array(df['ID'])\n",
    "    poly_features['ID'] = ID\n",
    "    app_poly = df.merge(poly_features, on='ID', how='left')\n",
    "    \n",
    "    return app_poly\n",
    "\n",
    "df = process_data(data, test_data)\n",
    "\n",
    "\n",
    "def modeling(df):\n",
    "    train_df = df[df['TARGET'].notnull()]\n",
    "    test_df = df[df['TARGET'].isnull()]\n",
    "    train_x = train_df.drop(['TARGET', 'ID'], axis=1)\n",
    "    train_y = train_df['TARGET']\n",
    "    \n",
    "    test_x = test_df.drop(['TARGET', 'ID'], axis=1)\n",
    "    \n",
    "    from sklearn.model_selection import train_test_split\n",
    "    train_x_in, valid_x, train_y_in, valid_y = train_test_split(train_x, train_y, test_size = 0.2)\n",
    "\n",
    "    from sklearn.linear_model import LogisticRegression\n",
    "    model = LogisticRegression()\n",
    "    model.fit(train_x_in, train_y_in)\n",
    "    prediction_all = model.predict_proba(valid_x)\n",
    "    prediction = prediction_all[:,1]\n",
    "    \n",
    "    from sklearn.metrics import roc_auc_score\n",
    "    score = roc_auc_score(np.array(valid_y), prediction)\n",
    "    print('score: ', score)\n",
    "    \n",
    "    prediction_test = model.predict_proba(test_x)[:,1]\n",
    "    sub = pd.DataFrame()\n",
    "    sub['TARGET'] = prediction_test\n",
    "    sub['ID'] = test_df['ID'].reset_index(drop=True)\n",
    "    sub.to_csv('submission.csv', index=False)\n",
    "    \n",
    "    return  model, sub\n",
    "\n",
    "model, sub = modeling(df)\n",
    "\n",
    "from sklearn.externals import joblib\n",
    "joblib.dump(model, 'train1.model')\n"
   ]
  }
 ],
 "metadata": {
  "kernelspec": {
   "display_name": "Python 3",
   "language": "python",
   "name": "python3"
  },
  "language_info": {
   "codemirror_mode": {
    "name": "ipython",
    "version": 3
   },
   "file_extension": ".py",
   "mimetype": "text/x-python",
   "name": "python",
   "nbconvert_exporter": "python",
   "pygments_lexer": "ipython3",
   "version": "3.7.3"
  }
 },
 "nbformat": 4,
 "nbformat_minor": 2
}
