{
 "cells": [
  {
   "cell_type": "code",
   "execution_count": 15,
   "metadata": {},
   "outputs": [],
   "source": [
    "from sklearn.cluster import KMeans\n",
    "# ?KMeans\n",
    "model_kmeans = KMeans(\n",
    "    n_clusters=8,\n",
    "    init='k-means++',\n",
    "    n_init=10,\n",
    "    max_iter=300,\n",
    "    tol=0.0001,\n",
    "    precompute_distances='auto',\n",
    "    verbose=0,\n",
    "    random_state=None,\n",
    "    copy_x=True,\n",
    "    n_jobs=None,\n",
    "    algorithm='auto',\n",
    ")\n",
    "\n",
    "from sklearn.cluster import AgglomerativeClustering\n",
    "# ?AgglomerativeClustering\n",
    "model_agg = AgglomerativeClustering(\n",
    "    n_clusters=2,\n",
    "    affinity='euclidean',\n",
    "    memory=None,\n",
    "    connectivity=None,\n",
    "    compute_full_tree='auto',\n",
    "    linkage='ward',\n",
    "    pooling_func='deprecated',\n",
    "    distance_threshold=None,\n",
    ")\n",
    "\n",
    "from sklearn.cluster import DBSCAN\n",
    "# ?DBSCAN\n",
    "model_dbscan = DBSCAN(\n",
    "    eps=0.5,\n",
    "    min_samples=5,\n",
    "    metric='euclidean',\n",
    "    metric_params=None,\n",
    "    algorithm='auto',\n",
    "    leaf_size=30,\n",
    "    p=None,\n",
    "    n_jobs=None,\n",
    ")\n",
    "\n",
    "import numpy as np\n",
    "\n",
    "\n",
    "\n"
   ]
  }
 ],
 "metadata": {
  "kernelspec": {
   "display_name": "Python 3",
   "language": "python",
   "name": "python3"
  },
  "language_info": {
   "codemirror_mode": {
    "name": "ipython",
    "version": 3
   },
   "file_extension": ".py",
   "mimetype": "text/x-python",
   "name": "python",
   "nbconvert_exporter": "python",
   "pygments_lexer": "ipython3",
   "version": "3.7.3"
  }
 },
 "nbformat": 4,
 "nbformat_minor": 2
}
