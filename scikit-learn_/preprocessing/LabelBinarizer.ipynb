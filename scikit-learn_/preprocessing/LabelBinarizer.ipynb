{
 "cells": [
  {
   "cell_type": "code",
   "execution_count": 7,
   "metadata": {},
   "outputs": [
    {
     "data": {
      "text/plain": [
       "LabelBinarizer(neg_label=0, pos_label=1, sparse_output=False)"
      ]
     },
     "execution_count": 7,
     "metadata": {},
     "output_type": "execute_result"
    },
    {
     "data": {
      "text/plain": [
       "array([[1, 0, 0, 0],\n",
       "       [0, 0, 1, 0]])"
      ]
     },
     "execution_count": 7,
     "metadata": {},
     "output_type": "execute_result"
    },
    {
     "data": {
      "text/plain": [
       "array([[0, 0, 1, 0],\n",
       "       [1, 0, 0, 0],\n",
       "       [0, 1, 0, 0],\n",
       "       [0, 0, 0, 1]])"
      ]
     },
     "execution_count": 7,
     "metadata": {},
     "output_type": "execute_result"
    }
   ],
   "source": [
    "from sklearn.preprocessing import LabelBinarizer\n",
    "# ?LabelBinarizer\n",
    "lb = LabelBinarizer()\n",
    "lb.fit([1, 2, 6, 4, 2])\n",
    "lb.transform([1, 4])\n",
    "\n",
    "lb.fit_transform(['yes', 'no', 'no-yes', 'yes-no'])\n",
    "\n",
    "# lb.fit(['yes', 'no', 'no', 'yes'])\n",
    "# lb.transform(['yes', 'no', 'no', 'yes'])"
   ]
  },
  {
   "cell_type": "code",
   "execution_count": 22,
   "metadata": {},
   "outputs": [
    {
     "data": {
      "text/plain": [
       "array([[0, 0, 1],\n",
       "       [1, 0, 0],\n",
       "       [0, 1, 0],\n",
       "       [0, 0, 1]])"
      ]
     },
     "execution_count": 22,
     "metadata": {},
     "output_type": "execute_result"
    },
    {
     "data": {
      "text/plain": [
       "array([[0, 0, 1]])"
      ]
     },
     "execution_count": 22,
     "metadata": {},
     "output_type": "execute_result"
    },
    {
     "data": {
      "text/plain": [
       "array(['yes'], dtype='<U6')"
      ]
     },
     "execution_count": 22,
     "metadata": {},
     "output_type": "execute_result"
    }
   ],
   "source": [
    "from sklearn import preprocessing\n",
    "from sklearn import tree\n",
    "\n",
    "# help(preprocessing.LabelBinarizer)#取消注释可以查看详细用法\n",
    "\n",
    "# 特征矩阵\n",
    "featureList=[[1,0],[1,1],[0,0],[0,1]]\n",
    "# 标签矩阵\n",
    "labelList=['yes', 'no', 'no-yes', 'yes']\n",
    "# 将标签矩阵二值化\n",
    "lb = preprocessing.LabelBinarizer()\n",
    "dummY=lb.fit_transform(labelList)\n",
    "dummY\n",
    "# print(dummY)\n",
    "# 模型建立和训练\n",
    "clf = tree.DecisionTreeClassifier()\n",
    "clf = clf.fit(featureList, dummY)\n",
    "p=clf.predict([[0,1]])\n",
    "# print(p)#取消注释可以查看p的值\n",
    "p\n",
    "# 逆过程\n",
    "yesORno=lb.inverse_transform(p)\n",
    "yesORno"
   ]
  }
 ],
 "metadata": {
  "kernelspec": {
   "display_name": "Python 3",
   "language": "python",
   "name": "python3"
  },
  "language_info": {
   "codemirror_mode": {
    "name": "ipython",
    "version": 3
   },
   "file_extension": ".py",
   "mimetype": "text/x-python",
   "name": "python",
   "nbconvert_exporter": "python",
   "pygments_lexer": "ipython3",
   "version": "3.7.3"
  }
 },
 "nbformat": 4,
 "nbformat_minor": 2
}
