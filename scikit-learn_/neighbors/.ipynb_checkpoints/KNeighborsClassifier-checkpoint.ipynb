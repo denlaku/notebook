{
 "cells": [
  {
   "cell_type": "code",
   "execution_count": 51,
   "metadata": {},
   "outputs": [
    {
     "data": {
      "text/plain": [
       "KNeighborsClassifier(algorithm='auto', leaf_size=30, metric='minkowski',\n",
       "                     metric_params=None, n_jobs=None, n_neighbors=1, p=2,\n",
       "                     weights='uniform')"
      ]
     },
     "execution_count": 51,
     "metadata": {},
     "output_type": "execute_result"
    },
    {
     "data": {
      "text/plain": [
       "[[4.8, 5, 5.3, 5.1], [2.1, 2.2, 1.8, 2], [1.2, 1.1, 1.0, 1.0]]"
      ]
     },
     "execution_count": 51,
     "metadata": {},
     "output_type": "execute_result"
    },
    {
     "data": {
      "text/plain": [
       "[5, 2, 1]"
      ]
     },
     "execution_count": 51,
     "metadata": {},
     "output_type": "execute_result"
    },
    {
     "data": {
      "text/plain": [
       "array([5, 2, 1])"
      ]
     },
     "execution_count": 51,
     "metadata": {},
     "output_type": "execute_result"
    }
   ],
   "source": [
    "from sklearn.neighbors import KNeighborsClassifier\n",
    "\n",
    "model = KNeighborsClassifier(\n",
    "    n_neighbors=1,\n",
    "    weights='uniform',\n",
    "    algorithm='auto',\n",
    "    leaf_size=30,\n",
    "    p=2,\n",
    "    metric='minkowski',\n",
    "    metric_params=None,\n",
    "    n_jobs=None,\n",
    ")\n",
    "\n",
    "\n",
    "data = [\n",
    "    [1, 1.2, 1.3, 0.8],\n",
    "    [2, 2.2, 2.3, 2.4],\n",
    "    [1.2, 1.1, 1.0, 1.0],\n",
    "    [2.1, 2.2, 1.8, 2],\n",
    "    [3, 3.2, 3.3, 2.8],\n",
    "    [2.8, 3, 3.3, 3.0],\n",
    "    [4.0, 4.2,3.9, 4.0],\n",
    "    [4.1, 3.9, 3.9, 4.2],\n",
    "    [5, 5.2, 4.9, 4.8],\n",
    "    [4.8, 5, 5.3, 5.1],\n",
    "]\n",
    "labels = [1, 2, 1, 2, 3, 3, 4, 4, 5, 5]\n",
    "\n",
    "from sklearn.model_selection import train_test_split\n",
    "train_data, test_data, train_labels, test_labels = train_test_split(data, labels, test_size=0.3)\n",
    "\n",
    "\n",
    "\n",
    "model.fit(train_data, train_labels)\n",
    "test_data\n",
    "test_labels\n",
    "model.predict(test_data)\n"
   ]
  }
 ],
 "metadata": {
  "kernelspec": {
   "display_name": "Python 3",
   "language": "python",
   "name": "python3"
  },
  "language_info": {
   "codemirror_mode": {
    "name": "ipython",
    "version": 3
   },
   "file_extension": ".py",
   "mimetype": "text/x-python",
   "name": "python",
   "nbconvert_exporter": "python",
   "pygments_lexer": "ipython3",
   "version": "3.7.3"
  }
 },
 "nbformat": 4,
 "nbformat_minor": 2
}
