{
 "cells": [
  {
   "cell_type": "markdown",
   "metadata": {},
   "source": [
    "# 元组\n",
    "元组中只包含一个元素时，需要在元素后面添加逗号"
   ]
  },
  {
   "cell_type": "code",
   "execution_count": 7,
   "metadata": {},
   "outputs": [
    {
     "name": "stdout",
     "output_type": "stream",
     "text": [
      "(1, 2, 3)\n",
      "(1, 2, 3, 4, 5, 6, 7, 8, 9, 1, 2, 3, 4, 5, 6, 7, 8, 9)\n",
      "(1, 2, 3, 4, 5, 6, 7, 8, 9, '333')\n"
     ]
    }
   ],
   "source": [
    "tup1 = (1, 2, 3, 4, 5, 6, 7, 8, 9)\n",
    "\n",
    "# 元组中只包含一个元素时，需要在元素后面添加逗号\n",
    "tup2 = ('333',)\n",
    "\n",
    "print(tup1[:3])\n",
    "print(tup1 * 2)\n",
    "\n",
    "ntup = tup1 + tup2\n",
    "\n",
    "print(ntup)"
   ]
  }
 ],
 "metadata": {
  "kernelspec": {
   "display_name": "Python 3",
   "language": "python",
   "name": "python3"
  },
  "language_info": {
   "codemirror_mode": {
    "name": "ipython",
    "version": 3
   },
   "file_extension": ".py",
   "mimetype": "text/x-python",
   "name": "python",
   "nbconvert_exporter": "python",
   "pygments_lexer": "ipython3",
   "version": "3.6.8"
  }
 },
 "nbformat": 4,
 "nbformat_minor": 2
}
