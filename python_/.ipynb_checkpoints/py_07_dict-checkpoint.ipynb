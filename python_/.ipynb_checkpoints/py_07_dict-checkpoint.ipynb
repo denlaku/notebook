{
 "cells": [
  {
   "cell_type": "markdown",
   "metadata": {},
   "source": [
    "# 字典"
   ]
  },
  {
   "cell_type": "code",
   "execution_count": 3,
   "metadata": {},
   "outputs": [
    {
     "name": "stdout",
     "output_type": "stream",
     "text": [
      "{(): 1001, 0: 200}\n",
      "{0: 200}\n"
     ]
    }
   ],
   "source": [
    "dict0 = {\n",
    "    (): 100,\n",
    "    0: 200\n",
    "}\n",
    "\n",
    "dict0[()] = 1001\n",
    "\n",
    "print(dict0)\n",
    "\n",
    "del dict0[()]\n",
    "\n",
    "print(dict0)"
   ]
  },
  {
   "cell_type": "code",
   "execution_count": 21,
   "metadata": {},
   "outputs": [
    {
     "name": "stdout",
     "output_type": "stream",
     "text": [
      "None\n",
      "def\n",
      "(True, False)\n",
      "{'name': 'Jeck', 'age': 100, 'isMan': True, 100: 10001}\n"
     ]
    }
   ],
   "source": [
    "org = {\n",
    "    'class': 'Tom',\n",
    "    'name': '||||||'\n",
    "}\n",
    "\n",
    "org2 = {\n",
    "    'name': 'Tom'\n",
    "}\n",
    "\n",
    "person = {\n",
    "    'name': 'Jeck',\n",
    "    'age': 100,\n",
    "    'isMan': True,\n",
    "    100: 10001,\n",
    "    # (1, 2, 3): 123,\n",
    "    True: False\n",
    "}\n",
    "\n",
    "print(person.get('name123'))\n",
    "print(person.pop('name1', 'def'))\n",
    "print(person.popitem())\n",
    "print(person)"
   ]
  },
  {
   "cell_type": "code",
   "execution_count": 53,
   "metadata": {},
   "outputs": [
    {
     "name": "stdout",
     "output_type": "stream",
     "text": [
      "None\n",
      "{'name': '||||||', 'age': 100, 'isMan': True, 'class': 'Tom', 'aaaa': '---', (1, 2, 3): 123}\n",
      "dict_values(['||||||', 100, True, 'Tom', '---', 123])\n",
      "---\n",
      "||||||\n",
      "{'name': '||||||', 'age': 100, 'isMan': True, 'class': 'Tom', 'aaaa': '---', (1, 2, 3): 123}\n"
     ]
    }
   ],
   "source": [
    "print(person.update(org))\n",
    "print(person)\n",
    "\n",
    "print(person.values())\n",
    "\n",
    "print(person.setdefault('aaaa', '---'))\n",
    "print(person.setdefault('name', '+++'))\n",
    "print(person)"
   ]
  },
  {
   "cell_type": "code",
   "execution_count": 31,
   "metadata": {},
   "outputs": [
    {
     "name": "stdout",
     "output_type": "stream",
     "text": [
      "{'age': None, 100: None}\n",
      "{1: 100, 2: 100, 3: 100, 4: 100}\n",
      "{11: 'test', 22: 'test', 33: 'test'}\n",
      "dict_items([('name', '||||||'), ('age', 100), ('isMan', True), (100, 10001), ('class', 'Tom'), ('aaaa', '---')])\n",
      "name ||||||\n",
      "age 100\n",
      "isMan True\n",
      "100 10001\n",
      "class Tom\n",
      "aaaa ---\n"
     ]
    }
   ],
   "source": [
    "print(dict.fromkeys({'age': 100, 100: 200}))\n",
    "print(dict.fromkeys((1,2,3,4), 100))\n",
    "print(dict.fromkeys([11, 22, 33], 'test'))\n",
    "\n",
    "print(person.items())\n",
    "for p in person.items():\n",
    "    print(p[0], p[1])"
   ]
  },
  {
   "cell_type": "code",
   "execution_count": 57,
   "metadata": {},
   "outputs": [
    {
     "name": "stdout",
     "output_type": "stream",
     "text": [
      "{'name': '||||||', 'age': 100, 'isMan': True, 'class': 'Tom', 'aaaa': '---', (1, 2, 3): 123}\n",
      "||||||\n",
      "123\n"
     ]
    }
   ],
   "source": [
    "print(person)\n",
    "person[(1, 2, 3)] = 123\n",
    "print(person['name'])\n",
    "print(person[(1, 2, 3)])\n",
    "# print(person[100])\n",
    "# print(person[True])\n",
    "# del person[100]\n",
    "\n",
    "# print len(person)\n",
    "# person.clear()\n",
    "# print len(person)\n",
    "# print str(person)\n",
    "# print type(person)\n",
    "\n",
    "# per = person.copy()\n",
    "# print per.get('org') == person.get('org')\n",
    "# print per.get('org') == org.copy()\n",
    "# print per == org2\n",
    "# print org == org.copy()\n",
    "\n",
    "# orgcopy = org.copy()\n",
    "# orgcopy['age'] = 100\n",
    "# print orgcopy\n",
    "# print org\n",
    "# print orgcopy == org\n",
    "\n",
    "# print person"
   ]
  }
 ],
 "metadata": {
  "kernelspec": {
   "display_name": "Python 3",
   "language": "python",
   "name": "python3"
  },
  "language_info": {
   "codemirror_mode": {
    "name": "ipython",
    "version": 3
   },
   "file_extension": ".py",
   "mimetype": "text/x-python",
   "name": "python",
   "nbconvert_exporter": "python",
   "pygments_lexer": "ipython3",
   "version": "3.6.8"
  }
 },
 "nbformat": 4,
 "nbformat_minor": 2
}
