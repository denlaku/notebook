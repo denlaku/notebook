{
 "cells": [
  {
   "cell_type": "code",
   "execution_count": 2,
   "metadata": {},
   "outputs": [],
   "source": [
    "from pyspark import SparkConf\n",
    "from pyspark.sql import SparkSession, SQLContext\n",
    "\n",
    "ss = SparkSession.builder.config(conf = SparkConf()).getOrCreate()\n",
    "sc = ss.sparkContext\n",
    "sqlContext = SQLContext(sc)\n",
    "df = sqlContext.read.json(\"people.json\")\n",
    "\n",
    "# 方式一\n",
    "df.write.json(\"output/.people.json\")\n",
    "df.write.parquet(\"output/.people.parquet\")\n",
    "df.write.csv(\"output/.people.csv\")\n",
    "df.write.orc(\"output/.people.orc\")\n",
    "# 方式二\n",
    "df.write.format(\"json\").save(\"output/.people.fmt.json\")\n",
    "df.write.format(\"parquet\").save(\"output/.people.fmt.parquet\")\n",
    "df.write.format(\"csv\").save(\"output/.people.fmt.csv\")\n",
    "df.write.format(\"orc\").save(\"output/.people.fmt.orc\")\n",
    "# 方式三\n",
    "df.write.save(\"output/.people.save\")"
   ]
  }
 ],
 "metadata": {
  "kernelspec": {
   "display_name": "Python 3",
   "language": "python",
   "name": "python3"
  },
  "language_info": {
   "codemirror_mode": {
    "name": "ipython",
    "version": 3
   },
   "file_extension": ".py",
   "mimetype": "text/x-python",
   "name": "python",
   "nbconvert_exporter": "python",
   "pygments_lexer": "ipython3",
   "version": "3.7.3"
  }
 },
 "nbformat": 4,
 "nbformat_minor": 2
}
