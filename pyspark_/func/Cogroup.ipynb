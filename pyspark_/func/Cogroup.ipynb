{
 "cells": [
  {
   "cell_type": "code",
   "execution_count": 21,
   "metadata": {},
   "outputs": [
    {
     "data": {
      "text/plain": [
       "[(2,\n",
       "  (<pyspark.resultiterable.ResultIterable at 0x2d6ffdbb358>,\n",
       "   <pyspark.resultiterable.ResultIterable at 0x2d6ffc4a9e8>)),\n",
       " (1,\n",
       "  (<pyspark.resultiterable.ResultIterable at 0x2d6ffc4a2b0>,\n",
       "   <pyspark.resultiterable.ResultIterable at 0x2d6ffc4a630>)),\n",
       " (3,\n",
       "  (<pyspark.resultiterable.ResultIterable at 0x2d6ffc4a908>,\n",
       "   <pyspark.resultiterable.ResultIterable at 0x2d6ffc4a668>))]"
      ]
     },
     "execution_count": 21,
     "metadata": {},
     "output_type": "execute_result"
    },
    {
     "name": "stdout",
     "output_type": "stream",
     "text": [
      "2 ['bbs'] ['cnblog']\n",
      "----------------------------\n",
      "1 ['www'] ['cnblog']\n",
      "----------------------------\n",
      "3 ['11'] ['very']\n",
      "----------------------------\n"
     ]
    }
   ],
   "source": [
    "from pyspark import SparkConf, SparkContext\n",
    "\n",
    "conf = SparkConf().setMaster(\"local\").setAppName(\"First App\")\n",
    "sc = SparkContext.getOrCreate(conf)\n",
    "\n",
    "list1 = [(1, \"www\"), (2, \"bbs\"), (3, \"11\")]\n",
    "list2 = [(1, \"cnblog\"), (2, \"cnblog\"), (3, \"very\")]\n",
    "list3 = [(1, \"com\"), (2, \"com\"), (3, \"good\")]\n",
    "\n",
    "list1RDD = sc.parallelize(list1)\n",
    "list2RDD = sc.parallelize(list2)\n",
    "list3RDD = sc.parallelize(list3)\n",
    "# ?list1RDD.cogroup\n",
    "results = list1RDD.cogroup(list2RDD).collect()\n",
    "\n",
    "results\n",
    "\n",
    "for result in results:\n",
    "    print(result[0], [a for a in result[1][0]], [b for b in result[1][1]])\n",
    "    print('----------------------------')\n"
   ]
  }
 ],
 "metadata": {
  "kernelspec": {
   "display_name": "Python 3",
   "language": "python",
   "name": "python3"
  },
  "language_info": {
   "codemirror_mode": {
    "name": "ipython",
    "version": 3
   },
   "file_extension": ".py",
   "mimetype": "text/x-python",
   "name": "python",
   "nbconvert_exporter": "python",
   "pygments_lexer": "ipython3",
   "version": "3.7.3"
  }
 },
 "nbformat": 4,
 "nbformat_minor": 2
}
