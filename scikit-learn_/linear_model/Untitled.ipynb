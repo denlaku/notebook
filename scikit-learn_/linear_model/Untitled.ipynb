{
 "cells": [
  {
   "cell_type": "code",
   "execution_count": 79,
   "metadata": {
    "scrolled": false
   },
   "outputs": [
    {
     "data": {
      "text/plain": [
       "LinearRegression(copy_X=True, fit_intercept=True, n_jobs=None, normalize=False)"
      ]
     },
     "execution_count": 79,
     "metadata": {},
     "output_type": "execute_result"
    },
    {
     "data": {
      "text/plain": [
       "array([0.66590478, 0.67208234, 0.62549822, 0.85451339, 0.82858127])"
      ]
     },
     "execution_count": 79,
     "metadata": {},
     "output_type": "execute_result"
    }
   ],
   "source": [
    "from sklearn.linear_model import LinearRegression\n",
    "from sklearn.model_selection import train_test_split, cross_val_score, cross_val_predict, cross_validate, learning_curve,validation_curve\n",
    "from sklearn.metrics import classification_report, f1_score, confusion_matrix\n",
    "from sklearn.datasets import load_boston\n",
    "import numpy as np\n",
    "# ?LinearRegression\n",
    "\n",
    "boston = load_boston()\n",
    "\n",
    "train_x, test_x, train_y, test_y = train_test_split(boston.data, boston.target)\n",
    "# ?LinearRegression\n",
    "model = LinearRegression()\n",
    "model.fit(train_x, train_y)\n",
    "\n",
    "# ?cross_val_score\n",
    "cross_val_score(model, test_x, test_y, cv=5)\n",
    "\n",
    "# predictions = model.predict(test_x)\n",
    "# ?f1_score\n",
    "# f1_score(test_y, predictions, average='weighted')\n",
    "# classification_report(test_y, predictions, average='macro')\n",
    "# confusion_matrix(test_y, predictions, average='macro')\n",
    "# predictions"
   ]
  }
 ],
 "metadata": {
  "kernelspec": {
   "display_name": "Python 3",
   "language": "python",
   "name": "python3"
  },
  "language_info": {
   "codemirror_mode": {
    "name": "ipython",
    "version": 3
   },
   "file_extension": ".py",
   "mimetype": "text/x-python",
   "name": "python",
   "nbconvert_exporter": "python",
   "pygments_lexer": "ipython3",
   "version": "3.7.3"
  }
 },
 "nbformat": 4,
 "nbformat_minor": 2
}
