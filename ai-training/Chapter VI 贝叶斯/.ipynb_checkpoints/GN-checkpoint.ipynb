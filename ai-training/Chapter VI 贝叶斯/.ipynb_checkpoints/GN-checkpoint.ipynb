{
 "cells": [
  {
   "cell_type": "code",
   "execution_count": 8,
   "metadata": {},
   "outputs": [],
   "source": [
    "# -*- coding: utf-8 -*-\n",
    "\n",
    "\n",
    "###Task 手动构建贝叶斯的一些关键功能\n",
    "\n",
    "\n",
    "import pandas as pd\n",
    "import numpy as np\n",
    "import matplotlib.pylab as plt\n",
    "from collections import  Counter\n",
    "\n",
    "data = pd.read_csv('vehicle.csv')\n",
    "\n",
    "#以下返回值均为两个类别的对应，也就是说返回值应该为一个包含两个值的向量\n",
    "#以下定义是按照计算层级定义的，你也可以自己定义自己的函数，直接顶一个包含很多函数的类去计算\n",
    "\n",
    "def get_mean(data_in):\n",
    "    mean = data_in.mean().values\n",
    "    return mean\n",
    "\n",
    "def get_std(data_in):\n",
    "    std = data.std().values\n",
    "    return std\n",
    "\n",
    "\n",
    "def gaussian_probability(data_in):\n",
    "    return prob\n",
    "\n",
    "\n",
    "def class_probability(data_in):\n",
    "    classes = get_class(data_in)\n",
    "    values = data_in['label'].values\n",
    "    counts = Counter(values)\n",
    "    size = values.size\n",
    "    return np.array([counts[classes[0]] / size, counts[classes[1]] / size])\n",
    "\n",
    "\n",
    "def get_class(data_in):\n",
    "    classes = data_in['label'].unique()\n",
    "    return classes\n",
    "\n"
   ]
  }
 ],
 "metadata": {
  "kernelspec": {
   "display_name": "Python 3",
   "language": "python",
   "name": "python3"
  },
  "language_info": {
   "codemirror_mode": {
    "name": "ipython",
    "version": 3
   },
   "file_extension": ".py",
   "mimetype": "text/x-python",
   "name": "python",
   "nbconvert_exporter": "python",
   "pygments_lexer": "ipython3",
   "version": "3.7.3"
  }
 },
 "nbformat": 4,
 "nbformat_minor": 2
}
