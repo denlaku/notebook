{
 "cells": [
  {
   "cell_type": "code",
   "execution_count": 6,
   "metadata": {},
   "outputs": [
    {
     "name": "stdout",
     "output_type": "stream",
     "text": [
      "95002,刘晨,女,19,IS\n",
      "\n",
      "95002,刘晨,女,19,IS\n",
      "\n",
      "95017,王风娟,女,18,IS\n",
      "\n",
      "95018,王一,女,19,IS\n",
      "\n",
      "95013,冯伟,男,21,CS\n",
      "\n",
      "95014,王小丽,女,19,CS\n",
      "\n",
      "95019,邢小丽,女,19,IS\n",
      "\n",
      "95020,赵钱,男,21,IS\n",
      "\n",
      "95003,王敏,女,22,MA\n",
      "\n",
      "95004,张立,男,19,IS\n",
      "\n",
      "95012,孙花,女,20,CS\n",
      "\n",
      "95010,孔小涛,男,19,CS\n",
      "\n",
      "95005,刘刚,男,18,MA\n",
      "\n",
      "95006,孙庆,男,23,CS\n",
      "\n",
      "95007,易思玲,女,19,MA\n",
      "\n",
      "95008,李娜,女,18,CS\n",
      "\n",
      "95021,周二,男,17,MA\n",
      "\n",
      "95022,郑明,男,20,MA\n",
      "\n",
      "95001,李勇,男,20,CS\n",
      "\n",
      "95011,包小柏,男,18,MA\n",
      "\n",
      "95009,梦圆圆,女,18,MA\n",
      "\n",
      "95015,王君,男,18,MA\n"
     ]
    }
   ],
   "source": [
    "with open('../files/student.txt',encoding='UTF-8') as st:\n",
    "    line=st.readline();\n",
    "    print(line)\n",
    "\n",
    "for line in open('../files/student.txt',encoding='UTF-8'):\n",
    "    print(line)\n"
   ]
  }
 ],
 "metadata": {
  "kernelspec": {
   "display_name": "Python 3",
   "language": "python",
   "name": "python3"
  },
  "language_info": {
   "codemirror_mode": {
    "name": "ipython",
    "version": 3
   },
   "file_extension": ".py",
   "mimetype": "text/x-python",
   "name": "python",
   "nbconvert_exporter": "python",
   "pygments_lexer": "ipython3",
   "version": "3.7.3"
  }
 },
 "nbformat": 4,
 "nbformat_minor": 2
}
