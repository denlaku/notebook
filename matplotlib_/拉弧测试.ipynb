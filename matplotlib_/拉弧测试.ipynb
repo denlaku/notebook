{
 "cells": [
  {
   "cell_type": "code",
   "execution_count": 125,
   "metadata": {},
   "outputs": [
    {
     "data": {
      "text/plain": [
       "[None]"
      ]
     },
     "execution_count": 125,
     "metadata": {},
     "output_type": "execute_result"
    },
    {
     "data": {
      "text/plain": [
       "[None]"
      ]
     },
     "execution_count": 125,
     "metadata": {},
     "output_type": "execute_result"
    },
    {
     "data": {
      "text/plain": [
       "[None, None]"
      ]
     },
     "execution_count": 125,
     "metadata": {},
     "output_type": "execute_result"
    },
    {
     "data": {
      "image/png": "[encoded data removed]",
      "text/plain": [
       "<Figure size 432x288 with 1 Axes>"
      ]
     },
     "metadata": {
      "needs_background": "light"
     },
     "output_type": "display_data"
    },
    {
     "data": {
      "text/plain": [
       "['BASE_COLORS',\n",
       " 'BoundaryNorm',\n",
       " 'CSS4_COLORS',\n",
       " 'ColorConverter',\n",
       " 'Colormap',\n",
       " 'DivergingNorm',\n",
       " 'LightSource',\n",
       " 'LinearSegmentedColormap',\n",
       " 'ListedColormap',\n",
       " 'LogNorm',\n",
       " 'NoNorm',\n",
       " 'Normalize',\n",
       " 'PowerNorm',\n",
       " 'Sized',\n",
       " 'SymLogNorm',\n",
       " 'TABLEAU_COLORS',\n",
       " 'XKCD_COLORS',\n",
       " '_ColorMapping',\n",
       " '__builtins__',\n",
       " '__cached__',\n",
       " '__doc__',\n",
       " '__file__',\n",
       " '__loader__',\n",
       " '__name__',\n",
       " '__package__',\n",
       " '__spec__',\n",
       " '_colors_full_map',\n",
       " '_is_nth_color',\n",
       " '_sanitize_extrema',\n",
       " '_to_rgba_no_colorcycle',\n",
       " '_vector_magnitude',\n",
       " 'cbook',\n",
       " 'cnames',\n",
       " 'colorConverter',\n",
       " 'from_levels_and_colors',\n",
       " 'get_named_colors_mapping',\n",
       " 'hex2color',\n",
       " 'hexColorPattern',\n",
       " 'hsv_to_rgb',\n",
       " 'is_color_like',\n",
       " 'itertools',\n",
       " 'makeMappingArray',\n",
       " 'np',\n",
       " 're',\n",
       " 'rgb2hex',\n",
       " 'rgb_to_hsv',\n",
       " 'same_color',\n",
       " 'to_hex',\n",
       " 'to_rgb',\n",
       " 'to_rgba',\n",
       " 'to_rgba_array']"
      ]
     },
     "execution_count": 125,
     "metadata": {},
     "output_type": "execute_result"
    }
   ],
   "source": [
    "import matplotlib.pyplot as plt\n",
    "import matplotlib.colors as colors\n",
    "import numpy as np\n",
    "\n",
    "def f(t):\n",
    "    'A damped exponential'\n",
    "    s1 = np.cos(2 * np.pi * t)\n",
    "    e1 = np.exp(-t)\n",
    "    return s1 * e1\n",
    "\n",
    "\n",
    "t1 = np.arange(0.0, 5.0, .4)\n",
    "\n",
    "l = plt.plot(t1, f(t1), '#c00000')\n",
    "plt.setp(l, markersize=30)\n",
    "plt.setp(l, markerfacecolor='R')\n",
    "\n",
    "\n",
    "l2 = plt.plot(0.5, 0.5, 'ro', 2, 0.5, 'ro')\n",
    "plt.setp(l2, markersize=50)\n",
    "# plt.setp(l2, markerfacecolor='g')\n",
    "\n",
    "# plt.plot(0.4, 'go--')\n",
    "\n",
    "plt.show()\n",
    "# ?plt.plot\n",
    "dir(colors)"
   ]
  }
 ],
 "metadata": {
  "kernelspec": {
   "display_name": "Python 3",
   "language": "python",
   "name": "python3"
  },
  "language_info": {
   "codemirror_mode": {
    "name": "ipython",
    "version": 3
   },
   "file_extension": ".py",
   "mimetype": "text/x-python",
   "name": "python",
   "nbconvert_exporter": "python",
   "pygments_lexer": "ipython3",
   "version": "3.7.3"
  }
 },
 "nbformat": 4,
 "nbformat_minor": 2
}
