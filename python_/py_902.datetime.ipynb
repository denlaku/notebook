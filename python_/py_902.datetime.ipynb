{
 "cells": [
  {
   "cell_type": "markdown",
   "metadata": {},
   "source": [
    "# datetime"
   ]
  },
  {
   "cell_type": "code",
   "execution_count": 5,
   "metadata": {},
   "outputs": [
    {
     "name": "stdout",
     "output_type": "stream",
     "text": [
      "['__add__', '__class__', '__delattr__', '__dir__', '__doc__', '__eq__', '__format__', '__ge__', '__getattribute__', '__gt__', '__hash__', '__init__', '__init_subclass__', '__le__', '__lt__', '__ne__', '__new__', '__radd__', '__reduce__', '__reduce_ex__', '__repr__', '__rsub__', '__setattr__', '__sizeof__', '__str__', '__sub__', '__subclasshook__', 'astimezone', 'combine', 'ctime', 'date', 'day', 'dst', 'fold', 'fromordinal', 'fromtimestamp', 'hour', 'isocalendar', 'isoformat', 'isoweekday', 'max', 'microsecond', 'min', 'minute', 'month', 'now', 'replace', 'resolution', 'second', 'strftime', 'strptime', 'time', 'timestamp', 'timetuple', 'timetz', 'today', 'toordinal', 'tzinfo', 'tzname', 'utcfromtimestamp', 'utcnow', 'utcoffset', 'utctimetuple', 'weekday', 'year']\n",
      "2019-04-07 09:45:23.336554\n",
      "2019\n",
      "4\n",
      "7\n",
      "9\n",
      "45\n",
      "23\n"
     ]
    }
   ],
   "source": [
    "from datetime import datetime\n",
    "\n",
    "print(dir(datetime))\n",
    "\n",
    "now=datetime.now()\n",
    "print(now)\n",
    "\n",
    "print(now.year)\n",
    "print(now.month)\n",
    "print(now.day)\n",
    "print(now.hour)\n",
    "print(now.minute)\n",
    "print(now.second)"
   ]
  },
  {
   "cell_type": "markdown",
   "metadata": {},
   "source": [
    "# date"
   ]
  },
  {
   "cell_type": "code",
   "execution_count": 2,
   "metadata": {},
   "outputs": [
    {
     "name": "stdout",
     "output_type": "stream",
     "text": [
      "2019-04-07\n",
      "6\n",
      "2019\n",
      "4\n",
      "7\n",
      "Sun Apr  7 00:00:00 2019\n",
      "time.struct_time(tm_year=2019, tm_mon=4, tm_mday=7, tm_hour=0, tm_min=0, tm_sec=0, tm_wday=6, tm_yday=97, tm_isdst=-1)\n"
     ]
    }
   ],
   "source": [
    "from datetime import date\n",
    "\n",
    "# today yyyy-mm-dd\n",
    "today = date.today()\n",
    "print(today)\n",
    "# weekday 0-6\n",
    "print(date.weekday(today))\n",
    "# yead yyyy\n",
    "print(today.year)\n",
    "# month m\n",
    "print(today.month)\n",
    "# day d\n",
    "print(today.day)\n",
    "# ctime\n",
    "print(today.ctime())\n",
    "# timetuple\n",
    "print(today.timetuple())"
   ]
  },
  {
   "cell_type": "markdown",
   "metadata": {},
   "source": [
    "# time"
   ]
  },
  {
   "cell_type": "code",
   "execution_count": 3,
   "metadata": {},
   "outputs": [
    {
     "name": "stdout",
     "output_type": "stream",
     "text": [
      "['__class__', '__delattr__', '__dir__', '__doc__', '__eq__', '__format__', '__ge__', '__getattribute__', '__gt__', '__hash__', '__init__', '__init_subclass__', '__le__', '__lt__', '__ne__', '__new__', '__reduce__', '__reduce_ex__', '__repr__', '__setattr__', '__sizeof__', '__str__', '__subclasshook__', 'dst', 'fold', 'hour', 'isoformat', 'max', 'microsecond', 'min', 'minute', 'replace', 'resolution', 'second', 'strftime', 'tzinfo', 'tzname', 'utcoffset']\n",
      "12:32:59\n",
      "00:00:00\n",
      "23:59:59.999999\n",
      "12\n",
      "32\n",
      "59\n"
     ]
    }
   ],
   "source": [
    "from datetime import time\n",
    "\n",
    "print(dir(time))\n",
    "\n",
    "t=time(hour=12, minute=32, second=59)\n",
    "print(t)\n",
    "\n",
    "print(t.min)\n",
    "print(t.max)\n",
    "print(t.hour)\n",
    "print(t.minute)\n",
    "print(t.second)"
   ]
  }
 ],
 "metadata": {
  "kernelspec": {
   "display_name": "Python 3",
   "language": "python",
   "name": "python3"
  },
  "language_info": {
   "codemirror_mode": {
    "name": "ipython",
    "version": 3
   },
   "file_extension": ".py",
   "mimetype": "text/x-python",
   "name": "python",
   "nbconvert_exporter": "python",
   "pygments_lexer": "ipython3",
   "version": "3.6.8"
  }
 },
 "nbformat": 4,
 "nbformat_minor": 2
}
