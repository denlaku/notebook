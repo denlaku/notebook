{
 "cells": [
  {
   "cell_type": "code",
   "execution_count": 1,
   "metadata": {},
   "outputs": [
    {
     "name": "stderr",
     "output_type": "stream",
     "text": [
      "c:\\myprogram\\python\\python37\\lib\\site-packages\\sklearn\\svm\\base.py:196: FutureWarning: The default value of gamma will change from 'auto' to 'scale' in version 0.22 to account better for unscaled features. Set gamma explicitly to 'auto' or 'scale' to avoid this warning.\n",
      "  \"avoid this warning.\", FutureWarning)\n"
     ]
    },
    {
     "data": {
      "text/plain": [
       "SVC(C=1.0, cache_size=200, class_weight=None, coef0=0.0,\n",
       "  decision_function_shape='ovr', degree=3, gamma='auto_deprecated',\n",
       "  kernel='rbf', max_iter=-1, probability=False, random_state=None,\n",
       "  shrinking=True, tol=0.001, verbose=False)"
      ]
     },
     "execution_count": 1,
     "metadata": {},
     "output_type": "execute_result"
    },
    {
     "data": {
      "text/plain": [
       "'f1 score: 1.0'"
      ]
     },
     "execution_count": 1,
     "metadata": {},
     "output_type": "execute_result"
    },
    {
     "data": {
      "text/plain": [
       "array([  2,  13,  21,  82, 117,   7,  12,  28,  29,  34,  35,  41,  49,\n",
       "        77,  91,  96,  99, 103, 106, 115, 116,   4,  25,  26,  30,  31,\n",
       "        40,  44,  48,  50,  64,  65,  78,  81,  89,  92,  94, 105])"
      ]
     },
     "execution_count": 1,
     "metadata": {},
     "output_type": "execute_result"
    },
    {
     "data": {
      "text/plain": [
       "array([[5.1, 3.8, 1.9, 0.4],\n",
       "       [5.7, 4.4, 1.5, 0.4],\n",
       "       [4.8, 3.4, 1.9, 0.2],\n",
       "       [5.7, 3.8, 1.7, 0.3],\n",
       "       [4.5, 2.3, 1.3, 0.3],\n",
       "       [5.5, 2.6, 4.4, 1.2],\n",
       "       [6.1, 2.9, 4.7, 1.4],\n",
       "       [6.3, 3.3, 4.7, 1.6],\n",
       "       [6.7, 3.1, 4.7, 1.5],\n",
       "       [6. , 2.9, 4.5, 1.5],\n",
       "       [6.7, 3. , 5. , 1.7],\n",
       "       [6.3, 2.5, 4.9, 1.5],\n",
       "       [6.2, 2.2, 4.5, 1.5],\n",
       "       [7. , 3.2, 4.7, 1.4],\n",
       "       [4.9, 2.4, 3.3, 1. ],\n",
       "       [6. , 2.7, 5.1, 1.6],\n",
       "       [5.4, 3. , 4.5, 1.5],\n",
       "       [5.6, 3. , 4.5, 1.5],\n",
       "       [6.5, 2.8, 4.6, 1.5],\n",
       "       [6. , 3.4, 4.5, 1.6],\n",
       "       [5.1, 2.5, 3. , 1.1],\n",
       "       [6.5, 3.2, 5.1, 2. ],\n",
       "       [6.3, 2.5, 5. , 1.9],\n",
       "       [6.3, 3.3, 6. , 2.5],\n",
       "       [6.1, 2.6, 5.6, 1.4],\n",
       "       [6.1, 3. , 4.9, 1.8],\n",
       "       [4.9, 2.5, 4.5, 1.7],\n",
       "       [7.7, 2.6, 6.9, 2.3],\n",
       "       [5.8, 2.7, 5.1, 1.9],\n",
       "       [7.2, 3. , 5.8, 1.6],\n",
       "       [6. , 2.2, 5. , 1.5],\n",
       "       [6. , 3. , 4.8, 1.8],\n",
       "       [6.2, 2.8, 4.8, 1.8],\n",
       "       [5.9, 3. , 5.1, 1.8],\n",
       "       [6.5, 3. , 5.2, 2. ],\n",
       "       [5.6, 2.8, 4.9, 2. ],\n",
       "       [6.3, 2.7, 4.9, 1.8],\n",
       "       [7.9, 3.8, 6.4, 2. ]])"
      ]
     },
     "execution_count": 1,
     "metadata": {},
     "output_type": "execute_result"
    }
   ],
   "source": [
    "from sklearn.svm import SVC\n",
    "from sklearn.datasets import load_iris\n",
    "\n",
    "model = SVC(\n",
    "    C=1.0,\n",
    "    kernel='rbf',\n",
    "    degree=3,\n",
    "    gamma='auto_deprecated',\n",
    "    coef0=0.0,\n",
    "    shrinking=True,\n",
    "    probability=False,\n",
    "    tol=0.001,\n",
    "    cache_size=200,\n",
    "    class_weight=None,\n",
    "    verbose=False,\n",
    "    max_iter=-1,\n",
    "    decision_function_shape='ovr',\n",
    "    random_state=None,\n",
    ")\n",
    "\n",
    "iris = load_iris()\n",
    "data = iris.data\n",
    "labels = iris.target\n",
    "\n",
    "from sklearn.model_selection import train_test_split\n",
    "feature_train, feature_test, label_train, label_test = train_test_split(data, labels, test_size=0.2)\n",
    "model.fit(feature_train, label_train)\n",
    "# svc.intercept_\n",
    "prediction = model.predict(feature_test)\n",
    "prediction \n",
    "label_test\n",
    "# from sklearn.metrics import f1_score\n",
    "# curr_f1 = f1_score(prediction, label_test, average='macro')\n",
    "# 'f1 score: ' + str(curr_f1)\n",
    "# model.support_\n",
    "# model.support_vectors_"
   ]
  }
 ],
 "metadata": {
  "kernelspec": {
   "display_name": "Python 3",
   "language": "python",
   "name": "python3"
  },
  "language_info": {
   "codemirror_mode": {
    "name": "ipython",
    "version": 3
   },
   "file_extension": ".py",
   "mimetype": "text/x-python",
   "name": "python",
   "nbconvert_exporter": "python",
   "pygments_lexer": "ipython3",
   "version": "3.7.3"
  }
 },
 "nbformat": 4,
 "nbformat_minor": 2
}
