{
 "cells": [
  {
   "cell_type": "markdown",
   "metadata": {},
   "source": [
    "## if句"
   ]
  },
  {
   "cell_type": "code",
   "execution_count": 1,
   "metadata": {},
   "outputs": [
    {
     "name": "stdout",
     "output_type": "stream",
     "text": [
      "结果不等于0\n"
     ]
    }
   ],
   "source": [
    "a = 100\n",
    "b = 20\n",
    "if a - b:\n",
    "    print('结果不等于0')\n",
    "else:\n",
    "    print('结果为0')"
   ]
  },
  {
   "cell_type": "markdown",
   "metadata": {},
   "source": [
    "## while循环"
   ]
  },
  {
   "cell_type": "code",
   "execution_count": 2,
   "metadata": {},
   "outputs": [
    {
     "name": "stdout",
     "output_type": "stream",
     "text": [
      "4\n",
      "3\n",
      "2\n",
      "1\n"
     ]
    }
   ],
   "source": [
    "t = True\n",
    "a = 5\n",
    "s = u'Python编程语言'\n",
    "while t:\n",
    "    if (a - 2) == 0:\n",
    "        t = False\n",
    "    a = a - 1\n",
    "    print(a)"
   ]
  },
  {
   "cell_type": "markdown",
   "metadata": {},
   "source": [
    "## for循环"
   ]
  },
  {
   "cell_type": "code",
   "execution_count": 11,
   "metadata": {},
   "outputs": [
    {
     "name": "stdout",
     "output_type": "stream",
     "text": [
      "1\n",
      "2\n",
      "---\n",
      "0 , 1\n",
      "1 , 2\n",
      "2 , ---\n"
     ]
    }
   ],
   "source": [
    "list0 = [1, '2', '---']\n",
    "for l in list0:\n",
    "    print(l)\n",
    "\n",
    "for i, item in enumerate(list0):\n",
    "    print(i, ',', item)"
   ]
  },
  {
   "cell_type": "code",
   "execution_count": 12,
   "metadata": {},
   "outputs": [
    {
     "name": "stdout",
     "output_type": "stream",
     "text": [
      "0 100\n",
      "c 200\n",
      "(1, 2, 3) 300\n",
      "None 400\n"
     ]
    }
   ],
   "source": [
    "dict0 = {\n",
    "    0: 100,\n",
    "    'c': 200,\n",
    "    (1, 2, 3): 300,\n",
    "    None: 400\n",
    "}\n",
    "\n",
    "for key in dict0:\n",
    "    print(key, dict0[key])"
   ]
  },
  {
   "cell_type": "code",
   "execution_count": 13,
   "metadata": {},
   "outputs": [
    {
     "name": "stdout",
     "output_type": "stream",
     "text": [
      "A\n",
      "b\n",
      "C\n",
      "F\n"
     ]
    }
   ],
   "source": [
    "str = \"AbCF\"\n",
    "for c in str:\n",
    "    print(c)"
   ]
  }
 ],
 "metadata": {
  "kernelspec": {
   "display_name": "Python 3",
   "language": "python",
   "name": "python3"
  },
  "language_info": {
   "codemirror_mode": {
    "name": "ipython",
    "version": 3
   },
   "file_extension": ".py",
   "mimetype": "text/x-python",
   "name": "python",
   "nbconvert_exporter": "python",
   "pygments_lexer": "ipython3",
   "version": "3.6.8"
  }
 },
 "nbformat": 4,
 "nbformat_minor": 2
}
