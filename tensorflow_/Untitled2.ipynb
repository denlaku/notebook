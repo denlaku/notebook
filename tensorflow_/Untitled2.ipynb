{
 "cells": [
  {
   "cell_type": "code",
   "execution_count": 24,
   "metadata": {},
   "outputs": [
    {
     "data": {
      "text/plain": [
       "<tf.Tensor 'zeros_23:0' shape=(4, 5) dtype=float32>"
      ]
     },
     "execution_count": 24,
     "metadata": {},
     "output_type": "execute_result"
    },
    {
     "data": {
      "text/plain": [
       "<tf.Tensor 'zeros_like_23:0' shape=(4, 5) dtype=float32>"
      ]
     },
     "execution_count": 24,
     "metadata": {},
     "output_type": "execute_result"
    },
    {
     "data": {
      "text/plain": [
       "<tf.Tensor 'ones_23:0' shape=(3, 3) dtype=float32>"
      ]
     },
     "execution_count": 24,
     "metadata": {},
     "output_type": "execute_result"
    },
    {
     "data": {
      "text/plain": [
       "<tf.Tensor 'LinSpace_22:0' shape=(2,) dtype=float32>"
      ]
     },
     "execution_count": 24,
     "metadata": {},
     "output_type": "execute_result"
    },
    {
     "data": {
      "text/plain": [
       "<tf.Tensor 'range_13:0' shape=(3,) dtype=int32>"
      ]
     },
     "execution_count": 24,
     "metadata": {},
     "output_type": "execute_result"
    },
    {
     "data": {
      "text/plain": [
       "<tf.Tensor 'truncated_normal_7:0' shape=(2, 3) dtype=float32>"
      ]
     },
     "execution_count": 24,
     "metadata": {},
     "output_type": "execute_result"
    },
    {
     "data": {
      "text/plain": [
       "<tf.Tensor 'random_uniform_6:0' shape=(2, 3) dtype=float32>"
      ]
     },
     "execution_count": 24,
     "metadata": {},
     "output_type": "execute_result"
    },
    {
     "data": {
      "text/plain": [
       "<tf.Tensor 'random_crop_3:0' shape=(2, 5) dtype=float32>"
      ]
     },
     "execution_count": 24,
     "metadata": {},
     "output_type": "execute_result"
    },
    {
     "data": {
      "text/plain": [
       "<tf.Tensor 'RandomShuffle_1:0' shape=(2, 3) dtype=float32>"
      ]
     },
     "execution_count": 24,
     "metadata": {},
     "output_type": "execute_result"
    }
   ],
   "source": [
    "import tensorflow as tf\n",
    "\n",
    "zeros = tf.zeros((4, 5))\n",
    "zeros\n",
    "\n",
    "tf.zeros_like(zeros)\n",
    "\n",
    "tf.ones((3,3))\n",
    "\n",
    "tf.linspace(0.0, 10, 2)\n",
    "\n",
    "tf.range(1, 10, 3)\n",
    "\n",
    "# 使用以下语句创建一个具有一定均值（默认值=0.0）和标准差（默认值=1.0）、形状为 [M，N] 的正态分布随机数组：\n",
    "t_random = tf.random_normal([2, 3], mean=3, stddev=2, seed=12)\n",
    "# 创建一个具有一定均值（默认值=0.0）和标准差（默认值=1.0）、形状为 [M，N] 的截尾正态分布随机数组：\n",
    "tf.truncated_normal([2, 3], mean=3, stddev=2, seed=12)\n",
    "# 要在种子的 [minval（default=0），maxval] 范围内创建形状为 [M，N] 的给定伽马分布随机数组\n",
    "tf.random_uniform([2, 3], maxval=4, seed=12)\n",
    "# 将给定的张量随机裁剪为指定的大小\n",
    "tf.random_crop(t_random, [2,5], seed=12)\n",
    "\n",
    "tf.random_shuffle(t_random)\n",
    "tf.set_random_seed(54)"
   ]
  },
  {
   "cell_type": "markdown",
   "metadata": {},
   "source": [
    "## TensorFlow 占位符"
   ]
  },
  {
   "cell_type": "code",
   "execution_count": 29,
   "metadata": {},
   "outputs": [
    {
     "name": "stdout",
     "output_type": "stream",
     "text": [
      "[[14.371388  18.858437   5.1962013 19.113733  11.579805 ]\n",
      " [ 6.3279915  2.030447   5.0634995 13.067153  11.268749 ]\n",
      " [14.369265   2.2346954 16.926502   2.628275   9.059941 ]\n",
      " [11.057608  17.84339    3.9157238  6.515671  17.315353 ]]\n"
     ]
    },
    {
     "data": {
      "text/plain": [
       "<tf.Tensor 'Placeholder_4:0' shape=<unknown> dtype=float32>"
      ]
     },
     "execution_count": 29,
     "metadata": {},
     "output_type": "execute_result"
    }
   ],
   "source": [
    "x = tf.placeholder('float')\n",
    "y = x * 2\n",
    "data = tf.random_uniform([4, 5], 10)\n",
    "with tf.Session() as sess:\n",
    "    x_data = sess.run(data)\n",
    "    print(sess.run(y, feed_dict={x: x_data}))\n",
    "    \n",
    "x"
   ]
  }
 ],
 "metadata": {
  "kernelspec": {
   "display_name": "Python 3",
   "language": "python",
   "name": "python3"
  },
  "language_info": {
   "codemirror_mode": {
    "name": "ipython",
    "version": 3
   },
   "file_extension": ".py",
   "mimetype": "text/x-python",
   "name": "python",
   "nbconvert_exporter": "python",
   "pygments_lexer": "ipython3",
   "version": "3.7.3"
  }
 },
 "nbformat": 4,
 "nbformat_minor": 2
}
