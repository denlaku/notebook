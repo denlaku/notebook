{
 "cells": [
  {
   "cell_type": "code",
   "execution_count": 3,
   "metadata": {},
   "outputs": [
    {
     "name": "stdout",
     "output_type": "stream",
     "text": [
      "武当 ['张三丰', '宋青书']\n",
      "峨眉 ['灭绝师太', '周芷若']\n"
     ]
    }
   ],
   "source": [
    "from pyspark import SparkConf, SparkContext\n",
    "\n",
    "conf = SparkConf().setMaster(\"local\").setAppName(\"First App\")\n",
    "sc = SparkContext.getOrCreate(conf)\n",
    "\n",
    "L = [(\"武当\", \"张三丰\"), (\"峨眉\", \"灭绝师太\"), (\"武当\", \"宋青书\"), (\"峨眉\", \"周芷若\")]\n",
    "\n",
    "results = sc.parallelize(L).groupByKey().collect()\n",
    "\n",
    "for result in results:\n",
    "    print(result[0], [name for name in result[1]])\n"
   ]
  }
 ],
 "metadata": {
  "kernelspec": {
   "display_name": "Python 3",
   "language": "python",
   "name": "python3"
  },
  "language_info": {
   "codemirror_mode": {
    "name": "ipython",
    "version": 3
   },
   "file_extension": ".py",
   "mimetype": "text/x-python",
   "name": "python",
   "nbconvert_exporter": "python",
   "pygments_lexer": "ipython3",
   "version": "3.7.3"
  }
 },
 "nbformat": 4,
 "nbformat_minor": 2
}
