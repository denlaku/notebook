{
 "cells": [
  {
   "cell_type": "code",
   "execution_count": 110,
   "metadata": {},
   "outputs": [],
   "source": [
    "import numpy as np\n",
    "\n",
    "# a=[[2, -4, 1], [-4, 1, 5], [0, -2, 6]]\n",
    "\n",
    "# np.linalg.det(a)\n",
    "\n",
    "# ?np.correlate\n",
    "# np.correlate([1, 2, 3], [0, 1, 0.5])\n",
    "# np.correlate([1, 2, 3], [0, 1, 0.5], \"same\")\n",
    "# np.correlate([1, 2, 3], [0, 1, 0.5], \"full\")\n",
    "# np.correlate([1+ 1j, 2, 3-1j], [0, 1, 0.5j], 'full')\n",
    "# convolve\n",
    "\n",
    "# ?np.inner\n",
    "# np.inner([4, 5, 6], [1, 2, 7])\n",
    "# np.vdot([4, 5, 6], [1, 2, 7])\n",
    "\n",
    "# np.array([[1, 2, 3], [0,0, 0]]).ravel()\n",
    "# ?np.ravel\n",
    "\n",
    "# arr = np.array([[1, 2, 3], [0,0, 0]]).flat\n",
    "# for a in arr:\n",
    "#     print(a)\n",
    "\n",
    "# np.array([[4, 2, 3], [11,22, 10]]).flatten(order='F')\n",
    "\n",
    "# arr = np.arange(24).reshape(-1, 2, 4)\n",
    "# arr\n",
    "# np.moveaxis(arr, 1, 0)\n",
    "\n",
    "# arr1 = np.arange(9).reshape(-1, 3)\n",
    "# arr1\n",
    "# arr2 = np.arange(6).reshape(-1, 2)\n",
    "# arr2\n",
    "# np.concatenate((arr1, arr2), axis=1)\n",
    "\n",
    "# ?np.stack\n",
    "# a = np.array([1, 2, 3])\n",
    "# b = np.array([2, 3, 4])\n",
    "# np.stack((a, b), axis=1)\n",
    "\n",
    "# a = np.array([[1, 2, 3], [4, 0, 5]])\n",
    "# b = np.array([[7, 6, 0], [8, 7, 11]])\n",
    "# np.stack((a, b), axis=0)\n",
    "# np.vstack((a, b))\n",
    "# np.hstack((a, b))\n",
    "\n",
    "# arr = np.arange(9)\n",
    "# np.split(arr, [2, 5, 7])\n",
    "\n",
    "# ?np.repeat\n",
    "# np.repeat([[1, 2]], 10, axis=0)\n",
    "# np.tile([1, 2], (10, 1))"
   ]
  }
 ],
 "metadata": {
  "kernelspec": {
   "display_name": "Python 3",
   "language": "python",
   "name": "python3"
  },
  "language_info": {
   "codemirror_mode": {
    "name": "ipython",
    "version": 3
   },
   "file_extension": ".py",
   "mimetype": "text/x-python",
   "name": "python",
   "nbconvert_exporter": "python",
   "pygments_lexer": "ipython3",
   "version": "3.7.3"
  }
 },
 "nbformat": 4,
 "nbformat_minor": 2
}
