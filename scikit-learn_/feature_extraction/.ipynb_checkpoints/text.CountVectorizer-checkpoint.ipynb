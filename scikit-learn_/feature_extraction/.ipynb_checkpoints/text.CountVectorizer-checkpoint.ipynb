{
 "cells": [
  {
   "cell_type": "code",
   "execution_count": 17,
   "metadata": {},
   "outputs": [
    {
     "data": {
      "text/plain": [
       "{'unc': 8,\n",
       " 'played': 5,\n",
       " 'duke': 1,\n",
       " 'basketball': 0,\n",
       " 'lost': 4,\n",
       " 'the': 7,\n",
       " 'game': 3,\n",
       " 'eat': 2,\n",
       " 'sandwich': 6}"
      ]
     },
     "execution_count": 17,
     "metadata": {},
     "output_type": "execute_result"
    },
    {
     "data": {
      "text/plain": [
       "array([[2.23606798]])"
      ]
     },
     "execution_count": 17,
     "metadata": {},
     "output_type": "execute_result"
    },
    {
     "data": {
      "text/plain": [
       "array([[2.44948974]])"
      ]
     },
     "execution_count": 17,
     "metadata": {},
     "output_type": "execute_result"
    }
   ],
   "source": [
    "from sklearn.feature_extraction.text import CountVectorizer\n",
    "from sklearn.metrics.pairwise import euclidean_distances\n",
    "# ?CountVectorizer\n",
    "count_vectorizer = CountVectorizer(stop_words=['in'])\n",
    "\n",
    "corpus = [\n",
    "    'UNC played Duke in basketball',\n",
    "    'Duke lost the basketball game'\n",
    "]\n",
    "\n",
    "X = count_vectorizer.fit_transform(corpus).todense()\n",
    "\n",
    "# count_vectorizer.transform([\n",
    "#     'UNC'\n",
    "# ]).todense()\n",
    "\n",
    "\n",
    "corpus.append('I eat a sandwich')\n",
    "\n",
    "X = count_vectorizer.fit_transform(corpus).todense()\n",
    "\n",
    "count_vectorizer.vocabulary_\n",
    "\n",
    "euclidean_distances(X[0], X[1])\n",
    "euclidean_distances(X[0], X[2])"
   ]
  }
 ],
 "metadata": {
  "kernelspec": {
   "display_name": "Python 3",
   "language": "python",
   "name": "python3"
  },
  "language_info": {
   "codemirror_mode": {
    "name": "ipython",
    "version": 3
   },
   "file_extension": ".py",
   "mimetype": "text/x-python",
   "name": "python",
   "nbconvert_exporter": "python",
   "pygments_lexer": "ipython3",
   "version": "3.7.3"
  }
 },
 "nbformat": 4,
 "nbformat_minor": 2
}
